{
 "cells": [
  {
   "cell_type": "code",
   "execution_count": 1,
   "metadata": {},
   "outputs": [],
   "source": [
    "import pandas as pd\n",
    "import numpy as np\n",
    "import random\n",
    "from potosnail import Stats"
   ]
  },
  {
   "cell_type": "code",
   "execution_count": 2,
   "metadata": {},
   "outputs": [],
   "source": [
    "df = pd.read_csv(r'C:\\Users\\aacjp\\Sales-Scientist\\datasets\\MockHyros.csv')\n",
    "df2 = pd.read_csv(r'C:\\Users\\aacjp\\Sales-Scientist\\datasets\\HyrosAugmented.csv')"
   ]
  },
  {
   "cell_type": "markdown",
   "metadata": {},
   "source": [
    "What range accuratley represents the closing rate? In more technical terms, what is the 95% confidence interval?"
   ]
  },
  {
   "cell_type": "code",
   "execution_count": 3,
   "metadata": {},
   "outputs": [
    {
     "data": {
      "text/plain": [
       "(0.3601588202439798, 0.6398411797560202)"
      ]
     },
     "execution_count": 3,
     "metadata": {},
     "output_type": "execute_result"
    }
   ],
   "source": [
    "def getCI(x, samples, n, std_range=2):\n",
    "    '''get the confidence interval for the average value in a population'''\n",
    "    Xbars = []\n",
    "    for i in range(samples):\n",
    "        sample = random.sample(x, n)\n",
    "        Xbars.append(np.mean(sample))\n",
    "    variance = np.std(Xbars)*2\n",
    "    mu = np.mean(Xbars)\n",
    "    return (mu-variance, mu+variance)\n",
    "\n",
    "output = getCI(list(df2['closed']), 10, 30) \n",
    "output"
   ]
  },
  {
   "cell_type": "code",
   "execution_count": 4,
   "metadata": {},
   "outputs": [
    {
     "name": "stdout",
     "output_type": "stream",
     "text": [
      "We are 95% sure that between 36% and 64% of our leads close\n"
     ]
    }
   ],
   "source": [
    "print('We are 95% sure that between {}% and {}% of our leads close'.format(round(output[0]*100), round(output[1]*100)))"
   ]
  },
  {
   "cell_type": "markdown",
   "metadata": {},
   "source": [
    "**Establish relevance to Hyros growth goals (find them)**"
   ]
  },
  {
   "cell_type": "code",
   "execution_count": 5,
   "metadata": {},
   "outputs": [
    {
     "data": {
      "text/plain": [
       "0.8333333333333334"
      ]
     },
     "execution_count": 5,
     "metadata": {},
     "output_type": "execute_result"
    }
   ],
   "source": [
    "def ProbsClosing(df, revenue, domain, business_model, margin=0.1):\n",
    "    minimum = revenue - margin*revenue\n",
    "    maximum = revenue + margin*revenue\n",
    "    greater = df.loc[df['monthly revenue']>minimum]\n",
    "    lesser = greater.loc[greater['monthly revenue']<maximum]\n",
    "    domain = lesser.loc[lesser['domain']==domain]\n",
    "    bm = domain.loc[domain['business model']==business_model]\n",
    "    closed = len(bm.loc[bm['closed']==1])\n",
    "    try:\n",
    "        return closed/len(bm)\n",
    "    except:\n",
    "        return 'sorry not enough data available'\n",
    "\n",
    "ProbsClosing(df, 500000, 'marketing', 'consulting', margin=0.25)"
   ]
  },
  {
   "cell_type": "code",
   "execution_count": 6,
   "metadata": {},
   "outputs": [
    {
     "data": {
      "text/plain": [
       "0.5"
      ]
     },
     "execution_count": 6,
     "metadata": {},
     "output_type": "execute_result"
    }
   ],
   "source": [
    "def ProbsClosing2(df, revenue, domain, business_model, margin=0.1):\n",
    "    minimum = revenue - margin*revenue\n",
    "    maximum = revenue + margin*revenue\n",
    "    greater = df.loc[df['monthly revenue']>minimum]\n",
    "    lesser = greater.loc[greater['monthly revenue']<maximum]\n",
    "    domain = lesser.loc[lesser[domain]==1]\n",
    "    bm = domain.loc[domain[business_model]==1]\n",
    "    closed = len(bm.loc[bm['closed']==1])\n",
    "    try:\n",
    "        return closed/len(bm)\n",
    "    except:\n",
    "        return 'sorry not enough data available'\n",
    "\n",
    "ProbsClosing2(df2, 500000, 'ecommerce', 'software', margin=0.35)"
   ]
  },
  {
   "cell_type": "code",
   "execution_count": 7,
   "metadata": {},
   "outputs": [
    {
     "data": {
      "text/plain": [
       "0       0\n",
       "1       0\n",
       "2       0\n",
       "3       0\n",
       "4       0\n",
       "       ..\n",
       "1015    0\n",
       "1016    0\n",
       "1017    1\n",
       "1018    1\n",
       "1019    0\n",
       "Name: marketing, Length: 1020, dtype: int64"
      ]
     },
     "execution_count": 7,
     "metadata": {},
     "output_type": "execute_result"
    }
   ],
   "source": [
    "df2['marketing']"
   ]
  },
  {
   "cell_type": "markdown",
   "metadata": {},
   "source": [
    "# Test for signifigant difference in adspend based on the lead's business models and whether or not they closed. AKA Chai-Squared Test."
   ]
  },
  {
   "cell_type": "markdown",
   "metadata": {},
   "source": [
    "## Goodness of fit chi-square test\n",
    "Only looking at one feature"
   ]
  },
  {
   "cell_type": "markdown",
   "metadata": {},
   "source": [
    "**H0: there is an equal probability of our leads being in each domain**"
   ]
  },
  {
   "cell_type": "code",
   "execution_count": 8,
   "metadata": {},
   "outputs": [],
   "source": [
    "#reverse one hot encoding and use bigger dataset for better results\n",
    "sample_from = df[['monthly traffic spend', 'closed', 'business model']]"
   ]
  },
  {
   "cell_type": "code",
   "execution_count": 9,
   "metadata": {},
   "outputs": [],
   "source": [
    "s1 = sample_from.sample(n=30)\n",
    "s2 = sample_from.sample(n=30)"
   ]
  },
  {
   "cell_type": "code",
   "execution_count": 11,
   "metadata": {},
   "outputs": [
    {
     "data": {
      "text/plain": [
       "(0.5333333333333333, 1)"
      ]
     },
     "execution_count": 11,
     "metadata": {},
     "output_type": "execute_result"
    }
   ],
   "source": [
    "def GOF(sample, cat_feat, alpha=0.05):\n",
    "    vc = dict(sample[cat_feat].value_counts())\n",
    "    values = list(vc.keys())\n",
    "    E = len(sample)/len(values)\n",
    "    X2 = 0\n",
    "    for v in values: \n",
    "        o = len(sample.loc[sample[cat_feat]==v])\n",
    "        numerator = (o-E)**2\n",
    "        X2 += numerator/E\n",
    "    ddof = len(values)-1\n",
    "    return X2, ddof\n",
    "\n",
    "GOF(s1, 'closed')"
   ]
  },
  {
   "cell_type": "code",
   "execution_count": 12,
   "metadata": {},
   "outputs": [],
   "source": [
    "chiSquare, dof = GOF(s1, 'business model')"
   ]
  },
  {
   "cell_type": "code",
   "execution_count": 15,
   "metadata": {},
   "outputs": [
    {
     "data": {
      "text/plain": [
       "False"
      ]
     },
     "execution_count": 15,
     "metadata": {},
     "output_type": "execute_result"
    }
   ],
   "source": [
    "tCrit = 9.81\n",
    "chiSquare > tCrit"
   ]
  },
  {
   "cell_type": "markdown",
   "metadata": {},
   "source": [
    "**We accept Ho**"
   ]
  },
  {
   "cell_type": "markdown",
   "metadata": {},
   "source": [
    "1. is business domain independant of closing or not?\n",
    "2. is business model independant of spending 6 figures a month on ads?"
   ]
  },
  {
   "cell_type": "code",
   "execution_count": 16,
   "metadata": {},
   "outputs": [
    {
     "data": {
      "text/plain": [
       "5.824763471822294"
      ]
     },
     "execution_count": 16,
     "metadata": {},
     "output_type": "execute_result"
    }
   ],
   "source": [
    "def chiSquare(sample, categorical, binary):\n",
    "    categories = list(np.unique(sample[categorical]))\n",
    "    binaries = list(np.unique(sample[binary]))\n",
    "    ddof = len(categories)-1\n",
    "    rate = len(sample.loc[sample[binary]==binaries[0]]) / len(sample)\n",
    "    inv = 1 - rate\n",
    "    E = len(sample) / len(categories)\n",
    "    X2 = 0\n",
    "    for c in categories:\n",
    "        df = sample.loc[sample[categorical]==c]\n",
    "        o1 = len(df.loc[df[binary]==binaries[0]])\n",
    "        o2 = len(df.loc[df[binary]==binaries[1]])\n",
    "        E1 = ((len(sample)*rate)*len(df)) / len(sample)\n",
    "        E2 = ((len(sample)*inv)*len(df)) / len(sample)\n",
    "        x1 = (o1-E1)**2/E1\n",
    "        x2 = (o2-E2)**2/E2\n",
    "        X2 += (x1+x2)\n",
    "    return X2\n",
    "        \n",
    "chiSquare(s1, 'business model', 'closed')"
   ]
  },
  {
   "cell_type": "code",
   "execution_count": 20,
   "metadata": {},
   "outputs": [],
   "source": [
    "tCrit = 3.19"
   ]
  },
  {
   "cell_type": "markdown",
   "metadata": {},
   "source": [
    "We reject the null hypothesis, closing rate is dependant on business model"
   ]
  },
  {
   "cell_type": "code",
   "execution_count": 31,
   "metadata": {},
   "outputs": [],
   "source": [
    "models = list(np.unique(df['business model']))\n",
    "cr = []\n",
    "for m in models:\n",
    "    x = df.loc[df['business model']==m]\n",
    "    xc = x.loc[x['closed']==1]\n",
    "    try:\n",
    "        cr.append(len(xc)/len(x))\n",
    "    except:\n",
    "        cr.append(0)"
   ]
  },
  {
   "cell_type": "code",
   "execution_count": 32,
   "metadata": {},
   "outputs": [
    {
     "data": {
      "text/plain": [
       "<AxesSubplot:>"
      ]
     },
     "execution_count": 32,
     "metadata": {},
     "output_type": "execute_result"
    },
    {
     "data": {
      "image/png": "[encoded data removed]",
      "text/plain": [
       "<Figure size 432x288 with 1 Axes>"
      ]
     },
     "metadata": {
      "needs_background": "light"
     },
     "output_type": "display_data"
    }
   ],
   "source": [
    "import seaborn as sns\n",
    "\n",
    "sns.barplot(models, cr)"
   ]
  },
  {
   "cell_type": "markdown",
   "metadata": {},
   "source": [
    "Info businesses arethe most likley to close with closing rate near 80%, restaurants and wholesales are very unlikley to close infact none of the leads in our dataset have purchased Hyros."
   ]
  },
  {
   "cell_type": "markdown",
   "metadata": {},
   "source": [
    "## H0: companies that spend over 100k a month on ads are equally likley to close as compaines that spend less than 100k a month on ads"
   ]
  },
  {
   "cell_type": "code",
   "execution_count": 34,
   "metadata": {},
   "outputs": [
    {
     "data": {
      "text/html": [
       "<div>\n",
       "<style scoped>\n",
       "    .dataframe tbody tr th:only-of-type {\n",
       "        vertical-align: middle;\n",
       "    }\n",
       "\n",
       "    .dataframe tbody tr th {\n",
       "        vertical-align: top;\n",
       "    }\n",
       "\n",
       "    .dataframe thead th {\n",
       "        text-align: right;\n",
       "    }\n",
       "</style>\n",
       "<table border=\"1\" class=\"dataframe\">\n",
       "  <thead>\n",
       "    <tr style=\"text-align: right;\">\n",
       "      <th></th>\n",
       "      <th>monthly traffic spend</th>\n",
       "      <th>closed</th>\n",
       "      <th>business model</th>\n",
       "      <th>100k</th>\n",
       "    </tr>\n",
       "  </thead>\n",
       "  <tbody>\n",
       "    <tr>\n",
       "      <th>51</th>\n",
       "      <td>194312</td>\n",
       "      <td>0</td>\n",
       "      <td>ecommerce</td>\n",
       "      <td>1</td>\n",
       "    </tr>\n",
       "    <tr>\n",
       "      <th>23</th>\n",
       "      <td>41924</td>\n",
       "      <td>1</td>\n",
       "      <td>consulting</td>\n",
       "      <td>0</td>\n",
       "    </tr>\n",
       "    <tr>\n",
       "      <th>58</th>\n",
       "      <td>120638</td>\n",
       "      <td>0</td>\n",
       "      <td>info</td>\n",
       "      <td>1</td>\n",
       "    </tr>\n",
       "    <tr>\n",
       "      <th>56</th>\n",
       "      <td>1726672</td>\n",
       "      <td>0</td>\n",
       "      <td>ecommerce</td>\n",
       "      <td>1</td>\n",
       "    </tr>\n",
       "    <tr>\n",
       "      <th>17</th>\n",
       "      <td>67760</td>\n",
       "      <td>1</td>\n",
       "      <td>info</td>\n",
       "      <td>0</td>\n",
       "    </tr>\n",
       "    <tr>\n",
       "      <th>11</th>\n",
       "      <td>45035</td>\n",
       "      <td>1</td>\n",
       "      <td>ecommerce</td>\n",
       "      <td>0</td>\n",
       "    </tr>\n",
       "    <tr>\n",
       "      <th>21</th>\n",
       "      <td>31200</td>\n",
       "      <td>1</td>\n",
       "      <td>consulting</td>\n",
       "      <td>0</td>\n",
       "    </tr>\n",
       "    <tr>\n",
       "      <th>41</th>\n",
       "      <td>1372626</td>\n",
       "      <td>0</td>\n",
       "      <td>info</td>\n",
       "      <td>1</td>\n",
       "    </tr>\n",
       "    <tr>\n",
       "      <th>48</th>\n",
       "      <td>11040372</td>\n",
       "      <td>0</td>\n",
       "      <td>software</td>\n",
       "      <td>1</td>\n",
       "    </tr>\n",
       "    <tr>\n",
       "      <th>42</th>\n",
       "      <td>79200</td>\n",
       "      <td>0</td>\n",
       "      <td>consulting</td>\n",
       "      <td>0</td>\n",
       "    </tr>\n",
       "    <tr>\n",
       "      <th>52</th>\n",
       "      <td>614796</td>\n",
       "      <td>0</td>\n",
       "      <td>ecommerce</td>\n",
       "      <td>1</td>\n",
       "    </tr>\n",
       "    <tr>\n",
       "      <th>10</th>\n",
       "      <td>97574</td>\n",
       "      <td>1</td>\n",
       "      <td>info</td>\n",
       "      <td>0</td>\n",
       "    </tr>\n",
       "    <tr>\n",
       "      <th>49</th>\n",
       "      <td>539184</td>\n",
       "      <td>0</td>\n",
       "      <td>software</td>\n",
       "      <td>1</td>\n",
       "    </tr>\n",
       "    <tr>\n",
       "      <th>29</th>\n",
       "      <td>198000</td>\n",
       "      <td>1</td>\n",
       "      <td>consulting</td>\n",
       "      <td>1</td>\n",
       "    </tr>\n",
       "    <tr>\n",
       "      <th>30</th>\n",
       "      <td>238224</td>\n",
       "      <td>0</td>\n",
       "      <td>consulting</td>\n",
       "      <td>1</td>\n",
       "    </tr>\n",
       "    <tr>\n",
       "      <th>27</th>\n",
       "      <td>37125</td>\n",
       "      <td>1</td>\n",
       "      <td>software</td>\n",
       "      <td>0</td>\n",
       "    </tr>\n",
       "    <tr>\n",
       "      <th>2</th>\n",
       "      <td>139711</td>\n",
       "      <td>1</td>\n",
       "      <td>info</td>\n",
       "      <td>1</td>\n",
       "    </tr>\n",
       "    <tr>\n",
       "      <th>5</th>\n",
       "      <td>218815</td>\n",
       "      <td>1</td>\n",
       "      <td>software</td>\n",
       "      <td>1</td>\n",
       "    </tr>\n",
       "    <tr>\n",
       "      <th>35</th>\n",
       "      <td>135545</td>\n",
       "      <td>0</td>\n",
       "      <td>ecommerce</td>\n",
       "      <td>1</td>\n",
       "    </tr>\n",
       "    <tr>\n",
       "      <th>18</th>\n",
       "      <td>36300</td>\n",
       "      <td>1</td>\n",
       "      <td>info</td>\n",
       "      <td>0</td>\n",
       "    </tr>\n",
       "    <tr>\n",
       "      <th>9</th>\n",
       "      <td>521329</td>\n",
       "      <td>1</td>\n",
       "      <td>info</td>\n",
       "      <td>1</td>\n",
       "    </tr>\n",
       "    <tr>\n",
       "      <th>8</th>\n",
       "      <td>348603</td>\n",
       "      <td>1</td>\n",
       "      <td>info</td>\n",
       "      <td>1</td>\n",
       "    </tr>\n",
       "    <tr>\n",
       "      <th>12</th>\n",
       "      <td>60984</td>\n",
       "      <td>1</td>\n",
       "      <td>info</td>\n",
       "      <td>0</td>\n",
       "    </tr>\n",
       "    <tr>\n",
       "      <th>50</th>\n",
       "      <td>23164</td>\n",
       "      <td>0</td>\n",
       "      <td>software</td>\n",
       "      <td>0</td>\n",
       "    </tr>\n",
       "    <tr>\n",
       "      <th>4</th>\n",
       "      <td>100000</td>\n",
       "      <td>1</td>\n",
       "      <td>software</td>\n",
       "      <td>0</td>\n",
       "    </tr>\n",
       "    <tr>\n",
       "      <th>13</th>\n",
       "      <td>65272</td>\n",
       "      <td>1</td>\n",
       "      <td>info</td>\n",
       "      <td>0</td>\n",
       "    </tr>\n",
       "    <tr>\n",
       "      <th>31</th>\n",
       "      <td>79200</td>\n",
       "      <td>0</td>\n",
       "      <td>consulting</td>\n",
       "      <td>0</td>\n",
       "    </tr>\n",
       "    <tr>\n",
       "      <th>22</th>\n",
       "      <td>198000</td>\n",
       "      <td>1</td>\n",
       "      <td>consulting</td>\n",
       "      <td>1</td>\n",
       "    </tr>\n",
       "    <tr>\n",
       "      <th>44</th>\n",
       "      <td>63492</td>\n",
       "      <td>0</td>\n",
       "      <td>consulting</td>\n",
       "      <td>0</td>\n",
       "    </tr>\n",
       "    <tr>\n",
       "      <th>26</th>\n",
       "      <td>57413</td>\n",
       "      <td>1</td>\n",
       "      <td>info</td>\n",
       "      <td>0</td>\n",
       "    </tr>\n",
       "  </tbody>\n",
       "</table>\n",
       "</div>"
      ],
      "text/plain": [
       "    monthly traffic spend  closed business model  100k\n",
       "51                 194312       0      ecommerce     1\n",
       "23                  41924       1     consulting     0\n",
       "58                 120638       0           info     1\n",
       "56                1726672       0      ecommerce     1\n",
       "17                  67760       1           info     0\n",
       "11                  45035       1      ecommerce     0\n",
       "21                  31200       1     consulting     0\n",
       "41                1372626       0           info     1\n",
       "48               11040372       0       software     1\n",
       "42                  79200       0     consulting     0\n",
       "52                 614796       0      ecommerce     1\n",
       "10                  97574       1           info     0\n",
       "49                 539184       0       software     1\n",
       "29                 198000       1     consulting     1\n",
       "30                 238224       0     consulting     1\n",
       "27                  37125       1       software     0\n",
       "2                  139711       1           info     1\n",
       "5                  218815       1       software     1\n",
       "35                 135545       0      ecommerce     1\n",
       "18                  36300       1           info     0\n",
       "9                  521329       1           info     1\n",
       "8                  348603       1           info     1\n",
       "12                  60984       1           info     0\n",
       "50                  23164       0       software     0\n",
       "4                  100000       1       software     0\n",
       "13                  65272       1           info     0\n",
       "31                  79200       0     consulting     0\n",
       "22                 198000       1     consulting     1\n",
       "44                  63492       0     consulting     0\n",
       "26                  57413       1           info     0"
      ]
     },
     "execution_count": 34,
     "metadata": {},
     "output_type": "execute_result"
    }
   ],
   "source": [
    "s1['100k'] = s1['monthly traffic spend'].apply(lambda x: int(x>100000))\n",
    "s1"
   ]
  },
  {
   "cell_type": "code",
   "execution_count": 35,
   "metadata": {},
   "outputs": [
    {
     "data": {
      "text/plain": [
       "3.393665158371041"
      ]
     },
     "execution_count": 35,
     "metadata": {},
     "output_type": "execute_result"
    }
   ],
   "source": [
    "chiSquare(s1, '100k', 'closed')"
   ]
  },
  {
   "cell_type": "markdown",
   "metadata": {},
   "source": [
    "We reject h0! the difference in closing rate for leads that spend more or less than 100k a month on ads is statistically signifigant."
   ]
  },
  {
   "cell_type": "code",
   "execution_count": 40,
   "metadata": {},
   "outputs": [
    {
     "data": {
      "text/plain": [
       "1    15\n",
       "0    12\n",
       "Name: closed, dtype: int64"
      ]
     },
     "execution_count": 40,
     "metadata": {},
     "output_type": "execute_result"
    }
   ],
   "source": [
    "df['100k'] = df['monthly traffic spend'].apply(lambda x: int(x>100000))\n",
    "df.loc[df['100k']==1]['closed'].value_counts()"
   ]
  },
  {
   "cell_type": "code",
   "execution_count": 43,
   "metadata": {},
   "outputs": [
    {
     "data": {
      "text/plain": [
       "0.5555555555555556"
      ]
     },
     "execution_count": 43,
     "metadata": {},
     "output_type": "execute_result"
    }
   ],
   "source": [
    "15/27"
   ]
  },
  {
   "cell_type": "code",
   "execution_count": 44,
   "metadata": {},
   "outputs": [
    {
     "data": {
      "text/plain": [
       "0    18\n",
       "1    15\n",
       "Name: closed, dtype: int64"
      ]
     },
     "execution_count": 44,
     "metadata": {},
     "output_type": "execute_result"
    }
   ],
   "source": [
    "df.loc[df['100k']==0]['closed'].value_counts()"
   ]
  },
  {
   "cell_type": "code",
   "execution_count": 45,
   "metadata": {},
   "outputs": [
    {
     "data": {
      "text/plain": [
       "0.45454545454545453"
      ]
     },
     "execution_count": 45,
     "metadata": {},
     "output_type": "execute_result"
    }
   ],
   "source": [
    "15/33"
   ]
  },
  {
   "cell_type": "markdown",
   "metadata": {},
   "source": [
    "55.6% of leads spending more than 100,000 a month on ads closed compared to just 45.4% for those spending less than 100,000 a month."
   ]
  },
  {
   "cell_type": "code",
   "execution_count": null,
   "metadata": {},
   "outputs": [],
   "source": []
  }
 ],
 "metadata": {
  "kernelspec": {
   "display_name": "Python 3",
   "language": "python",
   "name": "python3"
  },
  "language_info": {
   "codemirror_mode": {
    "name": "ipython",
    "version": 3
   },
   "file_extension": ".py",
   "mimetype": "text/x-python",
   "name": "python",
   "nbconvert_exporter": "python",
   "pygments_lexer": "ipython3",
   "version": "3.8.5"
  }
 },
 "nbformat": 4,
 "nbformat_minor": 4
}
