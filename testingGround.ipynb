{
 "cells": [
  {
   "cell_type": "code",
   "execution_count": 1,
   "metadata": {
    "scrolled": true
   },
   "outputs": [],
   "source": [
    "import pandas as pd\n",
    "\n",
    "df = pd.read_csv(r'C:\\Users\\aacjp\\Spencer\\datasets\\MockHyros.csv').drop(['Unnamed: 0'], axis='columns')"
   ]
  },
  {
   "cell_type": "markdown",
   "metadata": {},
   "source": [
    "The Hack: http://sangaline.com/post/advanced-web-scraping-tutorial/"
   ]
  },
  {
   "cell_type": "code",
   "execution_count": 2,
   "metadata": {},
   "outputs": [
    {
     "data": {
      "text/html": [
       "<div>\n",
       "<style scoped>\n",
       "    .dataframe tbody tr th:only-of-type {\n",
       "        vertical-align: middle;\n",
       "    }\n",
       "\n",
       "    .dataframe tbody tr th {\n",
       "        vertical-align: top;\n",
       "    }\n",
       "\n",
       "    .dataframe thead th {\n",
       "        text-align: right;\n",
       "    }\n",
       "</style>\n",
       "<table border=\"1\" class=\"dataframe\">\n",
       "  <thead>\n",
       "    <tr style=\"text-align: right;\">\n",
       "      <th></th>\n",
       "      <th>lead</th>\n",
       "      <th>closed</th>\n",
       "      <th>monthly traffic spend</th>\n",
       "      <th>n paid traffic platforms</th>\n",
       "      <th>domain</th>\n",
       "      <th>business model</th>\n",
       "      <th>monthly revenue</th>\n",
       "      <th>% paid traffic</th>\n",
       "      <th>average order value</th>\n",
       "      <th>new customers</th>\n",
       "      <th>...</th>\n",
       "      <th>ad revenue</th>\n",
       "      <th>roas</th>\n",
       "      <th>cac</th>\n",
       "      <th>profit</th>\n",
       "      <th>keyword matchtype</th>\n",
       "      <th>n links lp</th>\n",
       "      <th>n words lp</th>\n",
       "      <th>trigger words  lp</th>\n",
       "      <th>lpc</th>\n",
       "      <th>profit margin</th>\n",
       "    </tr>\n",
       "  </thead>\n",
       "  <tbody>\n",
       "    <tr>\n",
       "      <th>0</th>\n",
       "      <td>FrankKern.com</td>\n",
       "      <td>1</td>\n",
       "      <td>52184.0</td>\n",
       "      <td>5.0</td>\n",
       "      <td>entrepreneurship</td>\n",
       "      <td>info</td>\n",
       "      <td>NaN</td>\n",
       "      <td>9.81</td>\n",
       "      <td>NaN</td>\n",
       "      <td>NaN</td>\n",
       "      <td>...</td>\n",
       "      <td>NaN</td>\n",
       "      <td>NaN</td>\n",
       "      <td>NaN</td>\n",
       "      <td>NaN</td>\n",
       "      <td>NaN</td>\n",
       "      <td>NaN</td>\n",
       "      <td>NaN</td>\n",
       "      <td>NaN</td>\n",
       "      <td>NaN</td>\n",
       "      <td>NaN</td>\n",
       "    </tr>\n",
       "    <tr>\n",
       "      <th>1</th>\n",
       "      <td>ImpactTheory.Com</td>\n",
       "      <td>1</td>\n",
       "      <td>NaN</td>\n",
       "      <td>NaN</td>\n",
       "      <td>self-development</td>\n",
       "      <td>media</td>\n",
       "      <td>NaN</td>\n",
       "      <td>NaN</td>\n",
       "      <td>NaN</td>\n",
       "      <td>NaN</td>\n",
       "      <td>...</td>\n",
       "      <td>NaN</td>\n",
       "      <td>NaN</td>\n",
       "      <td>NaN</td>\n",
       "      <td>NaN</td>\n",
       "      <td>NaN</td>\n",
       "      <td>NaN</td>\n",
       "      <td>NaN</td>\n",
       "      <td>NaN</td>\n",
       "      <td>NaN</td>\n",
       "      <td>NaN</td>\n",
       "    </tr>\n",
       "    <tr>\n",
       "      <th>2</th>\n",
       "      <td>digitalmillionairesecrets.com</td>\n",
       "      <td>1</td>\n",
       "      <td>NaN</td>\n",
       "      <td>NaN</td>\n",
       "      <td>entrepreneurship</td>\n",
       "      <td>info</td>\n",
       "      <td>NaN</td>\n",
       "      <td>NaN</td>\n",
       "      <td>NaN</td>\n",
       "      <td>NaN</td>\n",
       "      <td>...</td>\n",
       "      <td>NaN</td>\n",
       "      <td>NaN</td>\n",
       "      <td>NaN</td>\n",
       "      <td>NaN</td>\n",
       "      <td>NaN</td>\n",
       "      <td>NaN</td>\n",
       "      <td>NaN</td>\n",
       "      <td>NaN</td>\n",
       "      <td>NaN</td>\n",
       "      <td>NaN</td>\n",
       "    </tr>\n",
       "    <tr>\n",
       "      <th>3</th>\n",
       "      <td>mastermind.com</td>\n",
       "      <td>1</td>\n",
       "      <td>NaN</td>\n",
       "      <td>NaN</td>\n",
       "      <td>entrepreneurship</td>\n",
       "      <td>software</td>\n",
       "      <td>NaN</td>\n",
       "      <td>NaN</td>\n",
       "      <td>NaN</td>\n",
       "      <td>NaN</td>\n",
       "      <td>...</td>\n",
       "      <td>NaN</td>\n",
       "      <td>NaN</td>\n",
       "      <td>NaN</td>\n",
       "      <td>NaN</td>\n",
       "      <td>NaN</td>\n",
       "      <td>NaN</td>\n",
       "      <td>NaN</td>\n",
       "      <td>NaN</td>\n",
       "      <td>NaN</td>\n",
       "      <td>NaN</td>\n",
       "    </tr>\n",
       "    <tr>\n",
       "      <th>4</th>\n",
       "      <td>ShopaNova.com</td>\n",
       "      <td>1</td>\n",
       "      <td>NaN</td>\n",
       "      <td>NaN</td>\n",
       "      <td>ecommerce</td>\n",
       "      <td>software</td>\n",
       "      <td>NaN</td>\n",
       "      <td>NaN</td>\n",
       "      <td>NaN</td>\n",
       "      <td>NaN</td>\n",
       "      <td>...</td>\n",
       "      <td>NaN</td>\n",
       "      <td>NaN</td>\n",
       "      <td>NaN</td>\n",
       "      <td>NaN</td>\n",
       "      <td>NaN</td>\n",
       "      <td>NaN</td>\n",
       "      <td>NaN</td>\n",
       "      <td>NaN</td>\n",
       "      <td>NaN</td>\n",
       "      <td>NaN</td>\n",
       "    </tr>\n",
       "  </tbody>\n",
       "</table>\n",
       "<p>5 rows × 28 columns</p>\n",
       "</div>"
      ],
      "text/plain": [
       "                            lead  closed  monthly traffic spend  \\\n",
       "0                  FrankKern.com       1                52184.0   \n",
       "1               ImpactTheory.Com       1                    NaN   \n",
       "2  digitalmillionairesecrets.com       1                    NaN   \n",
       "3                 mastermind.com       1                    NaN   \n",
       "4                  ShopaNova.com       1                    NaN   \n",
       "\n",
       "   n paid traffic platforms            domain business model  monthly revenue  \\\n",
       "0                       5.0  entrepreneurship           info              NaN   \n",
       "1                       NaN  self-development          media              NaN   \n",
       "2                       NaN  entrepreneurship           info              NaN   \n",
       "3                       NaN  entrepreneurship       software              NaN   \n",
       "4                       NaN         ecommerce       software              NaN   \n",
       "\n",
       "   % paid traffic  average order value  new customers  ...  ad revenue  roas  \\\n",
       "0            9.81                  NaN            NaN  ...         NaN   NaN   \n",
       "1             NaN                  NaN            NaN  ...         NaN   NaN   \n",
       "2             NaN                  NaN            NaN  ...         NaN   NaN   \n",
       "3             NaN                  NaN            NaN  ...         NaN   NaN   \n",
       "4             NaN                  NaN            NaN  ...         NaN   NaN   \n",
       "\n",
       "   cac  profit  keyword matchtype n links lp  n words lp  trigger words  lp  \\\n",
       "0  NaN     NaN                NaN        NaN         NaN                NaN   \n",
       "1  NaN     NaN                NaN        NaN         NaN                NaN   \n",
       "2  NaN     NaN                NaN        NaN         NaN                NaN   \n",
       "3  NaN     NaN                NaN        NaN         NaN                NaN   \n",
       "4  NaN     NaN                NaN        NaN         NaN                NaN   \n",
       "\n",
       "   lpc  profit margin  \n",
       "0  NaN            NaN  \n",
       "1  NaN            NaN  \n",
       "2  NaN            NaN  \n",
       "3  NaN            NaN  \n",
       "4  NaN            NaN  \n",
       "\n",
       "[5 rows x 28 columns]"
      ]
     },
     "execution_count": 2,
     "metadata": {},
     "output_type": "execute_result"
    }
   ],
   "source": [
    "df.head()"
   ]
  },
  {
   "cell_type": "code",
   "execution_count": 3,
   "metadata": {},
   "outputs": [
    {
     "data": {
      "text/plain": [
       "'FrankKern.com'"
      ]
     },
     "execution_count": 3,
     "metadata": {},
     "output_type": "execute_result"
    }
   ],
   "source": [
    "df['lead'][0]"
   ]
  },
  {
   "cell_type": "markdown",
   "metadata": {},
   "source": [
    "https://platform.fullcontact.com/developers/api-keys"
   ]
  },
  {
   "cell_type": "code",
   "execution_count": 1,
   "metadata": {},
   "outputs": [],
   "source": [
    "import mysql.connector"
   ]
  },
  {
   "cell_type": "code",
   "execution_count": 2,
   "metadata": {},
   "outputs": [
    {
     "name": "stdout",
     "output_type": "stream",
     "text": [
      "Enter username: root\n",
      "Enter password: ········\n"
     ]
    }
   ],
   "source": [
    "from getpass import getpass\n",
    "from mysql.connector import connect, Error\n",
    "\n",
    "connection = connect(host=\"localhost\",\n",
    "        user=input(\"Enter username: \"),\n",
    "        password=getpass(\"Enter password: \"), \n",
    "        database='dummy')"
   ]
  },
  {
   "cell_type": "code",
   "execution_count": 3,
   "metadata": {},
   "outputs": [],
   "source": [
    "cursor = connection.cursor()"
   ]
  },
  {
   "cell_type": "code",
   "execution_count": 4,
   "metadata": {},
   "outputs": [
    {
     "data": {
      "text/plain": [
       "<mysql.connector.cursor.MySQLCursor at 0x2657af52f10>"
      ]
     },
     "execution_count": 4,
     "metadata": {},
     "output_type": "execute_result"
    }
   ],
   "source": [
    "cursor"
   ]
  },
  {
   "cell_type": "code",
   "execution_count": 7,
   "metadata": {},
   "outputs": [
    {
     "data": {
      "text/plain": [
       "[(1, 'psycology', 'El Segundo', 'Toyota Rav 4', 1000, 216000),\n",
       " (2, 'marketing', 'Century City', 'BMW i8', 15000, 2400000),\n",
       " (3, 'entertainment', 'Brentwood', 'Mercedez-Benz 550', 4500, 408000),\n",
       " (7, 'finance', 'Pasadena', 'Honda Accord', 1000, 81000),\n",
       " (8, 'AI', 'Burbank', 'Toyota Tacoma', 10000, 9600000),\n",
       " (9, 'AI', 'Century City', 'Toyota 86', 30000, 9600000),\n",
       " (10, 'retail', 'Glendale', 'Toyota Carolla', 780, 31200),\n",
       " (11, 'ecommerce', 'Beverly Hills', 'Ferarri 458', 100000, 12720000),\n",
       " (12, 'sales', 'Santa Monica', 'no car', 2000, 108000),\n",
       " (13, 'agriculture', 'Topanga', 'Nissan Leaf', 1700, 360000)]"
      ]
     },
     "execution_count": 7,
     "metadata": {},
     "output_type": "execute_result"
    }
   ],
   "source": [
    "q = 'select * from personas;'\n",
    "cursor.execute(q)\n",
    "cursor.fetchall()"
   ]
  },
  {
   "cell_type": "code",
   "execution_count": 6,
   "metadata": {},
   "outputs": [],
   "source": [
    "q = '''insert into personas (industry, residence, car, rent, income) \n",
    "values ('agriculture', 'Topanga', 'Nissan Leaf', 1700, 360000)'''\n",
    "cursor.execute(q)"
   ]
  },
  {
   "cell_type": "code",
   "execution_count": 8,
   "metadata": {},
   "outputs": [],
   "source": [
    "connection.commit()"
   ]
  },
  {
   "cell_type": "code",
   "execution_count": null,
   "metadata": {},
   "outputs": [],
   "source": []
  }
 ],
 "metadata": {
  "kernelspec": {
   "display_name": "Python 3",
   "language": "python",
   "name": "python3"
  },
  "language_info": {
   "codemirror_mode": {
    "name": "ipython",
    "version": 3
   },
   "file_extension": ".py",
   "mimetype": "text/x-python",
   "name": "python",
   "nbconvert_exporter": "python",
   "pygments_lexer": "ipython3",
   "version": "3.8.5"
  }
 },
 "nbformat": 4,
 "nbformat_minor": 4
}
