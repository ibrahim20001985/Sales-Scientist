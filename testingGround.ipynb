{
 "cells": [
  {
   "cell_type": "code",
   "execution_count": 28,
   "metadata": {
    "scrolled": true
   },
   "outputs": [],
   "source": [
    "import pandas as pd\n",
    "from fullcontact import FullContactClient\n",
    "import numpy as np\n",
    "from imblearn.over_sampling import SMOTENC\n",
    "from helpers import Data\n",
    "from urllib.request import urlopen, Request\n",
    "import mysql.connector\n",
    "from getpass import getpass\n",
    "from mysql.connector import connect\n",
    "from bs4 import BeautifulSoup\n",
    "import requests\n",
    "import re\n",
    "from helpers import individualFeatures, Data, Scraping\n",
    "\n",
    "\n",
    "w = pd.read_csv(r'C:\\Users\\aacjp\\Sales-Scientist\\datasets\\check6.csv')"
   ]
  },
  {
   "cell_type": "code",
   "execution_count": 29,
   "metadata": {},
   "outputs": [],
   "source": [
    "from helpers import Scraping"
   ]
  },
  {
   "cell_type": "code",
   "execution_count": 41,
   "metadata": {},
   "outputs": [
    {
     "data": {
      "text/plain": [
       "277"
      ]
     },
     "execution_count": 41,
     "metadata": {},
     "output_type": "execute_result"
    }
   ],
   "source": [
    "string = '''\n",
    "Courses as low as $13.99\n",
    "For an extra 10% off sale prices, use SAVE10 in cart. Ends Aug. 26.\n",
    "\n",
    "What do you want to learn?\n",
    "What do you want to learn?\n",
    "A broad selection of courses\n",
    "Choose from 155,000 online video courses with new additions published every month\n",
    "Expand your career opportunities with Python\n",
    "Whether you work in machine learning or finance, or are pursuing a career in web development or data science, Python is one of the most important skills you can learn. Python's simple syntax is especially suited for desktop, web, and business applications. Python's design philosophy emphasizes readability and usability. Python was developed upon the premise that there should be only one way (and preferably one obvious way) to do things, a philosophy that has resulted in a strict level of code standardization. The core programming language is quite small and the standard library is also large. In fact, Python's large library is one of its greatest benefits, providing a variety of different tools for programmers suited for many different tasks.\n",
    "\n",
    "\n",
    "2021 Complete Python Bootcamp From Zero to Hero in Python\n",
    "Jose Portilla\n",
    "Rating: 4.6 out of 5\n",
    "4.6\n",
    "(378,451)\n",
    "Current price$23.99\n",
    "Original Price$139.99\n",
    "\n",
    "Machine Learning A-Z™: Hands-On Python & R In Data Science\n",
    "Kirill Eremenko, Hadelin de Ponteves, SuperDataScience Support, Ligency Team\n",
    "Rating: 4.5 out of 5\n",
    "4.5\n",
    "(149,626)\n",
    "Current price$13.99\n",
    "Original Price$89.99\n",
    "Bestseller\n",
    "\n",
    "Python for Data Science and Machine Learning Bootcamp\n",
    "Jose Portilla\n",
    "Rating: 4.6 out of 5\n",
    "4.6\n",
    "(103,723)\n",
    "Current price$13.99\n",
    "Original Price$89.99\n",
    "\n",
    "Learn Python Programming Masterclass\n",
    "Tim Buchalka, Jean-Paul Roberts, Tim Buchalka's Learn Programming Academy\n",
    "Rating: 4.5 out of 5\n",
    "4.5\n",
    "(79,891)\n",
    "Current price$22.99\n",
    "Original Price$139.99\n",
    "\n",
    "The Python Mega Course: Build 10 Real World Applications\n",
    "Ardit Sulce\n",
    "Rating: 4.6 out of 5\n",
    "4.6\n",
    "(51,410)\n",
    "Current price$21.99\n",
    "Original Price$129.99\n",
    "\n",
    "\n",
    "\n",
    "\n",
    "\n",
    "\n",
    "Learn in-demand skills with over 155,000 video courses\n",
    "Choose courses taught by real-world experts\n",
    "Learn at your own pace, with lifetime access on mobile and desktop\n",
    "Students are viewing\n",
    "'''\n",
    "\n",
    "len(string.split(' '))"
   ]
  },
  {
   "cell_type": "code",
   "execution_count": 42,
   "metadata": {},
   "outputs": [],
   "source": [
    "from helpers import individualFeatures"
   ]
  },
  {
   "cell_type": "code",
   "execution_count": 43,
   "metadata": {},
   "outputs": [
    {
     "data": {
      "text/plain": [
       "1"
      ]
     },
     "execution_count": 43,
     "metadata": {},
     "output_type": "execute_result"
    }
   ],
   "source": [
    "individualFeatures().triggerWords(string) #string)"
   ]
  },
  {
   "cell_type": "code",
   "execution_count": 3,
   "metadata": {},
   "outputs": [
    {
     "data": {
      "text/html": [
       "<div>\n",
       "<style scoped>\n",
       "    .dataframe tbody tr th:only-of-type {\n",
       "        vertical-align: middle;\n",
       "    }\n",
       "\n",
       "    .dataframe tbody tr th {\n",
       "        vertical-align: top;\n",
       "    }\n",
       "\n",
       "    .dataframe thead th {\n",
       "        text-align: right;\n",
       "    }\n",
       "</style>\n",
       "<table border=\"1\" class=\"dataframe\">\n",
       "  <thead>\n",
       "    <tr style=\"text-align: right;\">\n",
       "      <th></th>\n",
       "      <th>name</th>\n",
       "      <th>landingPage</th>\n",
       "      <th>customer</th>\n",
       "      <th>domain</th>\n",
       "      <th>model</th>\n",
       "      <th>source</th>\n",
       "      <th>adspend</th>\n",
       "      <th>hardcosts</th>\n",
       "      <th>revenue</th>\n",
       "      <th>avg_polarity</th>\n",
       "      <th>...</th>\n",
       "      <th>global</th>\n",
       "      <th>percentPaid</th>\n",
       "      <th>sales</th>\n",
       "      <th>adRevenue</th>\n",
       "      <th>cac</th>\n",
       "      <th>roas</th>\n",
       "      <th>profit</th>\n",
       "      <th>profitMargin</th>\n",
       "      <th>lpc</th>\n",
       "      <th>averageOrderValue</th>\n",
       "    </tr>\n",
       "  </thead>\n",
       "  <tbody>\n",
       "    <tr>\n",
       "      <th>57</th>\n",
       "      <td>cleverprogrammer.com</td>\n",
       "      <td>https://www.cleverprogrammer.com/frontend-trai...</td>\n",
       "      <td>0</td>\n",
       "      <td>technology</td>\n",
       "      <td>info</td>\n",
       "      <td>NaN</td>\n",
       "      <td>50000</td>\n",
       "      <td>18000</td>\n",
       "      <td>100000</td>\n",
       "      <td>NaN</td>\n",
       "      <td>...</td>\n",
       "      <td>NaN</td>\n",
       "      <td>NaN</td>\n",
       "      <td>NaN</td>\n",
       "      <td>NaN</td>\n",
       "      <td>NaN</td>\n",
       "      <td>NaN</td>\n",
       "      <td>NaN</td>\n",
       "      <td>NaN</td>\n",
       "      <td>NaN</td>\n",
       "      <td>NaN</td>\n",
       "    </tr>\n",
       "    <tr>\n",
       "      <th>58</th>\n",
       "      <td>udemy.com</td>\n",
       "      <td>https://www.udemy.com/</td>\n",
       "      <td>0</td>\n",
       "      <td>technology</td>\n",
       "      <td>info</td>\n",
       "      <td>NaN</td>\n",
       "      <td>12500000</td>\n",
       "      <td>12000000</td>\n",
       "      <td>33000000</td>\n",
       "      <td>NaN</td>\n",
       "      <td>...</td>\n",
       "      <td>NaN</td>\n",
       "      <td>NaN</td>\n",
       "      <td>NaN</td>\n",
       "      <td>NaN</td>\n",
       "      <td>NaN</td>\n",
       "      <td>NaN</td>\n",
       "      <td>NaN</td>\n",
       "      <td>NaN</td>\n",
       "      <td>NaN</td>\n",
       "      <td>NaN</td>\n",
       "    </tr>\n",
       "  </tbody>\n",
       "</table>\n",
       "<p>2 rows × 34 columns</p>\n",
       "</div>"
      ],
      "text/plain": [
       "                    name                                        landingPage  \\\n",
       "57  cleverprogrammer.com  https://www.cleverprogrammer.com/frontend-trai...   \n",
       "58             udemy.com                             https://www.udemy.com/   \n",
       "\n",
       "    customer      domain model source   adspend  hardcosts   revenue  \\\n",
       "57         0  technology  info    NaN     50000      18000    100000   \n",
       "58         0  technology  info    NaN  12500000   12000000  33000000   \n",
       "\n",
       "    avg_polarity  ...  global  percentPaid  sales  adRevenue  cac  roas  \\\n",
       "57           NaN  ...     NaN          NaN    NaN        NaN  NaN   NaN   \n",
       "58           NaN  ...     NaN          NaN    NaN        NaN  NaN   NaN   \n",
       "\n",
       "    profit  profitMargin  lpc  averageOrderValue  \n",
       "57     NaN           NaN  NaN                NaN  \n",
       "58     NaN           NaN  NaN                NaN  \n",
       "\n",
       "[2 rows x 34 columns]"
      ]
     },
     "execution_count": 3,
     "metadata": {},
     "output_type": "execute_result"
    }
   ],
   "source": [
    "df = w.iloc[-2:]\n",
    "df"
   ]
  },
  {
   "cell_type": "code",
   "execution_count": 27,
   "metadata": {},
   "outputs": [
    {
     "ename": "ImportError",
     "evalue": "cannot import name 'Scrapers' from 'helpers' (C:\\Users\\aacjp\\Sales-Scientist\\helpers.py)",
     "output_type": "error",
     "traceback": [
      "\u001b[1;31m---------------------------------------------------------------------------\u001b[0m",
      "\u001b[1;31mImportError\u001b[0m                               Traceback (most recent call last)",
      "\u001b[1;32m<ipython-input-27-84672c98064e>\u001b[0m in \u001b[0;36m<module>\u001b[1;34m\u001b[0m\n\u001b[0;32m      1\u001b[0m \u001b[1;32mfrom\u001b[0m \u001b[0mconvert\u001b[0m \u001b[1;32mimport\u001b[0m \u001b[0mFeatures\u001b[0m\u001b[1;33m,\u001b[0m \u001b[0mWrappers\u001b[0m\u001b[1;33m\u001b[0m\u001b[1;33m\u001b[0m\u001b[0m\n\u001b[1;32m----> 2\u001b[1;33m \u001b[1;32mfrom\u001b[0m \u001b[0mhelpers\u001b[0m \u001b[1;32mimport\u001b[0m \u001b[0mScrapers\u001b[0m\u001b[1;33m\u001b[0m\u001b[1;33m\u001b[0m\u001b[0m\n\u001b[0m",
      "\u001b[1;31mImportError\u001b[0m: cannot import name 'Scrapers' from 'helpers' (C:\\Users\\aacjp\\Sales-Scientist\\helpers.py)"
     ]
    }
   ],
   "source": [
    "from convert import Features, Wrappers"
   ]
  },
  {
   "cell_type": "markdown",
   "metadata": {},
   "source": [
    "The Hack: http://sangaline.com/post/advanced-web-scraping-tutorial/"
   ]
  },
  {
   "cell_type": "code",
   "execution_count": 5,
   "metadata": {},
   "outputs": [],
   "source": [
    "connection = connect(host='localhost', user='root', password='Raptor//Kona9', database='sys')\n",
    "cursor = connection.cursor()"
   ]
  },
  {
   "cell_type": "code",
   "execution_count": 6,
   "metadata": {},
   "outputs": [],
   "source": [
    "def analyzeTweets(keyword):\n",
    "    keys = open(r'C:\\Users\\aacjp\\OneDrive\\Desktop\\ssh\\Twitter\\keys.txt').readlines()\n",
    "    a1 = keys[0].replace('\\n', '') \n",
    "    a2 = keys[1].replace('\\n', '') \n",
    "    c1 = keys[2].replace('\\n', '') \n",
    "    c2 = keys[3].replace('\\n', '') \n",
    "    auth = tweepy.OAuthHandler(c1, c2)\n",
    "    auth.set_access_token(a1, a2)\n",
    "    api = tweepy.API(auth)\n",
    "    topic = api.search(keyword)\n",
    "    polarity = []\n",
    "    subjectivity = []\n",
    "    for i in range(len(topic)):\n",
    "        tweet = topic[i]._json['text'].replace('@', '')\n",
    "        blob = TextBlob(tweet)\n",
    "        sent = blob.sentiment\n",
    "        polarity.append(sent[0])\n",
    "        subjectivity.append(sent[1])\n",
    "    mu_p = np.mean(polarity)\n",
    "    mu_s = np.mean(subjectivity)\n",
    "    std_p = np.std(polarity)\n",
    "    std_s = np.std(subjectivity)\n",
    "    return mu_p, mu_s, std_p, std_s\n",
    "    \n",
    "def getLeads(df):\n",
    "    return list(df['name'])\n",
    "    \n",
    "def leadsOnTwitter(df):\n",
    "    leads = getLeads(df)\n",
    "    mup = []\n",
    "    mus = []\n",
    "    stdp = []\n",
    "    stds = []\n",
    "    counter = 0\n",
    "    for lead in leads:\n",
    "        k = lead.split('.')[0]\n",
    "        mu_p, mu_s, std_p, std_s = Data().analyzeTweets(k)\n",
    "        mup.append(mu_p)\n",
    "        mus.append(mu_s)\n",
    "        stdp.append(std_p)\n",
    "        stds.append(std_s)\n",
    "        counter += 1\n",
    "        print(counter)\n",
    "    return mup, mus, stdp, stds\n",
    "    \n",
    "def globalRank(df):\n",
    "    leads = getLeads(df)\n",
    "    key = open(r'C:\\Users\\aacjp\\OneDrive\\Desktop\\ssh\\fullContact\\access.txt').read()\n",
    "    client = FullContactClient(key)\n",
    "    ranks = []\n",
    "    counter = 0\n",
    "    for lead in leads:\n",
    "        counter += 1\n",
    "        print(counter)\n",
    "        req = client.company.enrich(domain=lead)\n",
    "        try:\n",
    "            rank = req.json()['details']['traffic']['countryRank']['global']['rank']\n",
    "        except: \n",
    "            rank = None\n",
    "        ranks.append(rank)\n",
    "    return ranks    "
   ]
  },
  {
   "cell_type": "markdown",
   "metadata": {},
   "source": [
    "exceeded request limit, try again later"
   ]
  },
  {
   "cell_type": "code",
   "execution_count": 7,
   "metadata": {},
   "outputs": [
    {
     "name": "stdout",
     "output_type": "stream",
     "text": [
      "1\n",
      "2\n"
     ]
    }
   ],
   "source": [
    "mup, mus, stdp, stds = leadsOnTwitter(df)"
   ]
  },
  {
   "cell_type": "code",
   "execution_count": 8,
   "metadata": {
    "scrolled": true
   },
   "outputs": [
    {
     "name": "stderr",
     "output_type": "stream",
     "text": [
      "<ipython-input-8-b04a74d34fc7>:1: SettingWithCopyWarning: \n",
      "A value is trying to be set on a copy of a slice from a DataFrame.\n",
      "Try using .loc[row_indexer,col_indexer] = value instead\n",
      "\n",
      "See the caveats in the documentation: https://pandas.pydata.org/pandas-docs/stable/user_guide/indexing.html#returning-a-view-versus-a-copy\n",
      "  df['avg_polarity'] = mup\n",
      "<ipython-input-8-b04a74d34fc7>:2: SettingWithCopyWarning: \n",
      "A value is trying to be set on a copy of a slice from a DataFrame.\n",
      "Try using .loc[row_indexer,col_indexer] = value instead\n",
      "\n",
      "See the caveats in the documentation: https://pandas.pydata.org/pandas-docs/stable/user_guide/indexing.html#returning-a-view-versus-a-copy\n",
      "  df['avg_subjectivity'] = mus\n",
      "<ipython-input-8-b04a74d34fc7>:3: SettingWithCopyWarning: \n",
      "A value is trying to be set on a copy of a slice from a DataFrame.\n",
      "Try using .loc[row_indexer,col_indexer] = value instead\n",
      "\n",
      "See the caveats in the documentation: https://pandas.pydata.org/pandas-docs/stable/user_guide/indexing.html#returning-a-view-versus-a-copy\n",
      "  df['std_polarity'] = stdp\n",
      "<ipython-input-8-b04a74d34fc7>:4: SettingWithCopyWarning: \n",
      "A value is trying to be set on a copy of a slice from a DataFrame.\n",
      "Try using .loc[row_indexer,col_indexer] = value instead\n",
      "\n",
      "See the caveats in the documentation: https://pandas.pydata.org/pandas-docs/stable/user_guide/indexing.html#returning-a-view-versus-a-copy\n",
      "  df['std_subjectivity'] = stds\n"
     ]
    }
   ],
   "source": [
    "df['avg_polarity'] = mup\n",
    "df['avg_subjectivity'] = mus\n",
    "df['std_polarity'] = stdp\n",
    "df['std_subjectivity'] = stds"
   ]
  },
  {
   "cell_type": "code",
   "execution_count": 9,
   "metadata": {},
   "outputs": [
    {
     "name": "stdout",
     "output_type": "stream",
     "text": [
      "1\n",
      "2\n"
     ]
    },
    {
     "name": "stderr",
     "output_type": "stream",
     "text": [
      "<ipython-input-9-2cfd31d0330c>:1: SettingWithCopyWarning: \n",
      "A value is trying to be set on a copy of a slice from a DataFrame.\n",
      "Try using .loc[row_indexer,col_indexer] = value instead\n",
      "\n",
      "See the caveats in the documentation: https://pandas.pydata.org/pandas-docs/stable/user_guide/indexing.html#returning-a-view-versus-a-copy\n",
      "  df['global'] = globalRank(df)\n"
     ]
    }
   ],
   "source": [
    "df['global'] = globalRank(df)"
   ]
  },
  {
   "cell_type": "code",
   "execution_count": 22,
   "metadata": {},
   "outputs": [
    {
     "data": {
      "text/html": [
       "<div>\n",
       "<style scoped>\n",
       "    .dataframe tbody tr th:only-of-type {\n",
       "        vertical-align: middle;\n",
       "    }\n",
       "\n",
       "    .dataframe tbody tr th {\n",
       "        vertical-align: top;\n",
       "    }\n",
       "\n",
       "    .dataframe thead th {\n",
       "        text-align: right;\n",
       "    }\n",
       "</style>\n",
       "<table border=\"1\" class=\"dataframe\">\n",
       "  <thead>\n",
       "    <tr style=\"text-align: right;\">\n",
       "      <th></th>\n",
       "      <th>index</th>\n",
       "      <th>name</th>\n",
       "      <th>landingPage</th>\n",
       "      <th>customer</th>\n",
       "      <th>domain</th>\n",
       "      <th>model</th>\n",
       "      <th>source</th>\n",
       "      <th>adspend</th>\n",
       "      <th>hardcosts</th>\n",
       "      <th>revenue</th>\n",
       "      <th>...</th>\n",
       "      <th>global</th>\n",
       "      <th>percentPaid</th>\n",
       "      <th>sales</th>\n",
       "      <th>adRevenue</th>\n",
       "      <th>cac</th>\n",
       "      <th>roas</th>\n",
       "      <th>profit</th>\n",
       "      <th>profitMargin</th>\n",
       "      <th>lpc</th>\n",
       "      <th>averageOrderValue</th>\n",
       "    </tr>\n",
       "  </thead>\n",
       "  <tbody>\n",
       "    <tr>\n",
       "      <th>0</th>\n",
       "      <td>57</td>\n",
       "      <td>cleverprogrammer.com</td>\n",
       "      <td>https://www.cleverprogrammer.com/frontend-trai...</td>\n",
       "      <td>0</td>\n",
       "      <td>technology</td>\n",
       "      <td>info</td>\n",
       "      <td>NaN</td>\n",
       "      <td>50000</td>\n",
       "      <td>18000</td>\n",
       "      <td>100000</td>\n",
       "      <td>...</td>\n",
       "      <td>249212</td>\n",
       "      <td>0.4069</td>\n",
       "      <td>NaN</td>\n",
       "      <td>9.936539e+04</td>\n",
       "      <td>NaN</td>\n",
       "      <td>1.987308</td>\n",
       "      <td>32000</td>\n",
       "      <td>0.320000</td>\n",
       "      <td>NaN</td>\n",
       "      <td>NaN</td>\n",
       "    </tr>\n",
       "    <tr>\n",
       "      <th>1</th>\n",
       "      <td>58</td>\n",
       "      <td>udemy.com</td>\n",
       "      <td>https://www.udemy.com/</td>\n",
       "      <td>0</td>\n",
       "      <td>technology</td>\n",
       "      <td>info</td>\n",
       "      <td>NaN</td>\n",
       "      <td>12500000</td>\n",
       "      <td>12000000</td>\n",
       "      <td>33000000</td>\n",
       "      <td>...</td>\n",
       "      <td>232</td>\n",
       "      <td>0.3783</td>\n",
       "      <td>NaN</td>\n",
       "      <td>3.302423e+07</td>\n",
       "      <td>NaN</td>\n",
       "      <td>2.641939</td>\n",
       "      <td>8500000</td>\n",
       "      <td>0.257576</td>\n",
       "      <td>NaN</td>\n",
       "      <td>NaN</td>\n",
       "    </tr>\n",
       "  </tbody>\n",
       "</table>\n",
       "<p>2 rows × 35 columns</p>\n",
       "</div>"
      ],
      "text/plain": [
       "   index                  name  \\\n",
       "0     57  cleverprogrammer.com   \n",
       "1     58             udemy.com   \n",
       "\n",
       "                                         landingPage  customer      domain  \\\n",
       "0  https://www.cleverprogrammer.com/frontend-trai...         0  technology   \n",
       "1                             https://www.udemy.com/         0  technology   \n",
       "\n",
       "  model source   adspend  hardcosts   revenue  ...  global  percentPaid  \\\n",
       "0  info    NaN     50000      18000    100000  ...  249212       0.4069   \n",
       "1  info    NaN  12500000   12000000  33000000  ...     232       0.3783   \n",
       "\n",
       "   sales     adRevenue  cac      roas   profit  profitMargin  lpc  \\\n",
       "0    NaN  9.936539e+04  NaN  1.987308    32000      0.320000  NaN   \n",
       "1    NaN  3.302423e+07  NaN  2.641939  8500000      0.257576  NaN   \n",
       "\n",
       "   averageOrderValue  \n",
       "0                NaN  \n",
       "1                NaN  \n",
       "\n",
       "[2 rows x 35 columns]"
      ]
     },
     "execution_count": 22,
     "metadata": {},
     "output_type": "execute_result"
    }
   ],
   "source": [
    "df2 = Wrappers().aggregate(df.reset_index())\n",
    "df2"
   ]
  },
  {
   "cell_type": "code",
   "execution_count": 25,
   "metadata": {},
   "outputs": [],
   "source": [
    "df3 = pd.concat([w[:-2], df2]).reset_index()\n",
    "df3.drop(['level_0', 'index'], axis='columns').to_csv(r'C:\\Users\\aacjp\\Sales-Scientist\\datasets\\check6.csv')"
   ]
  },
  {
   "cell_type": "code",
   "execution_count": null,
   "metadata": {},
   "outputs": [],
   "source": []
  }
 ],
 "metadata": {
  "kernelspec": {
   "display_name": "Python 3",
   "language": "python",
   "name": "python3"
  },
  "language_info": {
   "codemirror_mode": {
    "name": "ipython",
    "version": 3
   },
   "file_extension": ".py",
   "mimetype": "text/x-python",
   "name": "python",
   "nbconvert_exporter": "python",
   "pygments_lexer": "ipython3",
   "version": "3.8.5"
  }
 },
 "nbformat": 4,
 "nbformat_minor": 4
}
