{
 "cells": [
  {
   "cell_type": "code",
   "execution_count": 1,
   "metadata": {
    "scrolled": true
   },
   "outputs": [],
   "source": [
    "import pandas as pd\n",
    "from fullcontact import FullContactClient\n",
    "import numpy as np\n",
    "from imblearn.over_sampling import SMOTENC\n",
    "from helpers import Data\n",
    "from urllib.request import urlopen, Request\n",
    "import mysql.connector\n",
    "from getpass import getpass\n",
    "from mysql.connector import connect\n",
    "from bs4 import BeautifulSoup\n",
    "import requests\n",
    "import re\n",
    "from helpers import individualFeatures, Data, Scraping\n",
    "\n",
    "df = pd.read_csv(r'C:\\Users\\aacjp\\Sales-Scientist\\datasets\\MockHyros.csv')\n",
    "df1 = pd.read_csv(r'C:\\Users\\aacjp\\Sales-Scientist\\datasets\\HyrosNumerical.csv')\n",
    "df2 = pd.read_csv(r'C:\\Users\\aacjp\\Sales-Scientist\\datasets\\HyrosAugmented.csv')"
   ]
  },
  {
   "cell_type": "code",
   "execution_count": 2,
   "metadata": {},
   "outputs": [],
   "source": [
    "connection = connect(host='localhost', user='root', password='Raptor//Kona9', database='leads')\n",
    "cursor = connection.cursor()"
   ]
  },
  {
   "cell_type": "markdown",
   "metadata": {},
   "source": [
    "## tables to make\n",
    "1. basic data entry\n",
    "2. similarweb\n",
    "3. twitter\n",
    "4. zoominfo\n",
    "5. landing page"
   ]
  },
  {
   "cell_type": "markdown",
   "metadata": {},
   "source": [
    "The Hack: http://sangaline.com/post/advanced-web-scraping-tutorial/"
   ]
  },
  {
   "cell_type": "code",
   "execution_count": 3,
   "metadata": {},
   "outputs": [],
   "source": [
    "check = pd.read_csv(r'C:\\Users\\aacjp\\Sales-Scientist\\datasets\\check.csv')"
   ]
  },
  {
   "cell_type": "code",
   "execution_count": 7,
   "metadata": {},
   "outputs": [
    {
     "data": {
      "text/plain": [
       "[('clickfunnels.com',\n",
       "  'https://funnelscripts.com/funnelscripts-webclass',\n",
       "  247,\n",
       "  8,\n",
       "  11),\n",
       " ('kinobody.com', 'https://go.kinobody.com/quiz/', 1163, 13, 7)]"
      ]
     },
     "execution_count": 7,
     "metadata": {},
     "output_type": "execute_result"
    }
   ],
   "source": [
    "q = '''SELECT * FROM landingpage'''\n",
    "cursor.execute(q)\n",
    "cursor.fetchall()"
   ]
  },
  {
   "cell_type": "code",
   "execution_count": 7,
   "metadata": {},
   "outputs": [
    {
     "data": {
      "text/plain": [
       "[('name', b'varchar(45)', 'NO', 'PRI', None, ''),\n",
       " ('landingPage', b'mediumtext', 'YES', '', None, ''),\n",
       " ('customer', b'tinyint', 'YES', '', None, ''),\n",
       " ('domain', b'varchar(30)', 'YES', '', None, ''),\n",
       " ('model', b'varchar(30)', 'YES', '', None, ''),\n",
       " ('source', b'varchar(13)', 'YES', '', None, ''),\n",
       " ('adspend', b'int', 'YES', '', None, ''),\n",
       " ('hardcosts', b'int', 'YES', '', None, ''),\n",
       " ('revenue', b'int', 'YES', '', None, '')]"
      ]
     },
     "execution_count": 7,
     "metadata": {},
     "output_type": "execute_result"
    }
   ],
   "source": [
    "def getCols(table):\n",
    "    q = 'SHOW COLUMNS FROM {};'.format(table)\n",
    "    cursor.execute(q)\n",
    "    results = cursor.fetchall()\n",
    "    return results\n",
    "\n",
    "getCols('survey')"
   ]
  },
  {
   "cell_type": "code",
   "execution_count": null,
   "metadata": {},
   "outputs": [],
   "source": []
  }
 ],
 "metadata": {
  "kernelspec": {
   "display_name": "Python 3",
   "language": "python",
   "name": "python3"
  },
  "language_info": {
   "codemirror_mode": {
    "name": "ipython",
    "version": 3
   },
   "file_extension": ".py",
   "mimetype": "text/x-python",
   "name": "python",
   "nbconvert_exporter": "python",
   "pygments_lexer": "ipython3",
   "version": "3.8.5"
  }
 },
 "nbformat": 4,
 "nbformat_minor": 4
}
