{
 "cells": [
  {
   "cell_type": "code",
   "execution_count": 1,
   "metadata": {
    "scrolled": true
   },
   "outputs": [],
   "source": [
    "import pandas as pd\n",
    "from fullcontact import FullContactClient\n",
    "\n",
    "df = pd.read_csv(r'C:\\Users\\aacjp\\Spencer\\datasets\\MockHyros.csv')"
   ]
  },
  {
   "cell_type": "markdown",
   "metadata": {},
   "source": [
    "The Hack: http://sangaline.com/post/advanced-web-scraping-tutorial/"
   ]
  },
  {
   "cell_type": "code",
   "execution_count": 2,
   "metadata": {
    "scrolled": false
   },
   "outputs": [
    {
     "data": {
      "text/html": [
       "<div>\n",
       "<style scoped>\n",
       "    .dataframe tbody tr th:only-of-type {\n",
       "        vertical-align: middle;\n",
       "    }\n",
       "\n",
       "    .dataframe tbody tr th {\n",
       "        vertical-align: top;\n",
       "    }\n",
       "\n",
       "    .dataframe thead th {\n",
       "        text-align: right;\n",
       "    }\n",
       "</style>\n",
       "<table border=\"1\" class=\"dataframe\">\n",
       "  <thead>\n",
       "    <tr style=\"text-align: right;\">\n",
       "      <th></th>\n",
       "      <th>lead</th>\n",
       "      <th>closed</th>\n",
       "      <th>monthly traffic spend</th>\n",
       "      <th>n paid traffic platforms</th>\n",
       "      <th>domain</th>\n",
       "      <th>business model</th>\n",
       "      <th>monthly revenue</th>\n",
       "      <th>% paid traffic</th>\n",
       "      <th>average order value</th>\n",
       "      <th>new customers</th>\n",
       "      <th>...</th>\n",
       "      <th>monthly hardcosts</th>\n",
       "      <th>ad revenue</th>\n",
       "      <th>roas</th>\n",
       "      <th>cac</th>\n",
       "      <th>profit</th>\n",
       "      <th>n links lp</th>\n",
       "      <th>n words lp</th>\n",
       "      <th>trigger words  lp</th>\n",
       "      <th>lpc</th>\n",
       "      <th>profit margin</th>\n",
       "    </tr>\n",
       "  </thead>\n",
       "  <tbody>\n",
       "    <tr>\n",
       "      <th>0</th>\n",
       "      <td>FrankKern.com</td>\n",
       "      <td>1</td>\n",
       "      <td>54437.0</td>\n",
       "      <td>5.0</td>\n",
       "      <td>entrepreneurship</td>\n",
       "      <td>info</td>\n",
       "      <td>583310</td>\n",
       "      <td>12.30</td>\n",
       "      <td>3000.0</td>\n",
       "      <td>NaN</td>\n",
       "      <td>...</td>\n",
       "      <td>NaN</td>\n",
       "      <td>71747.13</td>\n",
       "      <td>17310.13</td>\n",
       "      <td>NaN</td>\n",
       "      <td>NaN</td>\n",
       "      <td>2.0</td>\n",
       "      <td>2140.0</td>\n",
       "      <td>55.0</td>\n",
       "      <td>2198.0</td>\n",
       "      <td>NaN</td>\n",
       "    </tr>\n",
       "    <tr>\n",
       "      <th>1</th>\n",
       "      <td>ImpactTheory.Com</td>\n",
       "      <td>1</td>\n",
       "      <td>126095.0</td>\n",
       "      <td>NaN</td>\n",
       "      <td>self-development</td>\n",
       "      <td>media</td>\n",
       "      <td>250000</td>\n",
       "      <td>12.23</td>\n",
       "      <td>NaN</td>\n",
       "      <td>NaN</td>\n",
       "      <td>...</td>\n",
       "      <td>NaN</td>\n",
       "      <td>30575.00</td>\n",
       "      <td>-95520.00</td>\n",
       "      <td>NaN</td>\n",
       "      <td>NaN</td>\n",
       "      <td>NaN</td>\n",
       "      <td>NaN</td>\n",
       "      <td>NaN</td>\n",
       "      <td>NaN</td>\n",
       "      <td>NaN</td>\n",
       "    </tr>\n",
       "    <tr>\n",
       "      <th>2</th>\n",
       "      <td>digitalmillionairesecrets.com</td>\n",
       "      <td>1</td>\n",
       "      <td>139711.0</td>\n",
       "      <td>NaN</td>\n",
       "      <td>entrepreneurship</td>\n",
       "      <td>info</td>\n",
       "      <td>FALSE</td>\n",
       "      <td>82.83</td>\n",
       "      <td>997.0</td>\n",
       "      <td>NaN</td>\n",
       "      <td>...</td>\n",
       "      <td>NaN</td>\n",
       "      <td>0.00</td>\n",
       "      <td>-139711.00</td>\n",
       "      <td>NaN</td>\n",
       "      <td>NaN</td>\n",
       "      <td>3.0</td>\n",
       "      <td>108.0</td>\n",
       "      <td>1.0</td>\n",
       "      <td>113.0</td>\n",
       "      <td>NaN</td>\n",
       "    </tr>\n",
       "    <tr>\n",
       "      <th>3</th>\n",
       "      <td>mastermind.com</td>\n",
       "      <td>1</td>\n",
       "      <td>220950.0</td>\n",
       "      <td>NaN</td>\n",
       "      <td>entrepreneurship</td>\n",
       "      <td>software</td>\n",
       "      <td>FALSE</td>\n",
       "      <td>3.91</td>\n",
       "      <td>297.0</td>\n",
       "      <td>NaN</td>\n",
       "      <td>...</td>\n",
       "      <td>NaN</td>\n",
       "      <td>0.00</td>\n",
       "      <td>-220950.00</td>\n",
       "      <td>NaN</td>\n",
       "      <td>NaN</td>\n",
       "      <td>NaN</td>\n",
       "      <td>NaN</td>\n",
       "      <td>NaN</td>\n",
       "      <td>NaN</td>\n",
       "      <td>NaN</td>\n",
       "    </tr>\n",
       "    <tr>\n",
       "      <th>4</th>\n",
       "      <td>ShopaNova.com</td>\n",
       "      <td>1</td>\n",
       "      <td>NaN</td>\n",
       "      <td>NaN</td>\n",
       "      <td>ecommerce</td>\n",
       "      <td>software</td>\n",
       "      <td>FALSE</td>\n",
       "      <td>NaN</td>\n",
       "      <td>NaN</td>\n",
       "      <td>NaN</td>\n",
       "      <td>...</td>\n",
       "      <td>NaN</td>\n",
       "      <td>NaN</td>\n",
       "      <td>NaN</td>\n",
       "      <td>NaN</td>\n",
       "      <td>NaN</td>\n",
       "      <td>1.0</td>\n",
       "      <td>14.0</td>\n",
       "      <td>1.0</td>\n",
       "      <td>17.0</td>\n",
       "      <td>NaN</td>\n",
       "    </tr>\n",
       "  </tbody>\n",
       "</table>\n",
       "<p>5 rows × 27 columns</p>\n",
       "</div>"
      ],
      "text/plain": [
       "                            lead  closed  monthly traffic spend  \\\n",
       "0                  FrankKern.com       1                54437.0   \n",
       "1               ImpactTheory.Com       1               126095.0   \n",
       "2  digitalmillionairesecrets.com       1               139711.0   \n",
       "3                 mastermind.com       1               220950.0   \n",
       "4                  ShopaNova.com       1                    NaN   \n",
       "\n",
       "   n paid traffic platforms            domain business model monthly revenue  \\\n",
       "0                       5.0  entrepreneurship           info          583310   \n",
       "1                       NaN  self-development          media          250000   \n",
       "2                       NaN  entrepreneurship           info           FALSE   \n",
       "3                       NaN  entrepreneurship       software           FALSE   \n",
       "4                       NaN         ecommerce       software           FALSE   \n",
       "\n",
       "   % paid traffic  average order value  new customers  ...  monthly hardcosts  \\\n",
       "0           12.30               3000.0            NaN  ...                NaN   \n",
       "1           12.23                  NaN            NaN  ...                NaN   \n",
       "2           82.83                997.0            NaN  ...                NaN   \n",
       "3            3.91                297.0            NaN  ...                NaN   \n",
       "4             NaN                  NaN            NaN  ...                NaN   \n",
       "\n",
       "   ad revenue       roas  cac  profit n links lp  n words lp  \\\n",
       "0    71747.13   17310.13  NaN     NaN        2.0      2140.0   \n",
       "1    30575.00  -95520.00  NaN     NaN        NaN         NaN   \n",
       "2        0.00 -139711.00  NaN     NaN        3.0       108.0   \n",
       "3        0.00 -220950.00  NaN     NaN        NaN         NaN   \n",
       "4         NaN        NaN  NaN     NaN        1.0        14.0   \n",
       "\n",
       "   trigger words  lp     lpc  profit margin  \n",
       "0               55.0  2198.0            NaN  \n",
       "1                NaN     NaN            NaN  \n",
       "2                1.0   113.0            NaN  \n",
       "3                NaN     NaN            NaN  \n",
       "4                1.0    17.0            NaN  \n",
       "\n",
       "[5 rows x 27 columns]"
      ]
     },
     "execution_count": 2,
     "metadata": {},
     "output_type": "execute_result"
    }
   ],
   "source": [
    "df.head()"
   ]
  },
  {
   "cell_type": "markdown",
   "metadata": {},
   "source": [
    "## data entry steps\n",
    "1. apporoximate hardcosts\n",
    "2. approximate customers / sales \n",
    "3. find 13 new non-customer datapoints that are found on fullcontact api\n",
    "4. concatenate 13 non-customers with the dataset\n",
    "5. fill in null values"
   ]
  },
  {
   "cell_type": "code",
   "execution_count": 3,
   "metadata": {},
   "outputs": [
    {
     "data": {
      "text/plain": [
       "array(['consulting', 'ecommerce', 'info', 'media', 'restaurant',\n",
       "       'software'], dtype=object)"
      ]
     },
     "execution_count": 3,
     "metadata": {},
     "output_type": "execute_result"
    }
   ],
   "source": [
    "import numpy as np\n",
    "np.unique(df['business model'])"
   ]
  },
  {
   "cell_type": "code",
   "execution_count": 4,
   "metadata": {},
   "outputs": [],
   "source": [
    "MR = []\n",
    "for mr in df['monthly revenue']:\n",
    "    try:\n",
    "        MR.append(int(mr))\n",
    "    except:\n",
    "        MR.append(False)"
   ]
  },
  {
   "cell_type": "code",
   "execution_count": 5,
   "metadata": {},
   "outputs": [],
   "source": [
    "df['monthly revenue'] = MR"
   ]
  },
  {
   "cell_type": "code",
   "execution_count": 6,
   "metadata": {},
   "outputs": [],
   "source": [
    "import numpy as np\n",
    "\n",
    "#df['average order value'] = df['average order value'].fillna(np.mean(df['average order value']))\n",
    "df['new customers'] = df['monthly revenue'] / df['average order value']"
   ]
  },
  {
   "cell_type": "code",
   "execution_count": 8,
   "metadata": {},
   "outputs": [],
   "source": [
    "from helpers import aggregateFeatures"
   ]
  },
  {
   "cell_type": "code",
   "execution_count": 9,
   "metadata": {},
   "outputs": [],
   "source": [
    "af = aggregateFeatures()"
   ]
  },
  {
   "cell_type": "code",
   "execution_count": 11,
   "metadata": {},
   "outputs": [],
   "source": [
    "df['cac'] = af.cac(df['new customers'], df['monthly traffic spend'])"
   ]
  },
  {
   "cell_type": "code",
   "execution_count": 13,
   "metadata": {},
   "outputs": [
    {
     "data": {
      "text/plain": [
       "lead                           FrankKern.com\n",
       "closed                                     1\n",
       "monthly traffic spend                  54437\n",
       "n paid traffic platforms                   5\n",
       "domain                      entrepreneurship\n",
       "business model                          info\n",
       "monthly revenue                       583310\n",
       "% paid traffic                          12.3\n",
       "average order value                     3000\n",
       "new customers                        194.437\n",
       "visits                                 86590\n",
       "monthly visits change                 -35026\n",
       "bounce rate                            52.53\n",
       "source                                   NaN\n",
       "review sentiment                         NaN\n",
       "dominant platform                    youtube\n",
       "subscriber                               NaN\n",
       "monthly hardcosts                        NaN\n",
       "ad revenue                           71747.1\n",
       "roas                                 17310.1\n",
       "cac                               0.00357177\n",
       "profit                                   NaN\n",
       "n links lp                                 2\n",
       "n words lp                              2140\n",
       "trigger words  lp                         55\n",
       "lpc                                     2198\n",
       "profit margin                            NaN\n",
       "Name: 0, dtype: object"
      ]
     },
     "execution_count": 13,
     "metadata": {},
     "output_type": "execute_result"
    }
   ],
   "source": [
    "df.iloc[0]"
   ]
  },
  {
   "cell_type": "markdown",
   "metadata": {},
   "source": [
    "https://platform.fullcontact.com/developers/api-keys"
   ]
  }
 ],
 "metadata": {
  "kernelspec": {
   "display_name": "Python 3",
   "language": "python",
   "name": "python3"
  },
  "language_info": {
   "codemirror_mode": {
    "name": "ipython",
    "version": 3
   },
   "file_extension": ".py",
   "mimetype": "text/x-python",
   "name": "python",
   "nbconvert_exporter": "python",
   "pygments_lexer": "ipython3",
   "version": "3.8.5"
  }
 },
 "nbformat": 4,
 "nbformat_minor": 4
}
