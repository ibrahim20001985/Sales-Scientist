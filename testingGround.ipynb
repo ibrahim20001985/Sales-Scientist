{
 "cells": [
  {
   "cell_type": "code",
   "execution_count": 1,
   "metadata": {
    "scrolled": true
   },
   "outputs": [],
   "source": [
    "import pandas as pd\n",
    "from fullcontact import FullContactClient\n",
    "import numpy as np\n",
    "from imblearn.over_sampling import SMOTENC\n",
    "from helpers import Data\n",
    "from urllib.request import urlopen, Request\n",
    "import mysql.connector\n",
    "from getpass import getpass\n",
    "from mysql.connector import connect\n",
    "from bs4 import BeautifulSoup\n",
    "import requests\n",
    "import re\n",
    "from helpers import individualFeatures, Data, Scraping\n",
    "\n",
    "\n",
    "w = pd.read_csv(r'C:\\Users\\aacjp\\Sales-Scientist\\datasets\\check6.csv').drop(['Unnamed: 0'], axis='columns')\n",
    "df = pd.read_csv(r'C:\\Users\\aacjp\\Sales-Scientist\\datasets\\leadsML.csv').drop(['Unnamed: 0'], axis='columns')"
   ]
  },
  {
   "cell_type": "code",
   "execution_count": 2,
   "metadata": {},
   "outputs": [],
   "source": [
    "connection = connect(host='localhost', user='root', password='Raptor//Kona9', database='leads')\n",
    "cursor = connection.cursor(buffered=True)"
   ]
  },
  {
   "cell_type": "code",
   "execution_count": 4,
   "metadata": {},
   "outputs": [
    {
     "data": {
      "text/plain": [
       "[('admagnet.com',),\n",
       " ('adskills.com',),\n",
       " ('billygeneismarketing.com',),\n",
       " ('biotrust.com',),\n",
       " ('bodybuilding.com',),\n",
       " ('clickfunnels.com',),\n",
       " ('coschedule.com',),\n",
       " ('current9.com',),\n",
       " ('digitalmarketinginstitute.com',),\n",
       " ('digitalmillionairesecrets.com',),\n",
       " ('draxe.com',),\n",
       " ('embertribe.com',),\n",
       " ('eofire.com',),\n",
       " ('exfilproject.com',),\n",
       " ('frankkern.com',),\n",
       " ('fulltimefilmmaker.com',),\n",
       " ('gatestonebpo.com',),\n",
       " ('getmainlobster.com',),\n",
       " ('groovelife.com',),\n",
       " ('gymlaunch.com',),\n",
       " ('hautehijab.com',),\n",
       " ('heybrain.com',),\n",
       " ('impacttheory.com',),\n",
       " ('impedemedia.com',),\n",
       " ('inclusivleycreative.com',),\n",
       " ('jamesmills.co.uk',),\n",
       " ('kinobody.com',),\n",
       " ('ladyboss.com',),\n",
       " ('launchtitans.com',),\n",
       " ('leadgenblueprint.ryanwegner.com',),\n",
       " ('leadjolt.com',),\n",
       " ('legionathletics.com',),\n",
       " ('mastermind.com',),\n",
       " ('meetedgar.com',),\n",
       " ('milliondollarfirms.co',),\n",
       " ('neilpatel.com',),\n",
       " ('nineuniversity.com',),\n",
       " ('ontraport.com',),\n",
       " ('peterszabo.co',),\n",
       " ('prestigepromedia.com',),\n",
       " ('rankoneecommerce.com',),\n",
       " ('rei.com',),\n",
       " ('reww.com',),\n",
       " ('rydermedia.com',),\n",
       " ('samcart.io',),\n",
       " ('seo-hacker.com',),\n",
       " ('sephora.com',),\n",
       " ('shopanova.com',),\n",
       " ('singlegrain.com',),\n",
       " ('smarternutrition.com',),\n",
       " ('startupitalia.eu',),\n",
       " ('thedouglasjames.com',),\n",
       " ('theyoungrens.com',),\n",
       " ('thrivecart.com',),\n",
       " ('titansdvds.com',),\n",
       " ('upwork.com',),\n",
       " ('vitalitymarketingfirm.com',),\n",
       " ('warriorplus.com',),\n",
       " ('webuildbrands ug',),\n",
       " ('womenshealth.com.au',)]"
      ]
     },
     "execution_count": 4,
     "metadata": {},
     "output_type": "execute_result"
    }
   ],
   "source": [
    "q = 'SELECT name FROM survey;'\n",
    "cursor.execute(q)\n",
    "results = cursor.fetchall()\n",
    "results"
   ]
  },
  {
   "cell_type": "code",
   "execution_count": null,
   "metadata": {},
   "outputs": [],
   "source": []
  }
 ],
 "metadata": {
  "kernelspec": {
   "display_name": "Python 3",
   "language": "python",
   "name": "python3"
  },
  "language_info": {
   "codemirror_mode": {
    "name": "ipython",
    "version": 3
   },
   "file_extension": ".py",
   "mimetype": "text/x-python",
   "name": "python",
   "nbconvert_exporter": "python",
   "pygments_lexer": "ipython3",
   "version": "3.8.5"
  }
 },
 "nbformat": 4,
 "nbformat_minor": 4
}
