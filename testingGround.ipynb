{
 "cells": [
  {
   "cell_type": "code",
   "execution_count": 8,
   "metadata": {
    "scrolled": true
   },
   "outputs": [],
   "source": [
    "import pandas as pd\n",
    "from fullcontact import FullContactClient\n",
    "import numpy as np\n",
    "from imblearn.over_sampling import SMOTENC\n",
    "from helpers import Data\n",
    "from urllib.request import urlopen, Request\n",
    "import mysql.connector\n",
    "from getpass import getpass\n",
    "from mysql.connector import connect\n",
    "from bs4 import BeautifulSoup\n",
    "import requests\n",
    "import re\n",
    "from helpers import individualFeatures, Data\n",
    "\n",
    "df = pd.read_csv(r'C:\\Users\\aacjp\\Sales-Scientist\\datasets\\MockHyros.csv')\n",
    "df1 = pd.read_csv(r'C:\\Users\\aacjp\\Sales-Scientist\\datasets\\HyrosNumerical.csv')\n",
    "df2 = pd.read_csv(r'C:\\Users\\aacjp\\Sales-Scientist\\datasets\\HyrosAugmented.csv')"
   ]
  },
  {
   "cell_type": "code",
   "execution_count": 9,
   "metadata": {},
   "outputs": [
    {
     "ename": "TypeError",
     "evalue": "leadsOnTwitter() takes 0 positional arguments but 1 was given",
     "output_type": "error",
     "traceback": [
      "\u001b[1;31m---------------------------------------------------------------------------\u001b[0m",
      "\u001b[1;31mTypeError\u001b[0m                                 Traceback (most recent call last)",
      "\u001b[1;32m<ipython-input-9-7d196fbedc99>\u001b[0m in \u001b[0;36m<module>\u001b[1;34m\u001b[0m\n\u001b[1;32m----> 1\u001b[1;33m \u001b[0mData\u001b[0m\u001b[1;33m(\u001b[0m\u001b[1;33m)\u001b[0m\u001b[1;33m.\u001b[0m\u001b[0mleadsOnTwitter\u001b[0m\u001b[1;33m(\u001b[0m\u001b[1;33m)\u001b[0m\u001b[1;33m\u001b[0m\u001b[1;33m\u001b[0m\u001b[0m\n\u001b[0m",
      "\u001b[1;31mTypeError\u001b[0m: leadsOnTwitter() takes 0 positional arguments but 1 was given"
     ]
    }
   ],
   "source": [
    "Data().leadsOnTwitter()"
   ]
  },
  {
   "cell_type": "code",
   "execution_count": 23,
   "metadata": {},
   "outputs": [],
   "source": [
    "connection = connect(host='localhost', user='root', password='Raptor//Kona9', database='leads')\n",
    "cursor = connection.cursor()"
   ]
  },
  {
   "cell_type": "code",
   "execution_count": 37,
   "metadata": {},
   "outputs": [],
   "source": [
    "keys = open(r'C:\\Users\\aacjp\\OneDrive\\Desktop\\ssh\\Twitter\\keys.txt').readlines()"
   ]
  },
  {
   "cell_type": "markdown",
   "metadata": {},
   "source": [
    "## tables to make\n",
    "1. basic data entry\n",
    "2. similarweb\n",
    "3. twitter\n",
    "4. zoominfo\n",
    "5. landing page"
   ]
  },
  {
   "cell_type": "markdown",
   "metadata": {},
   "source": [
    "The Hack: http://sangaline.com/post/advanced-web-scraping-tutorial/"
   ]
  },
  {
   "cell_type": "code",
   "execution_count": 38,
   "metadata": {},
   "outputs": [],
   "source": [
    "import tweepy\n",
    "from textblob import TextBlob\n",
    "import numpy as np"
   ]
  },
  {
   "cell_type": "code",
   "execution_count": 48,
   "metadata": {},
   "outputs": [],
   "source": [
    "def analyzeTweets(keyword, keys=keys):\n",
    "    a1 = keys[0].replace('\\n', '') \n",
    "    a2 = keys[1].replace('\\n', '') \n",
    "    c1 = keys[2].replace('\\n', '') \n",
    "    c2 = keys[3].replace('\\n', '') \n",
    "    auth = tweepy.OAuthHandler(c1, c2)\n",
    "    auth.set_access_token(a1, a2)\n",
    "    api = tweepy.API(auth)\n",
    "    topic = api.search(keyword)\n",
    "    polarity = []\n",
    "    subjectivity = []\n",
    "    for i in range(len(topic)):\n",
    "        tweet = topic[i]._json['text'].replace('@', '')\n",
    "        blob = TextBlob(tweet)\n",
    "        sent = blob.sentiment\n",
    "        polarity.append(sent[0])\n",
    "        subjectivity.append(sent[1])\n",
    "    mu_p = np.mean(polarity)\n",
    "    mu_s = np.mean(subjectivity)\n",
    "    std_p = np.std(polarity)\n",
    "    std_s = np.std(subjectivity)\n",
    "    return mu_p, mu_s, std_p, std_s"
   ]
  },
  {
   "cell_type": "code",
   "execution_count": 5,
   "metadata": {},
   "outputs": [],
   "source": [
    "def getLeads():\n",
    "    connection = connect(host='localhost', user='root', password='Raptor//Kona9', database='leads')\n",
    "    cursor = connection.cursor()\n",
    "    q = 'SELECT name from survey;'\n",
    "    cursor.execute(q)\n",
    "    leads = cursor.fetchall()\n",
    "    return leads"
   ]
  },
  {
   "cell_type": "code",
   "execution_count": 6,
   "metadata": {},
   "outputs": [],
   "source": [
    "def leadsOnTwitter():\n",
    "    connection = connect(host='localhost', user='root', password='Raptor//Kona9', database='leads')\n",
    "    cursor = connection.cursor()\n",
    "    leads = getLeads()\n",
    "    for lead in leads:\n",
    "        k = lead[0].split('.')[0]\n",
    "        mu_p, mu_s, std_p, std_s = analyzeTweets(k)\n",
    "        q = '''INSERT INTO social (name, avg_polarity, avg_subjectivity, std_polarity, std_subjectivity) \n",
    "        VALUES ('{}', {}, {}, {}, {});'''.format(lead[0], mu_p, mu_s, std_p, std_s)\n",
    "        cursor.execute(q)\n",
    "        connection.commit()\n",
    "    pass\n",
    "\n",
    "leadsOnTwitter()"
   ]
  },
  {
   "cell_type": "code",
   "execution_count": 50,
   "metadata": {},
   "outputs": [
    {
     "data": {
      "text/plain": [
       "(0.07142857142857142,\n",
       " 0.08571428571428572,\n",
       " 0.17496355305594133,\n",
       " 0.17261494247992246)"
      ]
     },
     "execution_count": 50,
     "metadata": {},
     "output_type": "execute_result"
    }
   ],
   "source": [
    "analyzeTweets('frankkern')"
   ]
  },
  {
   "cell_type": "code",
   "execution_count": 51,
   "metadata": {},
   "outputs": [
    {
     "data": {
      "text/plain": [
       "[('clickfunnels.com',), ('kinobody.com',)]"
      ]
     },
     "execution_count": 51,
     "metadata": {},
     "output_type": "execute_result"
    }
   ],
   "source": [
    "getLeads()"
   ]
  },
  {
   "cell_type": "code",
   "execution_count": null,
   "metadata": {},
   "outputs": [],
   "source": []
  }
 ],
 "metadata": {
  "kernelspec": {
   "display_name": "Python 3",
   "language": "python",
   "name": "python3"
  },
  "language_info": {
   "codemirror_mode": {
    "name": "ipython",
    "version": 3
   },
   "file_extension": ".py",
   "mimetype": "text/x-python",
   "name": "python",
   "nbconvert_exporter": "python",
   "pygments_lexer": "ipython3",
   "version": "3.8.5"
  }
 },
 "nbformat": 4,
 "nbformat_minor": 4
}
