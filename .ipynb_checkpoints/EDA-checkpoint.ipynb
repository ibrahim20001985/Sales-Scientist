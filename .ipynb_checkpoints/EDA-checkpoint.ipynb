{
 "cells": [
  {
   "cell_type": "code",
   "execution_count": 1,
   "metadata": {},
   "outputs": [
    {
     "data": {
      "text/html": [
       "<div>\n",
       "<style scoped>\n",
       "    .dataframe tbody tr th:only-of-type {\n",
       "        vertical-align: middle;\n",
       "    }\n",
       "\n",
       "    .dataframe tbody tr th {\n",
       "        vertical-align: top;\n",
       "    }\n",
       "\n",
       "    .dataframe thead th {\n",
       "        text-align: right;\n",
       "    }\n",
       "</style>\n",
       "<table border=\"1\" class=\"dataframe\">\n",
       "  <thead>\n",
       "    <tr style=\"text-align: right;\">\n",
       "      <th></th>\n",
       "      <th>name</th>\n",
       "      <th>landingPage</th>\n",
       "      <th>customer</th>\n",
       "      <th>domain</th>\n",
       "      <th>model</th>\n",
       "      <th>source</th>\n",
       "      <th>adspend</th>\n",
       "      <th>hardcosts</th>\n",
       "      <th>revenue</th>\n",
       "      <th>avg_polarity</th>\n",
       "      <th>...</th>\n",
       "      <th>global</th>\n",
       "      <th>percentPaid</th>\n",
       "      <th>sales</th>\n",
       "      <th>adRevenue</th>\n",
       "      <th>cac</th>\n",
       "      <th>roas</th>\n",
       "      <th>profit</th>\n",
       "      <th>profitMargin</th>\n",
       "      <th>lpc</th>\n",
       "      <th>averageOrderValue</th>\n",
       "    </tr>\n",
       "  </thead>\n",
       "  <tbody>\n",
       "    <tr>\n",
       "      <th>0</th>\n",
       "      <td>clickfunnels.com</td>\n",
       "      <td>https://funnelscripts.com/funnelscripts-webclass</td>\n",
       "      <td>1</td>\n",
       "      <td>marketing</td>\n",
       "      <td>software</td>\n",
       "      <td>word of mouth</td>\n",
       "      <td>70000</td>\n",
       "      <td>5000000</td>\n",
       "      <td>9000000</td>\n",
       "      <td>0.219405</td>\n",
       "      <td>...</td>\n",
       "      <td>1270</td>\n",
       "      <td>0.353865</td>\n",
       "      <td>30303</td>\n",
       "      <td>8.958190e+06</td>\n",
       "      <td>0.038501</td>\n",
       "      <td>127.974142</td>\n",
       "      <td>3930000</td>\n",
       "      <td>0.436667</td>\n",
       "      <td>21736.00000</td>\n",
       "      <td>3006.752577</td>\n",
       "    </tr>\n",
       "    <tr>\n",
       "      <th>1</th>\n",
       "      <td>kinobody.com</td>\n",
       "      <td>https://go.kinobody.com/quiz/</td>\n",
       "      <td>1</td>\n",
       "      <td>fitness</td>\n",
       "      <td>info</td>\n",
       "      <td>word of mouth</td>\n",
       "      <td>210000</td>\n",
       "      <td>20000</td>\n",
       "      <td>630000</td>\n",
       "      <td>0.067753</td>\n",
       "      <td>...</td>\n",
       "      <td>88504</td>\n",
       "      <td>0.121291</td>\n",
       "      <td>9130</td>\n",
       "      <td>5.145120e+05</td>\n",
       "      <td>138.980807</td>\n",
       "      <td>2.450057</td>\n",
       "      <td>400000</td>\n",
       "      <td>0.634921</td>\n",
       "      <td>105833.00000</td>\n",
       "      <td>9.700074</td>\n",
       "    </tr>\n",
       "    <tr>\n",
       "      <th>2</th>\n",
       "      <td>FrankKern.com</td>\n",
       "      <td>https://frankkernbook.com/optin24883998?utm_so...</td>\n",
       "      <td>1</td>\n",
       "      <td>entrepreneurship</td>\n",
       "      <td>info</td>\n",
       "      <td>NaN</td>\n",
       "      <td>54437</td>\n",
       "      <td>18666</td>\n",
       "      <td>583310</td>\n",
       "      <td>0.000000</td>\n",
       "      <td>...</td>\n",
       "      <td>120191</td>\n",
       "      <td>0.174400</td>\n",
       "      <td>194</td>\n",
       "      <td>7.174713e+04</td>\n",
       "      <td>280.000000</td>\n",
       "      <td>1.317985</td>\n",
       "      <td>510207</td>\n",
       "      <td>87.470000</td>\n",
       "      <td>2198.00000</td>\n",
       "      <td>996.810407</td>\n",
       "    </tr>\n",
       "    <tr>\n",
       "      <th>3</th>\n",
       "      <td>ImpactTheory.Com</td>\n",
       "      <td>NaN</td>\n",
       "      <td>1</td>\n",
       "      <td>self-development</td>\n",
       "      <td>media</td>\n",
       "      <td>NaN</td>\n",
       "      <td>126095</td>\n",
       "      <td>8000</td>\n",
       "      <td>250000</td>\n",
       "      <td>0.288006</td>\n",
       "      <td>...</td>\n",
       "      <td>211062</td>\n",
       "      <td>0.140200</td>\n",
       "      <td>25773</td>\n",
       "      <td>3.057500e+04</td>\n",
       "      <td>5.000000</td>\n",
       "      <td>0.242476</td>\n",
       "      <td>115905</td>\n",
       "      <td>46.360000</td>\n",
       "      <td>10787.69697</td>\n",
       "      <td>297.007329</td>\n",
       "    </tr>\n",
       "    <tr>\n",
       "      <th>4</th>\n",
       "      <td>digitalmillionairesecrets.com</td>\n",
       "      <td>https://highticketselling.com/</td>\n",
       "      <td>1</td>\n",
       "      <td>entrepreneurship</td>\n",
       "      <td>info</td>\n",
       "      <td>NaN</td>\n",
       "      <td>139711</td>\n",
       "      <td>53333</td>\n",
       "      <td>1666667</td>\n",
       "      <td>0.345833</td>\n",
       "      <td>...</td>\n",
       "      <td>5225501</td>\n",
       "      <td>0.656100</td>\n",
       "      <td>1672</td>\n",
       "      <td>1.380500e+06</td>\n",
       "      <td>84.000000</td>\n",
       "      <td>9.881112</td>\n",
       "      <td>1473623</td>\n",
       "      <td>88.420000</td>\n",
       "      <td>113.00000</td>\n",
       "      <td>1996.005988</td>\n",
       "    </tr>\n",
       "  </tbody>\n",
       "</table>\n",
       "<p>5 rows × 34 columns</p>\n",
       "</div>"
      ],
      "text/plain": [
       "                            name  \\\n",
       "0               clickfunnels.com   \n",
       "1                   kinobody.com   \n",
       "2                  FrankKern.com   \n",
       "3               ImpactTheory.Com   \n",
       "4  digitalmillionairesecrets.com   \n",
       "\n",
       "                                         landingPage  customer  \\\n",
       "0   https://funnelscripts.com/funnelscripts-webclass         1   \n",
       "1                      https://go.kinobody.com/quiz/         1   \n",
       "2  https://frankkernbook.com/optin24883998?utm_so...         1   \n",
       "3                                                NaN         1   \n",
       "4                     https://highticketselling.com/         1   \n",
       "\n",
       "             domain     model         source  adspend  hardcosts  revenue  \\\n",
       "0         marketing  software  word of mouth    70000    5000000  9000000   \n",
       "1           fitness      info  word of mouth   210000      20000   630000   \n",
       "2  entrepreneurship      info            NaN    54437      18666   583310   \n",
       "3  self-development     media            NaN   126095       8000   250000   \n",
       "4  entrepreneurship      info            NaN   139711      53333  1666667   \n",
       "\n",
       "   avg_polarity  ...   global  percentPaid  sales     adRevenue         cac  \\\n",
       "0      0.219405  ...     1270     0.353865  30303  8.958190e+06    0.038501   \n",
       "1      0.067753  ...    88504     0.121291   9130  5.145120e+05  138.980807   \n",
       "2      0.000000  ...   120191     0.174400    194  7.174713e+04  280.000000   \n",
       "3      0.288006  ...   211062     0.140200  25773  3.057500e+04    5.000000   \n",
       "4      0.345833  ...  5225501     0.656100   1672  1.380500e+06   84.000000   \n",
       "\n",
       "         roas   profit  profitMargin           lpc  averageOrderValue  \n",
       "0  127.974142  3930000      0.436667   21736.00000        3006.752577  \n",
       "1    2.450057   400000      0.634921  105833.00000           9.700074  \n",
       "2    1.317985   510207     87.470000    2198.00000         996.810407  \n",
       "3    0.242476   115905     46.360000   10787.69697         297.007329  \n",
       "4    9.881112  1473623     88.420000     113.00000        1996.005988  \n",
       "\n",
       "[5 rows x 34 columns]"
      ]
     },
     "execution_count": 1,
     "metadata": {},
     "output_type": "execute_result"
    }
   ],
   "source": [
    "import pandas as pd\n",
    "import numpy as np\n",
    "from matplotlib import pyplot as plt\n",
    "import seaborn as sns\n",
    "from scipy.stats import chisquare, ttest_ind, chi2_contingency\n",
    "import random\n",
    "from potosnail import Stats\n",
    "\n",
    "df = pd.read_csv(r'C:\\Users\\aacjp\\Sales-Scientist\\datasets\\check6.csv').drop(['Unnamed: 0'], axis='columns')\n",
    "df.head()"
   ]
  },
  {
   "cell_type": "markdown",
   "metadata": {},
   "source": [
    "# 1. does having a high lpc (landing page complexity) have a negative relationship with roas (return on adspend)? What about for trigger words number of words, and number of links per landing page?"
   ]
  },
  {
   "cell_type": "markdown",
   "metadata": {},
   "source": [
    "## What is LPC exactly?\n",
    "\n",
    "Landing complexity is calculated with the following formula...\n",
    "\n",
    "**number of words * number of trigger words * number of links**\n",
    "\n",
    "trigger words are words that trigger a call to action such as call, book, free, today, session, etc. This formula allows us to gauge the user experiences because the more words, cta's, and places for a user to click the more overwhelmed tha user will feel and therefore less likley to convert. When purchases are the goal this is an important thing to look out for but less important if the main goal is reach / awareness."
   ]
  },
  {
   "cell_type": "markdown",
   "metadata": {},
   "source": [
    "lpc and roas has a positive correlation"
   ]
  },
  {
   "cell_type": "code",
   "execution_count": 2,
   "metadata": {},
   "outputs": [
    {
     "data": {
      "text/plain": [
       "array([[1.        , 0.03356925],\n",
       "       [0.03356925, 1.        ]])"
      ]
     },
     "execution_count": 2,
     "metadata": {},
     "output_type": "execute_result"
    }
   ],
   "source": [
    "x = np.array(df['lpc'])\n",
    "y = np.array(df['roas'])\n",
    "np.corrcoef(x, y=y)"
   ]
  },
  {
   "cell_type": "markdown",
   "metadata": {},
   "source": [
    "Number of words in landing page and roas have a weak negative correlation"
   ]
  },
  {
   "cell_type": "code",
   "execution_count": 3,
   "metadata": {},
   "outputs": [
    {
     "data": {
      "text/plain": [
       "array([[ 1.        , -0.09007687],\n",
       "       [-0.09007687,  1.        ]])"
      ]
     },
     "execution_count": 3,
     "metadata": {},
     "output_type": "execute_result"
    }
   ],
   "source": [
    "x = np.array(df['words'])\n",
    "y = np.array(df['roas'])\n",
    "np.corrcoef(x, y=y)"
   ]
  },
  {
   "cell_type": "markdown",
   "metadata": {},
   "source": [
    "Number of trigger words in landing page and roas have a weak negative correlation"
   ]
  },
  {
   "cell_type": "code",
   "execution_count": 4,
   "metadata": {},
   "outputs": [
    {
     "data": {
      "text/plain": [
       "array([[ 1.        , -0.02151948],\n",
       "       [-0.02151948,  1.        ]])"
      ]
     },
     "execution_count": 4,
     "metadata": {},
     "output_type": "execute_result"
    }
   ],
   "source": [
    "x = np.array(df['triggers'])\n",
    "y = np.array(df['roas'])\n",
    "np.corrcoef(x, y=y)"
   ]
  },
  {
   "cell_type": "markdown",
   "metadata": {},
   "source": [
    "Number of links in landing page have a weak positive correlation"
   ]
  },
  {
   "cell_type": "code",
   "execution_count": 5,
   "metadata": {},
   "outputs": [
    {
     "data": {
      "text/plain": [
       "array([[1.        , 0.02006478],\n",
       "       [0.02006478, 1.        ]])"
      ]
     },
     "execution_count": 5,
     "metadata": {},
     "output_type": "execute_result"
    }
   ],
   "source": [
    "x = np.array(df['links'])\n",
    "y = np.array(df['roas'])\n",
    "np.corrcoef(x, y=y)"
   ]
  },
  {
   "cell_type": "markdown",
   "metadata": {},
   "source": [
    "## findings\n",
    "\n",
    "number of words and number of trigger words (trigger a call to action) have a slight negative correlation, leading to slightly lower roas. However number of links in the landing page has a slight positive correlation with roas, not what was excpected, however at 2% correlation this is negligible."
   ]
  },
  {
   "cell_type": "code",
   "execution_count": 6,
   "metadata": {},
   "outputs": [
    {
     "data": {
      "image/png": "[encoded data removed]",
      "text/plain": [
       "<Figure size 432x288 with 1 Axes>"
      ]
     },
     "metadata": {},
     "output_type": "display_data"
    }
   ],
   "source": [
    "sns.set_style(\"darkgrid\")\n",
    "sns.scatterplot(data=df, x='words', y='roas')\n",
    "plt.xlabel('number of words')\n",
    "plt.ylabel('return on adspend')\n",
    "plt.title('How many words is too many?')\n",
    "plt.show()"
   ]
  },
  {
   "cell_type": "code",
   "execution_count": 7,
   "metadata": {},
   "outputs": [
    {
     "data": {
      "image/png": "[encoded data removed]",
      "text/plain": [
       "<Figure size 432x288 with 1 Axes>"
      ]
     },
     "metadata": {},
     "output_type": "display_data"
    }
   ],
   "source": [
    "sns.set_style(\"darkgrid\")\n",
    "sns.scatterplot(df['triggers'], df['roas'])\n",
    "plt.xlabel('number of trigger words')\n",
    "plt.ylabel('return on adspend')\n",
    "plt.title('How many trigger words is too many?')\n",
    "plt.show()"
   ]
  },
  {
   "cell_type": "code",
   "execution_count": 8,
   "metadata": {},
   "outputs": [
    {
     "data": {
      "image/png": "[encoded data removed]",
      "text/plain": [
       "<Figure size 432x288 with 1 Axes>"
      ]
     },
     "metadata": {},
     "output_type": "display_data"
    }
   ],
   "source": [
    "sns.set_style(\"darkgrid\")\n",
    "sns.scatterplot(df['links'], df['roas'])\n",
    "plt.xlabel('number of links')\n",
    "plt.ylabel('return on adspend')\n",
    "plt.title('Do links boost roas?')\n",
    "plt.show()"
   ]
  },
  {
   "cell_type": "code",
   "execution_count": 9,
   "metadata": {},
   "outputs": [],
   "source": [
    "under_700 = df.loc[df['words']<700]\n",
    "over_700 = df.loc[df['words']>=700]"
   ]
  },
  {
   "cell_type": "code",
   "execution_count": 10,
   "metadata": {},
   "outputs": [
    {
     "data": {
      "text/plain": [
       "(Ttest_indResult(statistic=0.9907182819962105, pvalue=0.3260102942525549),\n",
       " 0.05)"
      ]
     },
     "execution_count": 10,
     "metadata": {},
     "output_type": "execute_result"
    }
   ],
   "source": [
    "p_thresh = 0.05\n",
    "ttest_ind(under_700['roas'], over_700['roas']), p_thresh #using a t-test because our samples have 30 datapoints or less"
   ]
  },
  {
   "cell_type": "markdown",
   "metadata": {},
   "source": [
    "we failed to reject the null hypothesis, but we'll do some more digging"
   ]
  },
  {
   "cell_type": "code",
   "execution_count": 11,
   "metadata": {},
   "outputs": [
    {
     "data": {
      "text/plain": [
       "(8.239649538863633, 3.7932887841891887)"
      ]
     },
     "execution_count": 11,
     "metadata": {},
     "output_type": "execute_result"
    }
   ],
   "source": [
    "np.mean(under_700['roas']), np.mean(over_700['roas'])"
   ]
  },
  {
   "cell_type": "code",
   "execution_count": 12,
   "metadata": {},
   "outputs": [
    {
     "data": {
      "text/plain": [
       "(1.2465181955, 1.274138918)"
      ]
     },
     "execution_count": 12,
     "metadata": {},
     "output_type": "execute_result"
    }
   ],
   "source": [
    "np.median(under_700['roas']), np.median(over_700['roas'])"
   ]
  },
  {
   "cell_type": "code",
   "execution_count": 13,
   "metadata": {},
   "outputs": [],
   "source": [
    "def bootstrap(x):\n",
    "    '''preforms a single iteration of the bootstrap sampling technique'''\n",
    "    samples = []\n",
    "    for i in range(len(x)):\n",
    "        sample = random.sample(x, 1)[0]\n",
    "        samples.append(sample)\n",
    "    return samples"
   ]
  },
  {
   "cell_type": "code",
   "execution_count": 14,
   "metadata": {
    "scrolled": true
   },
   "outputs": [
    {
     "data": {
      "image/png": "[encoded data removed]",
      "text/plain": [
       "<Figure size 432x288 with 1 Axes>"
      ]
     },
     "metadata": {},
     "output_type": "display_data"
    }
   ],
   "source": [
    "xbars = []\n",
    "for i in range(10000): #augmenting our population to 10k samples\n",
    "    xbars.append(np.mean(bootstrap(list(under_700['roas']))))\n",
    "    \n",
    "sns.set_style(\"darkgrid\")\n",
    "plt.title('roas of leads with under 700 words in the landing page')\n",
    "sns.kdeplot(xbars)\n",
    "plt.show()"
   ]
  },
  {
   "cell_type": "code",
   "execution_count": 15,
   "metadata": {},
   "outputs": [
    {
     "data": {
      "image/png": "[encoded data removed]",
      "text/plain": [
       "<Figure size 432x288 with 1 Axes>"
      ]
     },
     "metadata": {},
     "output_type": "display_data"
    }
   ],
   "source": [
    "bootstrap(list(over_700['roas']))\n",
    "\n",
    "xbars = []\n",
    "for i in range(10000):\n",
    "    xbars.append(np.mean(bootstrap(list(over_700['roas']))))\n",
    "sns.set_style(\"darkgrid\")\n",
    "plt.title('roas of leads with over 700 words in the landing page')\n",
    "sns.kdeplot(xbars)\n",
    "plt.show()"
   ]
  },
  {
   "cell_type": "code",
   "execution_count": 16,
   "metadata": {},
   "outputs": [
    {
     "data": {
      "text/html": [
       "<div>\n",
       "<style scoped>\n",
       "    .dataframe tbody tr th:only-of-type {\n",
       "        vertical-align: middle;\n",
       "    }\n",
       "\n",
       "    .dataframe tbody tr th {\n",
       "        vertical-align: top;\n",
       "    }\n",
       "\n",
       "    .dataframe thead th {\n",
       "        text-align: right;\n",
       "    }\n",
       "</style>\n",
       "<table border=\"1\" class=\"dataframe\">\n",
       "  <thead>\n",
       "    <tr style=\"text-align: right;\">\n",
       "      <th></th>\n",
       "      <th>name</th>\n",
       "      <th>landingPage</th>\n",
       "      <th>customer</th>\n",
       "      <th>domain</th>\n",
       "      <th>model</th>\n",
       "      <th>source</th>\n",
       "      <th>adspend</th>\n",
       "      <th>hardcosts</th>\n",
       "      <th>revenue</th>\n",
       "      <th>avg_polarity</th>\n",
       "      <th>...</th>\n",
       "      <th>global</th>\n",
       "      <th>percentPaid</th>\n",
       "      <th>sales</th>\n",
       "      <th>adRevenue</th>\n",
       "      <th>cac</th>\n",
       "      <th>roas</th>\n",
       "      <th>profit</th>\n",
       "      <th>profitMargin</th>\n",
       "      <th>lpc</th>\n",
       "      <th>averageOrderValue</th>\n",
       "    </tr>\n",
       "  </thead>\n",
       "  <tbody>\n",
       "    <tr>\n",
       "      <th>0</th>\n",
       "      <td>clickfunnels.com</td>\n",
       "      <td>https://funnelscripts.com/funnelscripts-webclass</td>\n",
       "      <td>1</td>\n",
       "      <td>marketing</td>\n",
       "      <td>software</td>\n",
       "      <td>word of mouth</td>\n",
       "      <td>70000</td>\n",
       "      <td>5000000</td>\n",
       "      <td>9000000</td>\n",
       "      <td>0.219405</td>\n",
       "      <td>...</td>\n",
       "      <td>1270</td>\n",
       "      <td>0.353865</td>\n",
       "      <td>30303</td>\n",
       "      <td>8958189.977</td>\n",
       "      <td>0.038501</td>\n",
       "      <td>127.974142</td>\n",
       "      <td>3930000</td>\n",
       "      <td>0.436667</td>\n",
       "      <td>21736.0</td>\n",
       "      <td>3006.752577</td>\n",
       "    </tr>\n",
       "  </tbody>\n",
       "</table>\n",
       "<p>1 rows × 34 columns</p>\n",
       "</div>"
      ],
      "text/plain": [
       "               name                                       landingPage  \\\n",
       "0  clickfunnels.com  https://funnelscripts.com/funnelscripts-webclass   \n",
       "\n",
       "   customer     domain     model         source  adspend  hardcosts  revenue  \\\n",
       "0         1  marketing  software  word of mouth    70000    5000000  9000000   \n",
       "\n",
       "   avg_polarity  ...  global  percentPaid  sales    adRevenue       cac  \\\n",
       "0      0.219405  ...    1270     0.353865  30303  8958189.977  0.038501   \n",
       "\n",
       "         roas   profit  profitMargin      lpc  averageOrderValue  \n",
       "0  127.974142  3930000      0.436667  21736.0        3006.752577  \n",
       "\n",
       "[1 rows x 34 columns]"
      ]
     },
     "execution_count": 16,
     "metadata": {},
     "output_type": "execute_result"
    }
   ],
   "source": [
    "df.loc[df['roas']==max(df['roas'])] #lead with the highest roas, it's clickfunnels"
   ]
  },
  {
   "cell_type": "markdown",
   "metadata": {},
   "source": [
    "## Actionable insight\n",
    "if a lead's landing page has more than 700 words it is an indicator that their roas is low and there's a leak in their adspend, meaning we could save them a higher percentage of adspend. As a result we can prioritize these leads, reps should ask these prospects questions that reveal if the prospect is unsatisfied with their current roas. Additionally reps can use 'fixing leaks in adspend' as a selling point. We should also note that leads with under 700 word landing pages have more variance and are sparked by outliers with very high roas.\n",
    "\n",
    "in a nutshell...\n",
    "* prioritize leads with 700+ words in their landing page\n",
    "* leverage the leaky adspend pain point for these prospects\n",
    "* offer advice on how to clean up the landing page to provide value upfront"
   ]
  },
  {
   "cell_type": "markdown",
   "metadata": {},
   "source": [
    "# 2. What range accuratley represents the closing rate? In more technical terms, what is the 95% confidence interval?"
   ]
  },
  {
   "cell_type": "code",
   "execution_count": 17,
   "metadata": {},
   "outputs": [],
   "source": [
    "import random \n",
    "\n",
    "def GetCI(pop, n, ss=30, t=2):\n",
    "    '''returns the confidence interval of a population'''\n",
    "    x = []\n",
    "    for i in range(n):\n",
    "        sample = random.sample(pop, ss)\n",
    "        x.append(sum(sample)/len(sample))\n",
    "    xbar = np.mean(x)\n",
    "    sigma = np.std(x)\n",
    "    minimum = xbar - (sigma*t)\n",
    "    maximum = xbar + (sigma*t)\n",
    "    return minimum, maximum, x"
   ]
  },
  {
   "cell_type": "code",
   "execution_count": 18,
   "metadata": {},
   "outputs": [
    {
     "data": {
      "text/plain": [
       "(0.37720670093719866, 0.6313932990628013)"
      ]
     },
     "execution_count": 18,
     "metadata": {},
     "output_type": "execute_result"
    }
   ],
   "source": [
    "minimum, maximumn, x = GetCI(list(df['customer']), 1000)\n",
    "minimum, maximumn"
   ]
  },
  {
   "cell_type": "code",
   "execution_count": 19,
   "metadata": {},
   "outputs": [
    {
     "data": {
      "image/png": "[encoded data removed]",
      "text/plain": [
       "<Figure size 432x288 with 1 Axes>"
      ]
     },
     "metadata": {},
     "output_type": "display_data"
    }
   ],
   "source": [
    "sns.set_style(\"darkgrid\")\n",
    "sns.kdeplot(x)\n",
    "plt.title('closing rates of samples')\n",
    "plt.show()"
   ]
  },
  {
   "cell_type": "markdown",
   "metadata": {},
   "source": [
    "Based on the data we are 95% confident that our closing rate is between 38% and 63%. Do keep in mind that this dataset does not accuratley represent the customer base and the closing rate is likley a good bit lower."
   ]
  },
  {
   "cell_type": "markdown",
   "metadata": {},
   "source": [
    "# 3. What range accuratley represents the revenue of customers? In more technical terms, what is the 95% confidence interval? What about 68%?"
   ]
  },
  {
   "cell_type": "code",
   "execution_count": 20,
   "metadata": {},
   "outputs": [
    {
     "data": {
      "text/plain": [
       "(-957080.4692695397, 5828335.9942695405)"
      ]
     },
     "execution_count": 20,
     "metadata": {},
     "output_type": "execute_result"
    }
   ],
   "source": [
    "customers = df.loc[df['customer']==1] #selecting all the leads who purchased\n",
    "GetCI(list(customers['revenue']), 10, ss=16)[:2]"
   ]
  },
  {
   "cell_type": "markdown",
   "metadata": {},
   "source": [
    "##### We have 95% confidence that our customers generate less than 5.8 million dollars per month on average"
   ]
  },
  {
   "cell_type": "code",
   "execution_count": 21,
   "metadata": {},
   "outputs": [
    {
     "data": {
      "text/plain": [
       "(1014839.1613803937, 4332964.438619606)"
      ]
     },
     "execution_count": 21,
     "metadata": {},
     "output_type": "execute_result"
    }
   ],
   "source": [
    "GetCI(list(customers['revenue']), 10, ss=16, t=1)[:2]"
   ]
  },
  {
   "cell_type": "markdown",
   "metadata": {},
   "source": [
    "We have 68% confidence that our customers generate 1 to 4.3 million dollars per month on average"
   ]
  },
  {
   "cell_type": "code",
   "execution_count": 22,
   "metadata": {
    "scrolled": true
   },
   "outputs": [
    {
     "data": {
      "text/html": [
       "<div>\n",
       "<style scoped>\n",
       "    .dataframe tbody tr th:only-of-type {\n",
       "        vertical-align: middle;\n",
       "    }\n",
       "\n",
       "    .dataframe tbody tr th {\n",
       "        vertical-align: top;\n",
       "    }\n",
       "\n",
       "    .dataframe thead th {\n",
       "        text-align: right;\n",
       "    }\n",
       "</style>\n",
       "<table border=\"1\" class=\"dataframe\">\n",
       "  <thead>\n",
       "    <tr style=\"text-align: right;\">\n",
       "      <th></th>\n",
       "      <th>name</th>\n",
       "      <th>landingPage</th>\n",
       "      <th>customer</th>\n",
       "      <th>domain</th>\n",
       "      <th>model</th>\n",
       "      <th>source</th>\n",
       "      <th>adspend</th>\n",
       "      <th>hardcosts</th>\n",
       "      <th>revenue</th>\n",
       "      <th>avg_polarity</th>\n",
       "      <th>...</th>\n",
       "      <th>global</th>\n",
       "      <th>percentPaid</th>\n",
       "      <th>sales</th>\n",
       "      <th>adRevenue</th>\n",
       "      <th>cac</th>\n",
       "      <th>roas</th>\n",
       "      <th>profit</th>\n",
       "      <th>profitMargin</th>\n",
       "      <th>lpc</th>\n",
       "      <th>averageOrderValue</th>\n",
       "    </tr>\n",
       "  </thead>\n",
       "  <tbody>\n",
       "    <tr>\n",
       "      <th>1</th>\n",
       "      <td>kinobody.com</td>\n",
       "      <td>https://go.kinobody.com/quiz/</td>\n",
       "      <td>1</td>\n",
       "      <td>fitness</td>\n",
       "      <td>info</td>\n",
       "      <td>word of mouth</td>\n",
       "      <td>210000</td>\n",
       "      <td>20000</td>\n",
       "      <td>630000</td>\n",
       "      <td>0.067753</td>\n",
       "      <td>...</td>\n",
       "      <td>88504</td>\n",
       "      <td>0.121291</td>\n",
       "      <td>9130</td>\n",
       "      <td>5.145120e+05</td>\n",
       "      <td>138.980807</td>\n",
       "      <td>2.450057</td>\n",
       "      <td>400000</td>\n",
       "      <td>0.634921</td>\n",
       "      <td>105833.00000</td>\n",
       "      <td>9.700074</td>\n",
       "    </tr>\n",
       "    <tr>\n",
       "      <th>2</th>\n",
       "      <td>FrankKern.com</td>\n",
       "      <td>https://frankkernbook.com/optin24883998?utm_so...</td>\n",
       "      <td>1</td>\n",
       "      <td>entrepreneurship</td>\n",
       "      <td>info</td>\n",
       "      <td>NaN</td>\n",
       "      <td>54437</td>\n",
       "      <td>18666</td>\n",
       "      <td>583310</td>\n",
       "      <td>0.000000</td>\n",
       "      <td>...</td>\n",
       "      <td>120191</td>\n",
       "      <td>0.174400</td>\n",
       "      <td>194</td>\n",
       "      <td>7.174713e+04</td>\n",
       "      <td>280.000000</td>\n",
       "      <td>1.317985</td>\n",
       "      <td>510207</td>\n",
       "      <td>87.470000</td>\n",
       "      <td>2198.00000</td>\n",
       "      <td>996.810407</td>\n",
       "    </tr>\n",
       "    <tr>\n",
       "      <th>3</th>\n",
       "      <td>ImpactTheory.Com</td>\n",
       "      <td>NaN</td>\n",
       "      <td>1</td>\n",
       "      <td>self-development</td>\n",
       "      <td>media</td>\n",
       "      <td>NaN</td>\n",
       "      <td>126095</td>\n",
       "      <td>8000</td>\n",
       "      <td>250000</td>\n",
       "      <td>0.288006</td>\n",
       "      <td>...</td>\n",
       "      <td>211062</td>\n",
       "      <td>0.140200</td>\n",
       "      <td>25773</td>\n",
       "      <td>3.057500e+04</td>\n",
       "      <td>5.000000</td>\n",
       "      <td>0.242476</td>\n",
       "      <td>115905</td>\n",
       "      <td>46.360000</td>\n",
       "      <td>10787.69697</td>\n",
       "      <td>297.007329</td>\n",
       "    </tr>\n",
       "    <tr>\n",
       "      <th>6</th>\n",
       "      <td>ShopaNova.com</td>\n",
       "      <td>https://shopanova-and-me.com/shopanova-home-pa...</td>\n",
       "      <td>1</td>\n",
       "      <td>ecommerce</td>\n",
       "      <td>software</td>\n",
       "      <td>NaN</td>\n",
       "      <td>100000</td>\n",
       "      <td>200000</td>\n",
       "      <td>333333</td>\n",
       "      <td>0.000000</td>\n",
       "      <td>...</td>\n",
       "      <td>5225496</td>\n",
       "      <td>0.210243</td>\n",
       "      <td>167</td>\n",
       "      <td>1.283670e+05</td>\n",
       "      <td>599.000000</td>\n",
       "      <td>1.283670</td>\n",
       "      <td>33333</td>\n",
       "      <td>10.000000</td>\n",
       "      <td>17.00000</td>\n",
       "      <td>296.998123</td>\n",
       "    </tr>\n",
       "    <tr>\n",
       "      <th>7</th>\n",
       "      <td>SamCart.io</td>\n",
       "      <td>https://try.samcart.com/passive-income-with-co...</td>\n",
       "      <td>1</td>\n",
       "      <td>ecommerce</td>\n",
       "      <td>software</td>\n",
       "      <td>NaN</td>\n",
       "      <td>218815</td>\n",
       "      <td>450000</td>\n",
       "      <td>750000</td>\n",
       "      <td>0.072365</td>\n",
       "      <td>...</td>\n",
       "      <td>5225501</td>\n",
       "      <td>0.323200</td>\n",
       "      <td>7576</td>\n",
       "      <td>2.575500e+05</td>\n",
       "      <td>29.000000</td>\n",
       "      <td>1.177022</td>\n",
       "      <td>81185</td>\n",
       "      <td>10.820000</td>\n",
       "      <td>75.00000</td>\n",
       "      <td>197.036453</td>\n",
       "    </tr>\n",
       "    <tr>\n",
       "      <th>8</th>\n",
       "      <td>billygeneismarketing.com</td>\n",
       "      <td>https://www.getbillysadvantage.com/free-traini...</td>\n",
       "      <td>1</td>\n",
       "      <td>entrepreneurship</td>\n",
       "      <td>info</td>\n",
       "      <td>NaN</td>\n",
       "      <td>116155</td>\n",
       "      <td>12799</td>\n",
       "      <td>399984</td>\n",
       "      <td>0.103704</td>\n",
       "      <td>...</td>\n",
       "      <td>270673</td>\n",
       "      <td>0.210243</td>\n",
       "      <td>2030</td>\n",
       "      <td>1.516740e+05</td>\n",
       "      <td>57.000000</td>\n",
       "      <td>1.305790</td>\n",
       "      <td>271030</td>\n",
       "      <td>67.760000</td>\n",
       "      <td>47.00000</td>\n",
       "      <td>999.960000</td>\n",
       "    </tr>\n",
       "    <tr>\n",
       "      <th>9</th>\n",
       "      <td>Ladyboss.com</td>\n",
       "      <td>https://go.ladyboss.com/content/FsBWWFycvPFLmo2</td>\n",
       "      <td>1</td>\n",
       "      <td>fitness</td>\n",
       "      <td>info</td>\n",
       "      <td>NaN</td>\n",
       "      <td>521329</td>\n",
       "      <td>30399</td>\n",
       "      <td>949962</td>\n",
       "      <td>0.041987</td>\n",
       "      <td>...</td>\n",
       "      <td>338734</td>\n",
       "      <td>0.357900</td>\n",
       "      <td>950</td>\n",
       "      <td>4.018340e+05</td>\n",
       "      <td>549.000000</td>\n",
       "      <td>0.686967</td>\n",
       "      <td>561427</td>\n",
       "      <td>59.010000</td>\n",
       "      <td>298.00000</td>\n",
       "      <td>39.989812</td>\n",
       "    </tr>\n",
       "    <tr>\n",
       "      <th>10</th>\n",
       "      <td>GymLaunch.com</td>\n",
       "      <td>NaN</td>\n",
       "      <td>1</td>\n",
       "      <td>entrepreneurship</td>\n",
       "      <td>info</td>\n",
       "      <td>NaN</td>\n",
       "      <td>97574</td>\n",
       "      <td>10752</td>\n",
       "      <td>336000</td>\n",
       "      <td>0.103704</td>\n",
       "      <td>...</td>\n",
       "      <td>2812988</td>\n",
       "      <td>0.210243</td>\n",
       "      <td>56</td>\n",
       "      <td>1.112830e+05</td>\n",
       "      <td>1742.000000</td>\n",
       "      <td>1.140498</td>\n",
       "      <td>227674</td>\n",
       "      <td>67.760000</td>\n",
       "      <td>10787.69697</td>\n",
       "      <td>3000.000000</td>\n",
       "    </tr>\n",
       "    <tr>\n",
       "      <th>11</th>\n",
       "      <td>SmarterNutrition.com</td>\n",
       "      <td>https://try.smarternutrition.com/collagen/</td>\n",
       "      <td>1</td>\n",
       "      <td>fitness</td>\n",
       "      <td>ecommerce</td>\n",
       "      <td>NaN</td>\n",
       "      <td>45035</td>\n",
       "      <td>27475</td>\n",
       "      <td>78500</td>\n",
       "      <td>0.000000</td>\n",
       "      <td>...</td>\n",
       "      <td>632196</td>\n",
       "      <td>0.210243</td>\n",
       "      <td>1963</td>\n",
       "      <td>3.227900e+04</td>\n",
       "      <td>23.000000</td>\n",
       "      <td>0.716754</td>\n",
       "      <td>5990</td>\n",
       "      <td>7.630000</td>\n",
       "      <td>2506.00000</td>\n",
       "      <td>799.359712</td>\n",
       "    </tr>\n",
       "    <tr>\n",
       "      <th>12</th>\n",
       "      <td>thedouglasjames.com</td>\n",
       "      <td>NaN</td>\n",
       "      <td>1</td>\n",
       "      <td>entrepreneurship</td>\n",
       "      <td>info</td>\n",
       "      <td>NaN</td>\n",
       "      <td>60984</td>\n",
       "      <td>6720</td>\n",
       "      <td>210000</td>\n",
       "      <td>0.103704</td>\n",
       "      <td>...</td>\n",
       "      <td>2143456</td>\n",
       "      <td>0.210243</td>\n",
       "      <td>70</td>\n",
       "      <td>7.375200e+04</td>\n",
       "      <td>871.000000</td>\n",
       "      <td>1.209366</td>\n",
       "      <td>143200</td>\n",
       "      <td>67.760000</td>\n",
       "      <td>10787.69697</td>\n",
       "      <td>5000.000000</td>\n",
       "    </tr>\n",
       "    <tr>\n",
       "      <th>13</th>\n",
       "      <td>fulltimefilmmaker.com</td>\n",
       "      <td>https://www.fulltimefilmmaker.com/mailchimpfbads</td>\n",
       "      <td>1</td>\n",
       "      <td>film</td>\n",
       "      <td>info</td>\n",
       "      <td>NaN</td>\n",
       "      <td>65272</td>\n",
       "      <td>10667</td>\n",
       "      <td>333333</td>\n",
       "      <td>0.103704</td>\n",
       "      <td>...</td>\n",
       "      <td>101531</td>\n",
       "      <td>0.308800</td>\n",
       "      <td>417</td>\n",
       "      <td>7.426700e+04</td>\n",
       "      <td>157.000000</td>\n",
       "      <td>1.137808</td>\n",
       "      <td>257394</td>\n",
       "      <td>77.220000</td>\n",
       "      <td>128.00000</td>\n",
       "      <td>497.000000</td>\n",
       "    </tr>\n",
       "    <tr>\n",
       "      <th>14</th>\n",
       "      <td>webuildbrands UG</td>\n",
       "      <td>NaN</td>\n",
       "      <td>1</td>\n",
       "      <td>marketing</td>\n",
       "      <td>consulting</td>\n",
       "      <td>NaN</td>\n",
       "      <td>198000</td>\n",
       "      <td>0</td>\n",
       "      <td>495000</td>\n",
       "      <td>0.103704</td>\n",
       "      <td>...</td>\n",
       "      <td>5225501</td>\n",
       "      <td>0.210243</td>\n",
       "      <td>99</td>\n",
       "      <td>2.158200e+06</td>\n",
       "      <td>0.000000</td>\n",
       "      <td>10.900000</td>\n",
       "      <td>495000</td>\n",
       "      <td>100.000000</td>\n",
       "      <td>10787.69697</td>\n",
       "      <td>44.999903</td>\n",
       "    </tr>\n",
       "    <tr>\n",
       "      <th>15</th>\n",
       "      <td>leadgenblueprint.ryanwegner.com</td>\n",
       "      <td>https://www.highticketcoaches.co/limited-time-...</td>\n",
       "      <td>1</td>\n",
       "      <td>entrepreneurship</td>\n",
       "      <td>info</td>\n",
       "      <td>NaN</td>\n",
       "      <td>14289</td>\n",
       "      <td>1574</td>\n",
       "      <td>49203</td>\n",
       "      <td>0.103704</td>\n",
       "      <td>...</td>\n",
       "      <td>5225501</td>\n",
       "      <td>0.210243</td>\n",
       "      <td>99</td>\n",
       "      <td>1.851000e+04</td>\n",
       "      <td>144.000000</td>\n",
       "      <td>1.295402</td>\n",
       "      <td>33334</td>\n",
       "      <td>67.760000</td>\n",
       "      <td>140.00000</td>\n",
       "      <td>1994.299145</td>\n",
       "    </tr>\n",
       "    <tr>\n",
       "      <th>17</th>\n",
       "      <td>NINEUNIVERSITY.COM</td>\n",
       "      <td>NaN</td>\n",
       "      <td>1</td>\n",
       "      <td>ecommerce</td>\n",
       "      <td>info</td>\n",
       "      <td>NaN</td>\n",
       "      <td>67760</td>\n",
       "      <td>7467</td>\n",
       "      <td>233333</td>\n",
       "      <td>0.103704</td>\n",
       "      <td>...</td>\n",
       "      <td>152564</td>\n",
       "      <td>0.210243</td>\n",
       "      <td>117</td>\n",
       "      <td>8.428000e+04</td>\n",
       "      <td>579.000000</td>\n",
       "      <td>1.243802</td>\n",
       "      <td>158106</td>\n",
       "      <td>67.760000</td>\n",
       "      <td>10787.69697</td>\n",
       "      <td>792.000000</td>\n",
       "    </tr>\n",
       "    <tr>\n",
       "      <th>18</th>\n",
       "      <td>peterszabo.co</td>\n",
       "      <td>https://now.peterszabo.co/free-webclass/</td>\n",
       "      <td>1</td>\n",
       "      <td>entrepreneurship</td>\n",
       "      <td>info</td>\n",
       "      <td>NaN</td>\n",
       "      <td>36300</td>\n",
       "      <td>4000</td>\n",
       "      <td>125000</td>\n",
       "      <td>0.277778</td>\n",
       "      <td>...</td>\n",
       "      <td>4023789</td>\n",
       "      <td>0.788000</td>\n",
       "      <td>42</td>\n",
       "      <td>4.390000e+04</td>\n",
       "      <td>865.000000</td>\n",
       "      <td>1.209366</td>\n",
       "      <td>84700</td>\n",
       "      <td>67.760000</td>\n",
       "      <td>123.00000</td>\n",
       "      <td>5000.000000</td>\n",
       "    </tr>\n",
       "    <tr>\n",
       "      <th>19</th>\n",
       "      <td>Current9.com</td>\n",
       "      <td>https://go.current9.com/try-current948920879</td>\n",
       "      <td>1</td>\n",
       "      <td>entrepreneurship</td>\n",
       "      <td>info</td>\n",
       "      <td>NaN</td>\n",
       "      <td>22767</td>\n",
       "      <td>2509</td>\n",
       "      <td>78408</td>\n",
       "      <td>0.103704</td>\n",
       "      <td>...</td>\n",
       "      <td>5225501</td>\n",
       "      <td>0.210243</td>\n",
       "      <td>99</td>\n",
       "      <td>2.926100e+04</td>\n",
       "      <td>230.000000</td>\n",
       "      <td>1.285237</td>\n",
       "      <td>53132</td>\n",
       "      <td>67.390000</td>\n",
       "      <td>451.00000</td>\n",
       "      <td>6000.000000</td>\n",
       "    </tr>\n",
       "    <tr>\n",
       "      <th>20</th>\n",
       "      <td>rydermedia.com</td>\n",
       "      <td>NaN</td>\n",
       "      <td>1</td>\n",
       "      <td>marketing</td>\n",
       "      <td>consulting</td>\n",
       "      <td>NaN</td>\n",
       "      <td>198000</td>\n",
       "      <td>0</td>\n",
       "      <td>495000</td>\n",
       "      <td>0.103704</td>\n",
       "      <td>...</td>\n",
       "      <td>5225501</td>\n",
       "      <td>0.210243</td>\n",
       "      <td>99</td>\n",
       "      <td>2.039400e+06</td>\n",
       "      <td>0.000000</td>\n",
       "      <td>10.300000</td>\n",
       "      <td>495000</td>\n",
       "      <td>100.000000</td>\n",
       "      <td>10787.69697</td>\n",
       "      <td>5000.000000</td>\n",
       "    </tr>\n",
       "    <tr>\n",
       "      <th>21</th>\n",
       "      <td>prestigepromedia.com</td>\n",
       "      <td>NaN</td>\n",
       "      <td>1</td>\n",
       "      <td>marketing</td>\n",
       "      <td>consulting</td>\n",
       "      <td>NaN</td>\n",
       "      <td>31200</td>\n",
       "      <td>0</td>\n",
       "      <td>78000</td>\n",
       "      <td>0.103704</td>\n",
       "      <td>...</td>\n",
       "      <td>2515826</td>\n",
       "      <td>0.210243</td>\n",
       "      <td>13</td>\n",
       "      <td>3.213600e+05</td>\n",
       "      <td>0.000000</td>\n",
       "      <td>10.300000</td>\n",
       "      <td>78000</td>\n",
       "      <td>100.000000</td>\n",
       "      <td>10787.69697</td>\n",
       "      <td>295.089943</td>\n",
       "    </tr>\n",
       "    <tr>\n",
       "      <th>22</th>\n",
       "      <td>admagnet.com</td>\n",
       "      <td>NaN</td>\n",
       "      <td>1</td>\n",
       "      <td>marketing</td>\n",
       "      <td>consulting</td>\n",
       "      <td>NaN</td>\n",
       "      <td>198000</td>\n",
       "      <td>0</td>\n",
       "      <td>495000</td>\n",
       "      <td>0.103704</td>\n",
       "      <td>...</td>\n",
       "      <td>5225501</td>\n",
       "      <td>0.210243</td>\n",
       "      <td>99</td>\n",
       "      <td>1.999800e+06</td>\n",
       "      <td>0.000000</td>\n",
       "      <td>10.100000</td>\n",
       "      <td>495000</td>\n",
       "      <td>100.000000</td>\n",
       "      <td>10787.69697</td>\n",
       "      <td>6395.833375</td>\n",
       "    </tr>\n",
       "    <tr>\n",
       "      <th>23</th>\n",
       "      <td>AdSkills.com</td>\n",
       "      <td>NaN</td>\n",
       "      <td>1</td>\n",
       "      <td>marketing</td>\n",
       "      <td>consulting</td>\n",
       "      <td>NaN</td>\n",
       "      <td>41924</td>\n",
       "      <td>0</td>\n",
       "      <td>416667</td>\n",
       "      <td>-0.400000</td>\n",
       "      <td>...</td>\n",
       "      <td>195812</td>\n",
       "      <td>0.146600</td>\n",
       "      <td>1412</td>\n",
       "      <td>5.341700e+04</td>\n",
       "      <td>27.000000</td>\n",
       "      <td>1.274139</td>\n",
       "      <td>374743</td>\n",
       "      <td>89.940000</td>\n",
       "      <td>10787.69697</td>\n",
       "      <td>15.000000</td>\n",
       "    </tr>\n",
       "    <tr>\n",
       "      <th>25</th>\n",
       "      <td>heybrain.com</td>\n",
       "      <td>NaN</td>\n",
       "      <td>1</td>\n",
       "      <td>technology</td>\n",
       "      <td>info</td>\n",
       "      <td>NaN</td>\n",
       "      <td>15000</td>\n",
       "      <td>48</td>\n",
       "      <td>1485</td>\n",
       "      <td>-0.073704</td>\n",
       "      <td>...</td>\n",
       "      <td>5225501</td>\n",
       "      <td>0.210243</td>\n",
       "      <td>99</td>\n",
       "      <td>1.485000e+03</td>\n",
       "      <td>152.000000</td>\n",
       "      <td>0.099000</td>\n",
       "      <td>-13563</td>\n",
       "      <td>-9.130000</td>\n",
       "      <td>10787.69697</td>\n",
       "      <td>1250.000000</td>\n",
       "    </tr>\n",
       "    <tr>\n",
       "      <th>26</th>\n",
       "      <td>milliondollarfirms.co</td>\n",
       "      <td>https://www.milliondollarfirms.co/join-now</td>\n",
       "      <td>1</td>\n",
       "      <td>finance</td>\n",
       "      <td>info</td>\n",
       "      <td>NaN</td>\n",
       "      <td>57413</td>\n",
       "      <td>6326</td>\n",
       "      <td>197703</td>\n",
       "      <td>0.103704</td>\n",
       "      <td>...</td>\n",
       "      <td>1633406</td>\n",
       "      <td>0.210243</td>\n",
       "      <td>99</td>\n",
       "      <td>7.141000e+04</td>\n",
       "      <td>580.000000</td>\n",
       "      <td>1.243795</td>\n",
       "      <td>133964</td>\n",
       "      <td>67.760000</td>\n",
       "      <td>2845.00000</td>\n",
       "      <td>499.749625</td>\n",
       "    </tr>\n",
       "    <tr>\n",
       "      <th>27</th>\n",
       "      <td>rankoneecommerce.com</td>\n",
       "      <td>https://rankoneecommerce.com/info1</td>\n",
       "      <td>1</td>\n",
       "      <td>ecommerce</td>\n",
       "      <td>software</td>\n",
       "      <td>NaN</td>\n",
       "      <td>37125</td>\n",
       "      <td>74250</td>\n",
       "      <td>123750</td>\n",
       "      <td>0.103704</td>\n",
       "      <td>...</td>\n",
       "      <td>5225501</td>\n",
       "      <td>0.210243</td>\n",
       "      <td>99</td>\n",
       "      <td>3.971100e+04</td>\n",
       "      <td>375.000000</td>\n",
       "      <td>1.069657</td>\n",
       "      <td>12375</td>\n",
       "      <td>10.000000</td>\n",
       "      <td>648.00000</td>\n",
       "      <td>5000.000000</td>\n",
       "    </tr>\n",
       "    <tr>\n",
       "      <th>28</th>\n",
       "      <td>leadjolt.com</td>\n",
       "      <td>NaN</td>\n",
       "      <td>1</td>\n",
       "      <td>marketing</td>\n",
       "      <td>consulting</td>\n",
       "      <td>NaN</td>\n",
       "      <td>133333</td>\n",
       "      <td>0</td>\n",
       "      <td>333333</td>\n",
       "      <td>0.103704</td>\n",
       "      <td>...</td>\n",
       "      <td>5225501</td>\n",
       "      <td>0.210243</td>\n",
       "      <td>667</td>\n",
       "      <td>1.266665e+06</td>\n",
       "      <td>0.000000</td>\n",
       "      <td>9.500011</td>\n",
       "      <td>333333</td>\n",
       "      <td>100.000000</td>\n",
       "      <td>10787.69697</td>\n",
       "      <td>16666.650000</td>\n",
       "    </tr>\n",
       "    <tr>\n",
       "      <th>29</th>\n",
       "      <td>InclusivleyCreative.com</td>\n",
       "      <td>https://www.inclusivelycreative.agency/work-wi...</td>\n",
       "      <td>1</td>\n",
       "      <td>marketing</td>\n",
       "      <td>consulting</td>\n",
       "      <td>NaN</td>\n",
       "      <td>198000</td>\n",
       "      <td>0</td>\n",
       "      <td>495000</td>\n",
       "      <td>0.103704</td>\n",
       "      <td>...</td>\n",
       "      <td>5225501</td>\n",
       "      <td>0.210243</td>\n",
       "      <td>99</td>\n",
       "      <td>1.861200e+06</td>\n",
       "      <td>0.000000</td>\n",
       "      <td>9.400000</td>\n",
       "      <td>495000</td>\n",
       "      <td>100.000000</td>\n",
       "      <td>1194.00000</td>\n",
       "      <td>2000.000000</td>\n",
       "    </tr>\n",
       "  </tbody>\n",
       "</table>\n",
       "<p>25 rows × 34 columns</p>\n",
       "</div>"
      ],
      "text/plain": [
       "                               name  \\\n",
       "1                      kinobody.com   \n",
       "2                     FrankKern.com   \n",
       "3                  ImpactTheory.Com   \n",
       "6                     ShopaNova.com   \n",
       "7                        SamCart.io   \n",
       "8          billygeneismarketing.com   \n",
       "9                      Ladyboss.com   \n",
       "10                    GymLaunch.com   \n",
       "11             SmarterNutrition.com   \n",
       "12              thedouglasjames.com   \n",
       "13            fulltimefilmmaker.com   \n",
       "14                 webuildbrands UG   \n",
       "15  leadgenblueprint.ryanwegner.com   \n",
       "17               NINEUNIVERSITY.COM   \n",
       "18                    peterszabo.co   \n",
       "19                     Current9.com   \n",
       "20                   rydermedia.com   \n",
       "21             prestigepromedia.com   \n",
       "22                     admagnet.com   \n",
       "23                     AdSkills.com   \n",
       "25                     heybrain.com   \n",
       "26            milliondollarfirms.co   \n",
       "27             rankoneecommerce.com   \n",
       "28                     leadjolt.com   \n",
       "29          InclusivleyCreative.com   \n",
       "\n",
       "                                          landingPage  customer  \\\n",
       "1                       https://go.kinobody.com/quiz/         1   \n",
       "2   https://frankkernbook.com/optin24883998?utm_so...         1   \n",
       "3                                                 NaN         1   \n",
       "6   https://shopanova-and-me.com/shopanova-home-pa...         1   \n",
       "7   https://try.samcart.com/passive-income-with-co...         1   \n",
       "8   https://www.getbillysadvantage.com/free-traini...         1   \n",
       "9     https://go.ladyboss.com/content/FsBWWFycvPFLmo2         1   \n",
       "10                                                NaN         1   \n",
       "11         https://try.smarternutrition.com/collagen/         1   \n",
       "12                                                NaN         1   \n",
       "13   https://www.fulltimefilmmaker.com/mailchimpfbads         1   \n",
       "14                                                NaN         1   \n",
       "15  https://www.highticketcoaches.co/limited-time-...         1   \n",
       "17                                                NaN         1   \n",
       "18           https://now.peterszabo.co/free-webclass/         1   \n",
       "19       https://go.current9.com/try-current948920879         1   \n",
       "20                                                NaN         1   \n",
       "21                                                NaN         1   \n",
       "22                                                NaN         1   \n",
       "23                                                NaN         1   \n",
       "25                                                NaN         1   \n",
       "26         https://www.milliondollarfirms.co/join-now         1   \n",
       "27                 https://rankoneecommerce.com/info1         1   \n",
       "28                                                NaN         1   \n",
       "29  https://www.inclusivelycreative.agency/work-wi...         1   \n",
       "\n",
       "              domain       model         source  adspend  hardcosts  revenue  \\\n",
       "1            fitness        info  word of mouth   210000      20000   630000   \n",
       "2   entrepreneurship        info            NaN    54437      18666   583310   \n",
       "3   self-development       media            NaN   126095       8000   250000   \n",
       "6          ecommerce    software            NaN   100000     200000   333333   \n",
       "7          ecommerce    software            NaN   218815     450000   750000   \n",
       "8   entrepreneurship        info            NaN   116155      12799   399984   \n",
       "9            fitness        info            NaN   521329      30399   949962   \n",
       "10  entrepreneurship        info            NaN    97574      10752   336000   \n",
       "11           fitness   ecommerce            NaN    45035      27475    78500   \n",
       "12  entrepreneurship        info            NaN    60984       6720   210000   \n",
       "13              film        info            NaN    65272      10667   333333   \n",
       "14         marketing  consulting            NaN   198000          0   495000   \n",
       "15  entrepreneurship        info            NaN    14289       1574    49203   \n",
       "17         ecommerce        info            NaN    67760       7467   233333   \n",
       "18  entrepreneurship        info            NaN    36300       4000   125000   \n",
       "19  entrepreneurship        info            NaN    22767       2509    78408   \n",
       "20         marketing  consulting            NaN   198000          0   495000   \n",
       "21         marketing  consulting            NaN    31200          0    78000   \n",
       "22         marketing  consulting            NaN   198000          0   495000   \n",
       "23         marketing  consulting            NaN    41924          0   416667   \n",
       "25        technology        info            NaN    15000         48     1485   \n",
       "26           finance        info            NaN    57413       6326   197703   \n",
       "27         ecommerce    software            NaN    37125      74250   123750   \n",
       "28         marketing  consulting            NaN   133333          0   333333   \n",
       "29         marketing  consulting            NaN   198000          0   495000   \n",
       "\n",
       "    avg_polarity  ...   global  percentPaid  sales     adRevenue          cac  \\\n",
       "1       0.067753  ...    88504     0.121291   9130  5.145120e+05   138.980807   \n",
       "2       0.000000  ...   120191     0.174400    194  7.174713e+04   280.000000   \n",
       "3       0.288006  ...   211062     0.140200  25773  3.057500e+04     5.000000   \n",
       "6       0.000000  ...  5225496     0.210243    167  1.283670e+05   599.000000   \n",
       "7       0.072365  ...  5225501     0.323200   7576  2.575500e+05    29.000000   \n",
       "8       0.103704  ...   270673     0.210243   2030  1.516740e+05    57.000000   \n",
       "9       0.041987  ...   338734     0.357900    950  4.018340e+05   549.000000   \n",
       "10      0.103704  ...  2812988     0.210243     56  1.112830e+05  1742.000000   \n",
       "11      0.000000  ...   632196     0.210243   1963  3.227900e+04    23.000000   \n",
       "12      0.103704  ...  2143456     0.210243     70  7.375200e+04   871.000000   \n",
       "13      0.103704  ...   101531     0.308800    417  7.426700e+04   157.000000   \n",
       "14      0.103704  ...  5225501     0.210243     99  2.158200e+06     0.000000   \n",
       "15      0.103704  ...  5225501     0.210243     99  1.851000e+04   144.000000   \n",
       "17      0.103704  ...   152564     0.210243    117  8.428000e+04   579.000000   \n",
       "18      0.277778  ...  4023789     0.788000     42  4.390000e+04   865.000000   \n",
       "19      0.103704  ...  5225501     0.210243     99  2.926100e+04   230.000000   \n",
       "20      0.103704  ...  5225501     0.210243     99  2.039400e+06     0.000000   \n",
       "21      0.103704  ...  2515826     0.210243     13  3.213600e+05     0.000000   \n",
       "22      0.103704  ...  5225501     0.210243     99  1.999800e+06     0.000000   \n",
       "23     -0.400000  ...   195812     0.146600   1412  5.341700e+04    27.000000   \n",
       "25     -0.073704  ...  5225501     0.210243     99  1.485000e+03   152.000000   \n",
       "26      0.103704  ...  1633406     0.210243     99  7.141000e+04   580.000000   \n",
       "27      0.103704  ...  5225501     0.210243     99  3.971100e+04   375.000000   \n",
       "28      0.103704  ...  5225501     0.210243    667  1.266665e+06     0.000000   \n",
       "29      0.103704  ...  5225501     0.210243     99  1.861200e+06     0.000000   \n",
       "\n",
       "         roas  profit  profitMargin           lpc  averageOrderValue  \n",
       "1    2.450057  400000      0.634921  105833.00000           9.700074  \n",
       "2    1.317985  510207     87.470000    2198.00000         996.810407  \n",
       "3    0.242476  115905     46.360000   10787.69697         297.007329  \n",
       "6    1.283670   33333     10.000000      17.00000         296.998123  \n",
       "7    1.177022   81185     10.820000      75.00000         197.036453  \n",
       "8    1.305790  271030     67.760000      47.00000         999.960000  \n",
       "9    0.686967  561427     59.010000     298.00000          39.989812  \n",
       "10   1.140498  227674     67.760000   10787.69697        3000.000000  \n",
       "11   0.716754    5990      7.630000    2506.00000         799.359712  \n",
       "12   1.209366  143200     67.760000   10787.69697        5000.000000  \n",
       "13   1.137808  257394     77.220000     128.00000         497.000000  \n",
       "14  10.900000  495000    100.000000   10787.69697          44.999903  \n",
       "15   1.295402   33334     67.760000     140.00000        1994.299145  \n",
       "17   1.243802  158106     67.760000   10787.69697         792.000000  \n",
       "18   1.209366   84700     67.760000     123.00000        5000.000000  \n",
       "19   1.285237   53132     67.390000     451.00000        6000.000000  \n",
       "20  10.300000  495000    100.000000   10787.69697        5000.000000  \n",
       "21  10.300000   78000    100.000000   10787.69697         295.089943  \n",
       "22  10.100000  495000    100.000000   10787.69697        6395.833375  \n",
       "23   1.274139  374743     89.940000   10787.69697          15.000000  \n",
       "25   0.099000  -13563     -9.130000   10787.69697        1250.000000  \n",
       "26   1.243795  133964     67.760000    2845.00000         499.749625  \n",
       "27   1.069657   12375     10.000000     648.00000        5000.000000  \n",
       "28   9.500011  333333    100.000000   10787.69697       16666.650000  \n",
       "29   9.400000  495000    100.000000    1194.00000        2000.000000  \n",
       "\n",
       "[25 rows x 34 columns]"
      ]
     },
     "execution_count": 22,
     "metadata": {},
     "output_type": "execute_result"
    }
   ],
   "source": [
    "customers.loc[customers['revenue']<=1000000]"
   ]
  },
  {
   "cell_type": "code",
   "execution_count": 23,
   "metadata": {
    "scrolled": true
   },
   "outputs": [
    {
     "data": {
      "text/html": [
       "<div>\n",
       "<style scoped>\n",
       "    .dataframe tbody tr th:only-of-type {\n",
       "        vertical-align: middle;\n",
       "    }\n",
       "\n",
       "    .dataframe tbody tr th {\n",
       "        vertical-align: top;\n",
       "    }\n",
       "\n",
       "    .dataframe thead th {\n",
       "        text-align: right;\n",
       "    }\n",
       "</style>\n",
       "<table border=\"1\" class=\"dataframe\">\n",
       "  <thead>\n",
       "    <tr style=\"text-align: right;\">\n",
       "      <th></th>\n",
       "      <th>name</th>\n",
       "      <th>landingPage</th>\n",
       "      <th>customer</th>\n",
       "      <th>domain</th>\n",
       "      <th>model</th>\n",
       "      <th>source</th>\n",
       "      <th>adspend</th>\n",
       "      <th>hardcosts</th>\n",
       "      <th>revenue</th>\n",
       "      <th>avg_polarity</th>\n",
       "      <th>...</th>\n",
       "      <th>global</th>\n",
       "      <th>percentPaid</th>\n",
       "      <th>sales</th>\n",
       "      <th>adRevenue</th>\n",
       "      <th>cac</th>\n",
       "      <th>roas</th>\n",
       "      <th>profit</th>\n",
       "      <th>profitMargin</th>\n",
       "      <th>lpc</th>\n",
       "      <th>averageOrderValue</th>\n",
       "    </tr>\n",
       "  </thead>\n",
       "  <tbody>\n",
       "    <tr>\n",
       "      <th>0</th>\n",
       "      <td>clickfunnels.com</td>\n",
       "      <td>https://funnelscripts.com/funnelscripts-webclass</td>\n",
       "      <td>1</td>\n",
       "      <td>marketing</td>\n",
       "      <td>software</td>\n",
       "      <td>word of mouth</td>\n",
       "      <td>70000</td>\n",
       "      <td>5000000</td>\n",
       "      <td>9000000</td>\n",
       "      <td>0.219405</td>\n",
       "      <td>...</td>\n",
       "      <td>1270</td>\n",
       "      <td>0.353865</td>\n",
       "      <td>30303</td>\n",
       "      <td>8958189.977</td>\n",
       "      <td>0.038501</td>\n",
       "      <td>127.974142</td>\n",
       "      <td>3930000</td>\n",
       "      <td>0.436667</td>\n",
       "      <td>21736.00000</td>\n",
       "      <td>3006.752577</td>\n",
       "    </tr>\n",
       "    <tr>\n",
       "      <th>16</th>\n",
       "      <td>groovelife.com</td>\n",
       "      <td>https://groovelife.com/collections/new-womens-...</td>\n",
       "      <td>1</td>\n",
       "      <td>apparel</td>\n",
       "      <td>ecommerce</td>\n",
       "      <td>NaN</td>\n",
       "      <td>2332049</td>\n",
       "      <td>3237500</td>\n",
       "      <td>9250000</td>\n",
       "      <td>0.000000</td>\n",
       "      <td>...</td>\n",
       "      <td>93743</td>\n",
       "      <td>0.638900</td>\n",
       "      <td>205556</td>\n",
       "      <td>5595325.000</td>\n",
       "      <td>11.000000</td>\n",
       "      <td>2.399317</td>\n",
       "      <td>3680451</td>\n",
       "      <td>39.790000</td>\n",
       "      <td>4820.00000</td>\n",
       "      <td>2976.190476</td>\n",
       "    </tr>\n",
       "    <tr>\n",
       "      <th>24</th>\n",
       "      <td>gatestonebpo.com</td>\n",
       "      <td>NaN</td>\n",
       "      <td>1</td>\n",
       "      <td>finance</td>\n",
       "      <td>consulting</td>\n",
       "      <td>NaN</td>\n",
       "      <td>2558334</td>\n",
       "      <td>0</td>\n",
       "      <td>51166667</td>\n",
       "      <td>0.103704</td>\n",
       "      <td>...</td>\n",
       "      <td>2480630</td>\n",
       "      <td>0.210243</td>\n",
       "      <td>8000</td>\n",
       "      <td>6140000.000</td>\n",
       "      <td>320.000000</td>\n",
       "      <td>2.399999</td>\n",
       "      <td>45026667</td>\n",
       "      <td>88.000000</td>\n",
       "      <td>10787.69697</td>\n",
       "      <td>1997.000000</td>\n",
       "    </tr>\n",
       "  </tbody>\n",
       "</table>\n",
       "<p>3 rows × 34 columns</p>\n",
       "</div>"
      ],
      "text/plain": [
       "                name                                        landingPage  \\\n",
       "0   clickfunnels.com   https://funnelscripts.com/funnelscripts-webclass   \n",
       "16    groovelife.com  https://groovelife.com/collections/new-womens-...   \n",
       "24  gatestonebpo.com                                                NaN   \n",
       "\n",
       "    customer     domain       model         source  adspend  hardcosts  \\\n",
       "0          1  marketing    software  word of mouth    70000    5000000   \n",
       "16         1    apparel   ecommerce            NaN  2332049    3237500   \n",
       "24         1    finance  consulting            NaN  2558334          0   \n",
       "\n",
       "     revenue  avg_polarity  ...   global  percentPaid   sales    adRevenue  \\\n",
       "0    9000000      0.219405  ...     1270     0.353865   30303  8958189.977   \n",
       "16   9250000      0.000000  ...    93743     0.638900  205556  5595325.000   \n",
       "24  51166667      0.103704  ...  2480630     0.210243    8000  6140000.000   \n",
       "\n",
       "           cac        roas    profit  profitMargin          lpc  \\\n",
       "0     0.038501  127.974142   3930000      0.436667  21736.00000   \n",
       "16   11.000000    2.399317   3680451     39.790000   4820.00000   \n",
       "24  320.000000    2.399999  45026667     88.000000  10787.69697   \n",
       "\n",
       "    averageOrderValue  \n",
       "0         3006.752577  \n",
       "16        2976.190476  \n",
       "24        1997.000000  \n",
       "\n",
       "[3 rows x 34 columns]"
      ]
     },
     "execution_count": 23,
     "metadata": {},
     "output_type": "execute_result"
    }
   ],
   "source": [
    "customers.loc[customers['revenue']>=4300000]"
   ]
  },
  {
   "cell_type": "code",
   "execution_count": 24,
   "metadata": {},
   "outputs": [
    {
     "data": {
      "image/png": "[encoded data removed]",
      "text/plain": [
       "<Figure size 432x288 with 1 Axes>"
      ]
     },
     "metadata": {},
     "output_type": "display_data"
    }
   ],
   "source": [
    "sns.set_style(\"darkgrid\")\n",
    "sns.kdeplot(x=customers['revenue'], label='customer')\n",
    "sns.kdeplot(x=df.loc[df['customer']==0]['revenue'], label='non-customer')\n",
    "plt.xlabel('monthly revenue in millions')\n",
    "plt.legend()\n",
    "plt.show()"
   ]
  },
  {
   "cell_type": "markdown",
   "metadata": {},
   "source": [
    "## takeaway...\n",
    "\n",
    "our leads that convert are most likley to be between 1 million and 50 million in annual revenue."
   ]
  },
  {
   "cell_type": "markdown",
   "metadata": {},
   "source": [
    "# 4. Test for signifigant difference in adspend based on the lead's business models and whether or not they closed."
   ]
  },
  {
   "cell_type": "markdown",
   "metadata": {},
   "source": [
    "Test 1: do customers and non-customers spend the same on ads?\n",
    "\n",
    "H0: customers and non-customers spend the same on ads.\n",
    "\n",
    "H1: customers and non-customers do not spend the same on ads.\n",
    "\n",
    "p-threshold: 0.05"
   ]
  },
  {
   "cell_type": "code",
   "execution_count": 25,
   "metadata": {},
   "outputs": [
    {
     "data": {
      "text/plain": [
       "Ttest_indResult(statistic=-0.8854464974820433, pvalue=0.3797022330066696)"
      ]
     },
     "execution_count": 25,
     "metadata": {},
     "output_type": "execute_result"
    }
   ],
   "source": [
    "customers = list(df.loc[df['customer']==1]['adspend'])[:-1]\n",
    "non_customers = list(df.loc[df['customer']==0]['adspend'])\n",
    "ttest_ind(customers, non_customers) #switch to ttest"
   ]
  },
  {
   "cell_type": "code",
   "execution_count": 26,
   "metadata": {},
   "outputs": [
    {
     "data": {
      "text/plain": [
       "Ttest_indResult(statistic=-0.518814709809123, pvalue=0.6059342130160463)"
      ]
     },
     "execution_count": 26,
     "metadata": {},
     "output_type": "execute_result"
    }
   ],
   "source": [
    "customers = list(df.loc[df['customer']==1]['revenue'])[:-1]\n",
    "non_customers = list(df.loc[df['customer']==0]['revenue'])\n",
    "#print(chisquare(customers, f_exp=non_customers)) #switch to ttest\n",
    "#print(np.mean(customers), np.mean(non_customers))\n",
    "ttest_ind(customers, non_customers)"
   ]
  },
  {
   "cell_type": "markdown",
   "metadata": {},
   "source": [
    "We fail to reject the null hypothesis that customers and non-customers spend the same on ads."
   ]
  },
  {
   "cell_type": "code",
   "execution_count": 27,
   "metadata": {},
   "outputs": [
    {
     "data": {
      "image/png": "[encoded data removed]",
      "text/plain": [
       "<Figure size 432x288 with 1 Axes>"
      ]
     },
     "metadata": {},
     "output_type": "display_data"
    }
   ],
   "source": [
    "sns.kdeplot(x=customers, label='customer')\n",
    "sns.kdeplot(x=non_customers, label='non-customer')\n",
    "plt.xlabel('monthly adspend in millions')\n",
    "plt.legend()\n",
    "plt.show()"
   ]
  },
  {
   "cell_type": "markdown",
   "metadata": {},
   "source": [
    "Test 1: is there a relationship between business model and closing?\n",
    "\n",
    "H0: there is no relationship between business model and closing.\n",
    "\n",
    "H1: there is a relationship between business model and closing.\n",
    "\n",
    "p-threshold: 0.05"
   ]
  },
  {
   "cell_type": "code",
   "execution_count": 28,
   "metadata": {},
   "outputs": [
    {
     "data": {
      "text/html": [
       "<div>\n",
       "<style scoped>\n",
       "    .dataframe tbody tr th:only-of-type {\n",
       "        vertical-align: middle;\n",
       "    }\n",
       "\n",
       "    .dataframe tbody tr th {\n",
       "        vertical-align: top;\n",
       "    }\n",
       "\n",
       "    .dataframe thead th {\n",
       "        text-align: right;\n",
       "    }\n",
       "</style>\n",
       "<table border=\"1\" class=\"dataframe\">\n",
       "  <thead>\n",
       "    <tr style=\"text-align: right;\">\n",
       "      <th>model</th>\n",
       "      <th>consulting</th>\n",
       "      <th>ecommerce</th>\n",
       "      <th>info</th>\n",
       "      <th>media</th>\n",
       "      <th>software</th>\n",
       "      <th>All</th>\n",
       "    </tr>\n",
       "    <tr>\n",
       "      <th>customer</th>\n",
       "      <th></th>\n",
       "      <th></th>\n",
       "      <th></th>\n",
       "      <th></th>\n",
       "      <th></th>\n",
       "      <th></th>\n",
       "    </tr>\n",
       "  </thead>\n",
       "  <tbody>\n",
       "    <tr>\n",
       "      <th>0</th>\n",
       "      <td>12</td>\n",
       "      <td>5</td>\n",
       "      <td>5</td>\n",
       "      <td>2</td>\n",
       "      <td>5</td>\n",
       "      <td>29</td>\n",
       "    </tr>\n",
       "    <tr>\n",
       "      <th>1</th>\n",
       "      <td>8</td>\n",
       "      <td>2</td>\n",
       "      <td>14</td>\n",
       "      <td>1</td>\n",
       "      <td>5</td>\n",
       "      <td>30</td>\n",
       "    </tr>\n",
       "    <tr>\n",
       "      <th>All</th>\n",
       "      <td>20</td>\n",
       "      <td>7</td>\n",
       "      <td>19</td>\n",
       "      <td>3</td>\n",
       "      <td>10</td>\n",
       "      <td>59</td>\n",
       "    </tr>\n",
       "  </tbody>\n",
       "</table>\n",
       "</div>"
      ],
      "text/plain": [
       "model     consulting  ecommerce  info  media  software  All\n",
       "customer                                                   \n",
       "0                 12          5     5      2         5   29\n",
       "1                  8          2    14      1         5   30\n",
       "All               20          7    19      3        10   59"
      ]
     },
     "execution_count": 28,
     "metadata": {},
     "output_type": "execute_result"
    }
   ],
   "source": [
    "ct = pd.crosstab(df.customer, df.model, margins=True)\n",
    "ct"
   ]
  },
  {
   "cell_type": "code",
   "execution_count": 29,
   "metadata": {},
   "outputs": [],
   "source": [
    "obs = np.array([ct.iloc[0][:-1], ct.iloc[1][:-1]])"
   ]
  },
  {
   "cell_type": "code",
   "execution_count": 30,
   "metadata": {
    "scrolled": true
   },
   "outputs": [
    {
     "data": {
      "image/png": "[encoded data removed]",
      "text/plain": [
       "<Figure size 432x288 with 1 Axes>"
      ]
     },
     "metadata": {},
     "output_type": "display_data"
    }
   ],
   "source": [
    "sns.set_style(\"darkgrid\")\n",
    "sns.barplot(list(ct.iloc[0][:-1]), list(ct.columns)[:-1])\n",
    "plt.title('business models of non-customers')\n",
    "plt.show()"
   ]
  },
  {
   "cell_type": "code",
   "execution_count": 31,
   "metadata": {},
   "outputs": [
    {
     "data": {
      "image/png": "[encoded data removed]",
      "text/plain": [
       "<Figure size 432x288 with 1 Axes>"
      ]
     },
     "metadata": {},
     "output_type": "display_data"
    }
   ],
   "source": [
    "sns.set_style(\"darkgrid\")\n",
    "sns.barplot(list(ct.iloc[1][:-1]), list(ct.columns)[:-1])\n",
    "plt.title('business models of customers')\n",
    "plt.show()"
   ]
  },
  {
   "cell_type": "code",
   "execution_count": 32,
   "metadata": {},
   "outputs": [
    {
     "data": {
      "text/plain": [
       "(6.667171664794171, 0.15455728165839155, 4)"
      ]
     },
     "execution_count": 32,
     "metadata": {},
     "output_type": "execute_result"
    }
   ],
   "source": [
    "chi2_contingency(obs)[:3] #we use a chi square contigency test because we are checking if categorical features \n",
    "# are dependant on eachother"
   ]
  },
  {
   "cell_type": "markdown",
   "metadata": {},
   "source": [
    "We fail to reject the null hypothesis that business model and closing are independant of eachother."
   ]
  },
  {
   "cell_type": "markdown",
   "metadata": {},
   "source": [
    "## Insights\n",
    "\n",
    "1. Our customers tend to generate less revenue and spend less on ads. The likley reason for this is because they have leaner business models and have a more efficient adspend thanks to the Hyros Software, large companies may also be overrepresenting the non-customer population. \n",
    "\n",
    "2. Although most of our customers run info businesses centered around courses and coaching we were not able to staistically prove a relationship between business model and closing."
   ]
  },
  {
   "cell_type": "markdown",
   "metadata": {},
   "source": [
    "# 5. how does twitter sentiment map onto roas?"
   ]
  },
  {
   "cell_type": "markdown",
   "metadata": {},
   "source": [
    "## What is sentiment?\n",
    "\n",
    "In this context sentiment is on ascale from -1 to 1 and quantifies the emotions expressed to a particular topic. In this case each topic is the lead and the sentiment or avg_polarity is the sum average of the sentiments of all the tweets towards each lead."
   ]
  },
  {
   "cell_type": "code",
   "execution_count": 33,
   "metadata": {},
   "outputs": [
    {
     "data": {
      "text/plain": [
       "array([[1.        , 0.15895215],\n",
       "       [0.15895215, 1.        ]])"
      ]
     },
     "execution_count": 33,
     "metadata": {},
     "output_type": "execute_result"
    }
   ],
   "source": [
    "x = np.array(df['avg_polarity'])\n",
    "y = np.array(df['roas'])\n",
    "np.corrcoef(x, y=y)"
   ]
  },
  {
   "cell_type": "code",
   "execution_count": 34,
   "metadata": {},
   "outputs": [
    {
     "data": {
      "image/png": "[encoded data removed]",
      "text/plain": [
       "<Figure size 432x288 with 1 Axes>"
      ]
     },
     "metadata": {},
     "output_type": "display_data"
    }
   ],
   "source": [
    "sns.set_style(\"darkgrid\")\n",
    "sns.scatterplot(x, y)\n",
    "plt.ylabel('roas')\n",
    "plt.xlabel('average twitter sentiment')\n",
    "plt.show()"
   ]
  },
  {
   "cell_type": "markdown",
   "metadata": {},
   "source": [
    "We see a positive correlation between twitter sentiment, In other words positive public opinion on twitter, and return on adspend. we will test this hypothesis to see if we can actually prove it.\n",
    "\n",
    "test: does higher sentiment lead to higher roas?\n",
    "\n",
    "H0: sentiment has no effect on roas.\n",
    "\n",
    "H1: higher sentiment leads to higher roas.\n",
    "\n",
    "p-value = 0.05"
   ]
  },
  {
   "cell_type": "code",
   "execution_count": 35,
   "metadata": {},
   "outputs": [],
   "source": [
    "p_thresh = 0.05\n",
    "sent = sorted(list(df['avg_polarity']))\n",
    "negative = sent[:29]\n",
    "positive = sent[-29:]"
   ]
  },
  {
   "cell_type": "code",
   "execution_count": 36,
   "metadata": {},
   "outputs": [],
   "source": [
    "results = ttest_ind(positive, negative)"
   ]
  },
  {
   "cell_type": "code",
   "execution_count": 37,
   "metadata": {},
   "outputs": [
    {
     "data": {
      "text/plain": [
       "True"
      ]
     },
     "execution_count": 37,
     "metadata": {},
     "output_type": "execute_result"
    }
   ],
   "source": [
    "p = results[1] \n",
    "p < 0.05"
   ]
  },
  {
   "cell_type": "code",
   "execution_count": 38,
   "metadata": {},
   "outputs": [
    {
     "data": {
      "text/plain": [
       "Ttest_indResult(statistic=5.681418363383285, pvalue=4.983522763378712e-07)"
      ]
     },
     "execution_count": 38,
     "metadata": {},
     "output_type": "execute_result"
    }
   ],
   "source": [
    "results"
   ]
  },
  {
   "cell_type": "code",
   "execution_count": 39,
   "metadata": {},
   "outputs": [
    {
     "data": {
      "text/plain": [
       "(0.10370384199999999, 0.10370384199999999)"
      ]
     },
     "execution_count": 39,
     "metadata": {},
     "output_type": "execute_result"
    }
   ],
   "source": [
    "max(negative), min(positive)"
   ]
  },
  {
   "cell_type": "markdown",
   "metadata": {},
   "source": [
    "We reject the null hypothesis and consider it reasonable that ourleads with positive sentiment above 0.1, on a scale on -1 to 1, have higher roas than those with sentiment below 0.1."
   ]
  },
  {
   "cell_type": "markdown",
   "metadata": {},
   "source": [
    "## insight\n",
    "\n",
    "We should prioritize leads with average polarity above 0.1. This is because a company/product/service that is well recieved by the public is more likley to benefit from a solid marketing strategy, if a company is poorly recieved they likley have to fix their product / service and are less likley to benefit from optimizing their advertising."
   ]
  },
  {
   "cell_type": "markdown",
   "metadata": {},
   "source": [
    "# 6. what is the revenue of the leads with the highest ranked websites? run bootsrap sampling to see if there's a signifigant difference."
   ]
  },
  {
   "cell_type": "code",
   "execution_count": 40,
   "metadata": {},
   "outputs": [],
   "source": [
    "top5 = sorted(list(df['global']))[:5]\n",
    "revenue_top5 = []\n",
    "revenue_other = []\n",
    "for i in range(len(df)):\n",
    "    if df.iloc[i]['global'] in top5:\n",
    "        revenue_top5.append(df.iloc[i]['revenue'])\n",
    "    else:\n",
    "        revenue_other.append(df.iloc[i]['revenue'])"
   ]
  },
  {
   "cell_type": "code",
   "execution_count": 41,
   "metadata": {},
   "outputs": [],
   "source": [
    "bootstrap_top5 = []\n",
    "bootstrap_other = []\n",
    "for i in range(100):\n",
    "    bootstrap_top5.append(np.mean(bootstrap(revenue_top5)))\n",
    "    bootstrap_other.append(np.mean(bootstrap(revenue_other)))"
   ]
  },
  {
   "cell_type": "code",
   "execution_count": 42,
   "metadata": {},
   "outputs": [
    {
     "data": {
      "image/png": "[encoded data removed]",
      "text/plain": [
       "<Figure size 432x288 with 1 Axes>"
      ]
     },
     "metadata": {},
     "output_type": "display_data"
    }
   ],
   "source": [
    "sns.set_style(\"darkgrid\")\n",
    "sns.kdeplot(x=bootstrap_top5, label='in top 5')\n",
    "sns.kdeplot(x=bootstrap_other, label='not in top 5')\n",
    "plt.xlabel('monthly revenue in millions')\n",
    "plt.legend()\n",
    "plt.show()"
   ]
  },
  {
   "cell_type": "markdown",
   "metadata": {},
   "source": [
    "revenue for compaines with the top 5 highest ranked websites in the dataset looks notably higher, let's test it.\n",
    "\n",
    "test: do the companies with the highest ranked websites generate more revenue than the rest of the companies?\n",
    "\n",
    "H0: there is no association. \n",
    "\n",
    "H1: the companies with the highest ranked websites generate more revenue than the rest of the companies.\n",
    "\n",
    "p-value: 0.05"
   ]
  },
  {
   "cell_type": "code",
   "execution_count": 43,
   "metadata": {},
   "outputs": [
    {
     "data": {
      "text/plain": [
       "Power_divergenceResult(statistic=13082977662.009457, pvalue=0.0)"
      ]
     },
     "execution_count": 43,
     "metadata": {},
     "output_type": "execute_result"
    }
   ],
   "source": [
    "chisquare(bootstrap_top5, f_exp=bootstrap_other) #we use chi square because we have large samples, an anova test may also be worth trying"
   ]
  },
  {
   "cell_type": "markdown",
   "metadata": {},
   "source": [
    "We can reject the null hypothesis and consider it reasonable to believe that that the companies with the highest ranked websites generate more revenue than the other companies."
   ]
  },
  {
   "cell_type": "markdown",
   "metadata": {},
   "source": [
    "## insight\n",
    "\n",
    "If we have prospects with websites ranked in the top 4000 most visited they are very likley to generate more revenue than the rest and are larger companies. This may give an opportunity to upsell or charge more."
   ]
  },
  {
   "cell_type": "markdown",
   "metadata": {},
   "source": [
    "# 7. average CAC is lower for customers than non-customers. But can it be proven statistically? If so our sales team can use this as a selling point."
   ]
  },
  {
   "cell_type": "markdown",
   "metadata": {},
   "source": [
    "Test: do companies that bought our software have lower CAC than those who didn't within our sample population?\n",
    "\n",
    "H0: there's no difference in CAC between the buyers and non-buyers\n",
    "\n",
    "H1: companies who bought our software have signifigantly lower CAC"
   ]
  },
  {
   "cell_type": "code",
   "execution_count": 44,
   "metadata": {},
   "outputs": [
    {
     "data": {
      "text/plain": [
       "Ttest_indResult(statistic=0.19114256317789513, pvalue=0.8490931277254998)"
      ]
     },
     "execution_count": 44,
     "metadata": {},
     "output_type": "execute_result"
    }
   ],
   "source": [
    "customers = df.loc[df['customer']==1]['cac']\n",
    "non_customers = df.loc[df['customer']==0]['cac']\n",
    "ttest_ind(non_customers, customers)"
   ]
  },
  {
   "cell_type": "markdown",
   "metadata": {},
   "source": [
    "We fail to reject the null hypothesis that there's no difference in CAC between the buyers and non-buyers"
   ]
  },
  {
   "cell_type": "code",
   "execution_count": 46,
   "metadata": {},
   "outputs": [
    {
     "data": {
      "image/png": "[encoded data removed]",
      "text/plain": [
       "<Figure size 432x288 with 1 Axes>"
      ]
     },
     "metadata": {},
     "output_type": "display_data"
    }
   ],
   "source": [
    "sns.set_style(\"darkgrid\")\n",
    "sns.kdeplot(customers, label='customers')\n",
    "sns.kdeplot(non_customers, label='non-customers')\n",
    "plt.legend()\n",
    "plt.show()"
   ]
  },
  {
   "cell_type": "code",
   "execution_count": null,
   "metadata": {},
   "outputs": [],
   "source": []
  }
 ],
 "metadata": {
  "kernelspec": {
   "display_name": "Python 3",
   "language": "python",
   "name": "python3"
  },
  "language_info": {
   "codemirror_mode": {
    "name": "ipython",
    "version": 3
   },
   "file_extension": ".py",
   "mimetype": "text/x-python",
   "name": "python",
   "nbconvert_exporter": "python",
   "pygments_lexer": "ipython3",
   "version": "3.8.5"
  }
 },
 "nbformat": 4,
 "nbformat_minor": 4
}
