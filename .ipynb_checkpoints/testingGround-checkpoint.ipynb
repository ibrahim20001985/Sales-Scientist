{
 "cells": [
  {
   "cell_type": "markdown",
   "metadata": {},
   "source": [
    "8/6 - try the less efficient method"
   ]
  },
  {
   "cell_type": "code",
   "execution_count": 1,
   "metadata": {
    "scrolled": true
   },
   "outputs": [],
   "source": [
    "import pandas as pd\n",
    "from fullcontact import FullContactClient\n",
    "import numpy as np\n",
    "from imblearn.over_sampling import SMOTENC\n",
    "from helpers import Data\n",
    "from urllib.request import urlopen, Request\n",
    "import mysql.connector\n",
    "from getpass import getpass\n",
    "from mysql.connector import connect\n",
    "from bs4 import BeautifulSoup\n",
    "import requests\n",
    "import re\n",
    "from helpers import individualFeatures\n",
    "\n",
    "df = pd.read_csv(r'C:\\Users\\aacjp\\Spencer\\datasets\\MockHyros.csv')\n",
    "df1 = pd.read_csv(r'C:\\Users\\aacjp\\Spencer\\datasets\\HyrosNumerical.csv')\n",
    "df2 = pd.read_csv(r'C:\\Users\\aacjp\\Spencer\\datasets\\HyrosAugmented.csv')"
   ]
  },
  {
   "cell_type": "code",
   "execution_count": 2,
   "metadata": {},
   "outputs": [],
   "source": [
    "def lpCopy(url, headers):\n",
    "    req = Request(url=url, headers=headers) \n",
    "    html = urlopen(req).read()\n",
    "    soup = BeautifulSoup(html, 'lxml')\n",
    "    div = soup.findAll('div')\n",
    "    p = soup.findAll('p')\n",
    "    try:\n",
    "        text = div[0].text + p[0].text\n",
    "    except: \n",
    "        text = div[0].text\n",
    "    text2 = text.replace('\\n', '').replace('\\'', '').replace(')', '').replace('(', '').lower()\n",
    "    text3 = re.sub(\"([\\(\\[]).*?([\\)\\]])\", '', text2)\n",
    "    text4 = re.sub(r'\\[(^)*\\]', '', text3)\n",
    "    text5 = text4.replace('-', '').replace('\"', '').replace('!', ' ').replace('*', '').replace(':', ' ').replace('.', ' ')\n",
    "    text6 = text5.replace('?', ' ')\n",
    "    text7 = text6.replace('|', '').replace('/', '').replace(',', '').replace('...', '')\n",
    "    text8 = text7.replace('\\xa0', '').replace('“', '').replace('”', '').replace('…', '')\n",
    "    return text8"
   ]
  },
  {
   "cell_type": "code",
   "execution_count": 3,
   "metadata": {},
   "outputs": [
    {
     "data": {
      "text/plain": [
       "'send me the book'"
      ]
     },
     "execution_count": 3,
     "metadata": {},
     "output_type": "execute_result"
    }
   ],
   "source": [
    "def ctaButton(url, headers):\n",
    "    req = Request(url=url, headers=headers) \n",
    "    html = urlopen(req).read()\n",
    "    soup = BeautifulSoup(html, 'lxml')\n",
    "    span = soup.findAll('span')\n",
    "    return span[2].text.lower()\n",
    "\n",
    "def lpMetadata(text):\n",
    "    words = text.split(' ')\n",
    "    n_trigger_words = individualFeatures().triggerWords(text)\n",
    "    n_words = len(words)\n",
    "    return n_words , n_trigger_words\n",
    "\n",
    "def countLinks(url, headers):\n",
    "    req = Request(url=url, headers=headers) \n",
    "    html = urlopen(req).read()\n",
    "    soup = BeautifulSoup(html, 'lxml')\n",
    "    links = []\n",
    "    for link in soup.findAll('a', attrs={'href': re.compile(\"^https://\")}):\n",
    "        links.append(link.get('href'))\n",
    "    return len(links)\n",
    "\n",
    "url = 'https://frankkernbook.com/optin24883998?utm_source=paid&utm_medium=paid&utm_campaign=mid-short-clips-vv&utm_content=mid-short-clips-vv'\n",
    "headers = {'User-Agent': 'Mozilla/5.0 (Windows NT 6.1) AppleWebKit/537.36 (KHTML, like Gecko) Chrome/41.0.2228.0 Safari/537.3'}\n",
    "ctaButton(url, headers)"
   ]
  },
  {
   "cell_type": "markdown",
   "metadata": {},
   "source": [
    "The Hack: http://sangaline.com/post/advanced-web-scraping-tutorial/"
   ]
  },
  {
   "cell_type": "markdown",
   "metadata": {},
   "source": [
    "https://platform.fullcontact.com/developers/api-keys"
   ]
  },
  {
   "cell_type": "code",
   "execution_count": 4,
   "metadata": {},
   "outputs": [],
   "source": [
    "connection = connect(host='localhost', user='root', password='Raptor//Kona9', database='sys')\n",
    "cursor = connection.cursor()"
   ]
  },
  {
   "cell_type": "code",
   "execution_count": 14,
   "metadata": {},
   "outputs": [
    {
     "data": {
      "text/plain": [
       "('https://www.clickfunnels.com/blog/opt-in-page-examples/',)"
      ]
     },
     "execution_count": 14,
     "metadata": {},
     "output_type": "execute_result"
    }
   ],
   "source": [
    "#pulling the landing pages from our database\n",
    "q = 'select landing from facebook;'\n",
    "cursor.execute(q)\n",
    "results = cursor.fetchall()\n",
    "results[6]"
   ]
  },
  {
   "cell_type": "code",
   "execution_count": 6,
   "metadata": {},
   "outputs": [
    {
     "name": "stdout",
     "output_type": "stream",
     "text": [
      "0\n",
      "1\n",
      "2\n",
      "3\n",
      "4\n",
      "5\n",
      "6\n",
      "7\n",
      "8\n",
      "9\n",
      "10\n",
      "11\n",
      "12\n",
      "13\n",
      "14\n",
      "15\n",
      "16\n",
      "17\n",
      "18\n",
      "19\n",
      "20\n",
      "21\n",
      "22\n",
      "23\n",
      "24\n",
      "25\n",
      "26\n",
      "27\n",
      "28\n",
      "29\n",
      "30\n",
      "31\n",
      "32\n",
      "33\n",
      "34\n",
      "35\n",
      "36\n",
      "37\n",
      "38\n",
      "39\n",
      "40\n",
      "41\n",
      "42\n",
      "43\n",
      "44\n",
      "45\n",
      "46\n",
      "47\n",
      "48\n",
      "49\n",
      "50\n",
      "51\n"
     ]
    }
   ],
   "source": [
    "headers = {'User-Agent': 'Mozilla/5.0 (Windows NT 6.1) AppleWebKit/537.36 (KHTML, like Gecko) Chrome/41.0.2228.0 Safari/537.3'}\n",
    "\n",
    "# I need to inspect the holdup at results[54]\n",
    "def lpContent(results, headers):\n",
    "    connection = connect(host='localhost', user='root', password='Raptor//Kona9', database='sys')\n",
    "    cursor = connection.cursor()\n",
    "    queries = []\n",
    "    for i in range(len(results)):\n",
    "        print(i)\n",
    "        url = results[i][0]\n",
    "        try:\n",
    "            lp = lpCopy(url, headers) + ' ' + ctaButton(url, headers)\n",
    "            lc = countLinks(url, headers)\n",
    "        except:\n",
    "            lp = ''\n",
    "            lc = 0\n",
    "        nwords, ntriggers = lpMetadata(lp)\n",
    "        q = 'INSERT INTO landing2 (nwords, ntriggers, lc) VALUES ({}, {}, {});'.format(nwords, ntriggers, lc)\n",
    "        queries.append(q)\n",
    "    for query in queries:\n",
    "        cursor.execute(query)\n",
    "    connection.commit()\n",
    "    pass\n",
    "\n",
    "lpContent(results[:52], headers)"
   ]
  },
  {
   "cell_type": "code",
   "execution_count": 7,
   "metadata": {},
   "outputs": [],
   "source": [
    "q = 'select * from landing2;'\n",
    "cursor.execute(q)\n",
    "results = cursor.fetchall()"
   ]
  },
  {
   "cell_type": "code",
   "execution_count": 10,
   "metadata": {},
   "outputs": [],
   "source": [
    "def lpc(database='sys', table='landing2'):\n",
    "    password = input('Enter password: ')\n",
    "    connection = connect(host='localhost', user='root', password=password, database=database)\n",
    "    cursor = connection.cursor()\n",
    "    q = 'select * from {};'.format(table)\n",
    "    cursor.execute(q)\n",
    "    results = cursor.fetchall()\n",
    "    complexities = []\n",
    "    for r in results:\n",
    "        complexities.append(r[0]*r[1]*r[2])\n",
    "    return complexities"
   ]
  },
  {
   "cell_type": "code",
   "execution_count": 11,
   "metadata": {},
   "outputs": [
    {
     "name": "stdout",
     "output_type": "stream",
     "text": [
      "Enter password: Raptor//Kona9\n"
     ]
    },
    {
     "data": {
      "text/plain": [
       "[1295955,\n",
       " 0,\n",
       " 0,\n",
       " 0,\n",
       " 392160,\n",
       " 1785,\n",
       " 36636600,\n",
       " 178689,\n",
       " 105924,\n",
       " 0,\n",
       " 0,\n",
       " 1559880,\n",
       " 0,\n",
       " 0,\n",
       " 0,\n",
       " 6561,\n",
       " 0,\n",
       " 0,\n",
       " 210,\n",
       " 52600,\n",
       " 0,\n",
       " 0,\n",
       " 0,\n",
       " 0,\n",
       " 0,\n",
       " 0,\n",
       " 17040036,\n",
       " 15771,\n",
       " 0,\n",
       " 0,\n",
       " 0,\n",
       " 0,\n",
       " 0,\n",
       " 0,\n",
       " 0,\n",
       " 0,\n",
       " 66101,\n",
       " 0,\n",
       " 2970240,\n",
       " 0,\n",
       " 0,\n",
       " 252,\n",
       " 0,\n",
       " 0,\n",
       " 549,\n",
       " 0,\n",
       " 0,\n",
       " 1080,\n",
       " 0,\n",
       " 0,\n",
       " 0,\n",
       " 0,\n",
       " 1295955,\n",
       " 0,\n",
       " 0,\n",
       " 0,\n",
       " 392160,\n",
       " 1785,\n",
       " 36636600,\n",
       " 178689,\n",
       " 105924,\n",
       " 0,\n",
       " 0,\n",
       " 1559880,\n",
       " 0,\n",
       " 0,\n",
       " 0,\n",
       " 6561,\n",
       " 0,\n",
       " 0,\n",
       " 210,\n",
       " 52600,\n",
       " 0,\n",
       " 0,\n",
       " 0,\n",
       " 0,\n",
       " 0,\n",
       " 0,\n",
       " 17040036,\n",
       " 15771,\n",
       " 0,\n",
       " 0,\n",
       " 0,\n",
       " 0,\n",
       " 0,\n",
       " 0,\n",
       " 0,\n",
       " 0,\n",
       " 66101,\n",
       " 0,\n",
       " 2970240,\n",
       " 0,\n",
       " 0,\n",
       " 252,\n",
       " 0,\n",
       " 0,\n",
       " 630,\n",
       " 0,\n",
       " 0,\n",
       " 1080,\n",
       " 0,\n",
       " 0,\n",
       " 0,\n",
       " 0]"
      ]
     },
     "execution_count": 11,
     "metadata": {},
     "output_type": "execute_result"
    }
   ],
   "source": [
    "results = lpc()\n",
    "results"
   ]
  },
  {
   "cell_type": "code",
   "execution_count": 13,
   "metadata": {},
   "outputs": [
    {
     "data": {
      "text/plain": [
       "6"
      ]
     },
     "execution_count": 13,
     "metadata": {},
     "output_type": "execute_result"
    }
   ],
   "source": [
    "results.index(max(results))"
   ]
  },
  {
   "cell_type": "code",
   "execution_count": null,
   "metadata": {},
   "outputs": [],
   "source": []
  }
 ],
 "metadata": {
  "kernelspec": {
   "display_name": "Python 3",
   "language": "python",
   "name": "python3"
  },
  "language_info": {
   "codemirror_mode": {
    "name": "ipython",
    "version": 3
   },
   "file_extension": ".py",
   "mimetype": "text/x-python",
   "name": "python",
   "nbconvert_exporter": "python",
   "pygments_lexer": "ipython3",
   "version": "3.8.5"
  }
 },
 "nbformat": 4,
 "nbformat_minor": 4
}
