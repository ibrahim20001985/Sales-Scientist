{
 "cells": [
  {
   "cell_type": "code",
   "execution_count": 1,
   "metadata": {
    "scrolled": true
   },
   "outputs": [],
   "source": [
    "import pandas as pd\n",
    "from fullcontact import FullContactClient\n",
    "import numpy as np\n",
    "from imblearn.over_sampling import SMOTENC\n",
    "from helpers import Data\n",
    "from urllib.request import urlopen, Request\n",
    "import mysql.connector\n",
    "from getpass import getpass\n",
    "from mysql.connector import connect\n",
    "from bs4 import BeautifulSoup\n",
    "import requests\n",
    "import re\n",
    "from helpers import individualFeatures, Data, Scraping\n",
    "\n",
    "\n",
    "w = pd.read_csv(r'C:\\Users\\aacjp\\Sales-Scientist\\datasets\\check6.csv').drop(['Unnamed: 0'], axis='columns')\n",
    "df = pd.read_csv(r'C:\\Users\\aacjp\\Sales-Scientist\\datasets\\leadsML.csv').drop(['Unnamed: 0'], axis='columns')\n",
    "w2 = pd.read_csv(r'C:\\Users\\aacjp\\Sales-Scientist\\datasets\\check7.csv')"
   ]
  },
  {
   "cell_type": "code",
   "execution_count": 2,
   "metadata": {},
   "outputs": [
    {
     "data": {
      "text/plain": [
       "adspend                0\n",
       "hardcosts              0\n",
       "revenue                0\n",
       "avg_polarity           0\n",
       "avg_subjectivity       0\n",
       "std_polarity           0\n",
       "std_subjectivity       0\n",
       "words                  0\n",
       "triggers               0\n",
       "links                  0\n",
       "percentSocial          0\n",
       "percentDisplay         0\n",
       "percentSearchPaid      0\n",
       "percentSearch          0\n",
       "visits                 0\n",
       "monthlyVisitsChange    0\n",
       "bounceRate             0\n",
       "global                 0\n",
       "percentPaid            0\n",
       "sales                  0\n",
       "adRevenue              0\n",
       "cac                    0\n",
       "roas                   3\n",
       "profit                 0\n",
       "profitMargin           0\n",
       "lpc                    0\n",
       "averageOrderValue      0\n",
       "apparel                0\n",
       "ecommerce              0\n",
       "entrepreneurship       0\n",
       "film                   0\n",
       "finance                0\n",
       "fitness                0\n",
       "health                 0\n",
       "marketing              0\n",
       "nutrition              0\n",
       "photography            0\n",
       "productivity           0\n",
       "realestate             0\n",
       "self-development       0\n",
       "skincare               0\n",
       "technology             0\n",
       "consulting             0\n",
       "ecommerce.1            0\n",
       "info                   0\n",
       "media                  0\n",
       "software               0\n",
       "youtube                0\n",
       "facebook               0\n",
       "instagram              0\n",
       "linkedin               0\n",
       "other                  0\n",
       "pinterest              0\n",
       "quora                  0\n",
       "reddit                 0\n",
       "dtype: int64"
      ]
     },
     "execution_count": 2,
     "metadata": {},
     "output_type": "execute_result"
    }
   ],
   "source": [
    "w2.isna().sum()"
   ]
  },
  {
   "cell_type": "code",
   "execution_count": null,
   "metadata": {},
   "outputs": [],
   "source": []
  }
 ],
 "metadata": {
  "kernelspec": {
   "display_name": "Python 3",
   "language": "python",
   "name": "python3"
  },
  "language_info": {
   "codemirror_mode": {
    "name": "ipython",
    "version": 3
   },
   "file_extension": ".py",
   "mimetype": "text/x-python",
   "name": "python",
   "nbconvert_exporter": "python",
   "pygments_lexer": "ipython3",
   "version": "3.8.5"
  }
 },
 "nbformat": 4,
 "nbformat_minor": 4
}
