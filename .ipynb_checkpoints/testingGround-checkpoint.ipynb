{
 "cells": [
  {
   "cell_type": "code",
   "execution_count": 2,
   "metadata": {
    "scrolled": true
   },
   "outputs": [],
   "source": [
    "import pandas as pd\n",
    "from fullcontact import FullContactClient\n",
    "import numpy as np\n",
    "from imblearn.over_sampling import SMOTENC\n",
    "from helpers import Data\n",
    "from urllib.request import urlopen, Request\n",
    "import mysql.connector\n",
    "from getpass import getpass\n",
    "from mysql.connector import connect\n",
    "from bs4 import BeautifulSoup\n",
    "import requests\n",
    "import re\n",
    "from helpers import individualFeatures, Data\n",
    "\n",
    "df = pd.read_csv(r'C:\\Users\\aacjp\\Sales-Scientist\\datasets\\MockHyros.csv')\n",
    "df1 = pd.read_csv(r'C:\\Users\\aacjp\\Sales-Scientist\\datasets\\HyrosNumerical.csv')\n",
    "df2 = pd.read_csv(r'C:\\Users\\aacjp\\Sales-Scientist\\datasets\\HyrosAugmented.csv')"
   ]
  },
  {
   "cell_type": "code",
   "execution_count": 2,
   "metadata": {},
   "outputs": [],
   "source": [
    "Data().leadsOnTwitter()"
   ]
  },
  {
   "cell_type": "code",
   "execution_count": 3,
   "metadata": {},
   "outputs": [],
   "source": [
    "connection = connect(host='localhost', user='root', password='Raptor//Kona9', database='leads')\n",
    "cursor = connection.cursor()"
   ]
  },
  {
   "cell_type": "code",
   "execution_count": 4,
   "metadata": {},
   "outputs": [],
   "source": [
    "keys = open(r'C:\\Users\\aacjp\\OneDrive\\Desktop\\ssh\\Twitter\\keys.txt').readlines()"
   ]
  },
  {
   "cell_type": "markdown",
   "metadata": {},
   "source": [
    "## tables to make\n",
    "1. basic data entry\n",
    "2. similarweb\n",
    "3. twitter\n",
    "4. zoominfo\n",
    "5. landing page"
   ]
  },
  {
   "cell_type": "markdown",
   "metadata": {},
   "source": [
    "The Hack: http://sangaline.com/post/advanced-web-scraping-tutorial/"
   ]
  },
  {
   "cell_type": "code",
   "execution_count": 7,
   "metadata": {},
   "outputs": [],
   "source": [
    "key = open(r'C:\\Users\\aacjp\\OneDrive\\Desktop\\ssh\\fullContact\\access.txt').read()"
   ]
  },
  {
   "cell_type": "code",
   "execution_count": 6,
   "metadata": {},
   "outputs": [],
   "source": [
    "def globalRank():\n",
    "    connection = connect(host='localhost', user='root', password='Raptor//Kona9', database='leads')\n",
    "    cursor = connection.cursor()\n",
    "    leads = Data().getLeads()\n",
    "    key = open(r'C:\\Users\\aacjp\\OneDrive\\Desktop\\ssh\\fullContact\\access.txt').read()\n",
    "    client = FullContactClient(key)\n",
    "    for lead in leads:\n",
    "        req = client.company.enrich(domain=lead[0])\n",
    "        try:\n",
    "            rank = req.json()['details']['traffic']['countryRank']['global']['rank']\n",
    "        except: \n",
    "            rank = None\n",
    "        q = '''INSERT INTO test (name, global) VALUES ('{}', {});'''.format(lead[0], rank)\n",
    "        cursor.execute(q)\n",
    "        connection.commit()\n",
    "\n",
    "globalRank()"
   ]
  },
  {
   "cell_type": "code",
   "execution_count": 7,
   "metadata": {},
   "outputs": [],
   "source": [
    "q = '''INSERT INTO test (name, global) VALUES ('rammo.net', 1270);'''\n",
    "cursor.execute(q)"
   ]
  },
  {
   "cell_type": "code",
   "execution_count": null,
   "metadata": {},
   "outputs": [],
   "source": []
  }
 ],
 "metadata": {
  "kernelspec": {
   "display_name": "Python 3",
   "language": "python",
   "name": "python3"
  },
  "language_info": {
   "codemirror_mode": {
    "name": "ipython",
    "version": 3
   },
   "file_extension": ".py",
   "mimetype": "text/x-python",
   "name": "python",
   "nbconvert_exporter": "python",
   "pygments_lexer": "ipython3",
   "version": "3.8.5"
  }
 },
 "nbformat": 4,
 "nbformat_minor": 4
}
