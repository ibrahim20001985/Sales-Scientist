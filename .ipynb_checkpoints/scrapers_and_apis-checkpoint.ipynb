{
 "cells": [
  {
   "cell_type": "code",
   "execution_count": null,
   "metadata": {},
   "outputs": [],
   "source": [
    "from facebook_scraper import get_posts\n",
    "from facebook_scraper import get_profile\n",
    "import pandas as pd\n",
    "\n",
    "def CollectFB(client, pages):\n",
    "    o = {'comments': True, 'reactors': True}\n",
    "    likes = 0\n",
    "    comments = 0\n",
    "    reactions = 0\n",
    "    posts = 0\n",
    "    for post in get_posts(client, pages=pages, options=o):\n",
    "        posts += 1\n",
    "        likes += post['likes']\n",
    "        comments += post['comments']\n",
    "        if post['reactors'] == None:\n",
    "            pr = 0\n",
    "        else:\n",
    "            pr = post['reactors']\n",
    "        reactions += pr\n",
    "    likes = likes + reactions\n",
    "    try:\n",
    "        return likes/posts, comments/posts\n",
    "    except:\n",
    "        return 0, 0\n",
    "    \n",
    "def t1f23fb(clients, pages):\n",
    "    likes = []\n",
    "    comments = []\n",
    "    for client in clients:\n",
    "        #print(client)\n",
    "        avg_likes, avg_comments = CollectFB(client, pages)\n",
    "        likes.append(avg_likes)\n",
    "        comments.append(avg_comments)\n",
    "    results = {'client': clients, 'average facebook likes': likes, 'average facebook comments': comments}\n",
    "    return results"
   ]
  }
 ],
 "metadata": {
  "kernelspec": {
   "display_name": "Python 3",
   "language": "python",
   "name": "python3"
  },
  "language_info": {
   "codemirror_mode": {
    "name": "ipython",
    "version": 3
   },
   "file_extension": ".py",
   "mimetype": "text/x-python",
   "name": "python",
   "nbconvert_exporter": "python",
   "pygments_lexer": "ipython3",
   "version": "3.8.5"
  }
 },
 "nbformat": 4,
 "nbformat_minor": 4
}
