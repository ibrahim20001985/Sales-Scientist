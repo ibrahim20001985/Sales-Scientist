{
 "cells": [
  {
   "cell_type": "markdown",
   "metadata": {},
   "source": [
    "## What Features do we need starting out?\n",
    "\n",
    "We need the following from both Facebook and Instagram...\n",
    "* number of friends or followers\n",
    "* average number of reactions or likes over the last 30 posts (including adsets)\n",
    "* average number of comments over the last 30 posts (including adsets)\n",
    "* engagement score (reactions or likes and comments compared to friends or followers\n",
    "* reach potential for the different objectives\n",
    "\n",
    "Features from other sources...\n",
    "* ARR\n",
    "* profit\n",
    "* EBIT\n",
    "*"
   ]
  },
  {
   "cell_type": "code",
   "execution_count": null,
   "metadata": {},
   "outputs": [],
   "source": []
  }
 ],
 "metadata": {
  "kernelspec": {
   "display_name": "Python 3",
   "language": "python",
   "name": "python3"
  },
  "language_info": {
   "codemirror_mode": {
    "name": "ipython",
    "version": 3
   },
   "file_extension": ".py",
   "mimetype": "text/x-python",
   "name": "python",
   "nbconvert_exporter": "python",
   "pygments_lexer": "ipython3",
   "version": "3.8.5"
  }
 },
 "nbformat": 4,
 "nbformat_minor": 4
}
