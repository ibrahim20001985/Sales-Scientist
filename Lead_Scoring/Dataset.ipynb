{
 "cells": [
  {
   "cell_type": "code",
   "execution_count": 1,
   "metadata": {},
   "outputs": [],
   "source": [
    "Hyros_testimonial_clients = ['FrankKern.com', 'ImpactTheorey.com', 'SoldoutCourse.com', 'Mastermind.com', 'Shopanova', 'Samcart',\n",
    "                             'Clickfunnels', 'billygeneismarketing.com', 'Kinobody', 'Ladyboss', 'Gym launch', \n",
    "                             'Smarter Nutrition', 'Full Time Filmaker', ]"
   ]
  },
  {
   "cell_type": "code",
   "execution_count": null,
   "metadata": {},
   "outputs": [],
   "source": []
  }
 ],
 "metadata": {
  "kernelspec": {
   "display_name": "Python 3",
   "language": "python",
   "name": "python3"
  },
  "language_info": {
   "codemirror_mode": {
    "name": "ipython",
    "version": 3
   },
   "file_extension": ".py",
   "mimetype": "text/x-python",
   "name": "python",
   "nbconvert_exporter": "python",
   "pygments_lexer": "ipython3",
   "version": "3.8.5"
  }
 },
 "nbformat": 4,
 "nbformat_minor": 4
}
