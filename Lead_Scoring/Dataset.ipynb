{
 "cells": [
  {
   "cell_type": "markdown",
   "metadata": {},
   "source": [
    "What features do we need\n",
    "1. ad Spend\n",
    "2. number of platforms used\n",
    "3. type of business (Consulting, eCommerce, Information & Coaching, other)\n",
    "4. member of the CEO's Youtube Mastermind\n",
    "5. revenue leaks...\n",
    "6. general information..."
   ]
  },
  {
   "cell_type": "markdown",
   "metadata": {},
   "source": [
    "learning rescource: https://www.storegrowers.com/google-ads-competitors/"
   ]
  },
  {
   "cell_type": "markdown",
   "metadata": {},
   "source": [
    "rescource 2: https://www.similarweb.com/website/kinobody.com/#pro"
   ]
  },
  {
   "cell_type": "code",
   "execution_count": null,
   "metadata": {},
   "outputs": [],
   "source": []
  }
 ],
 "metadata": {
  "kernelspec": {
   "display_name": "Python 3",
   "language": "python",
   "name": "python3"
  },
  "language_info": {
   "codemirror_mode": {
    "name": "ipython",
    "version": 3
   },
   "file_extension": ".py",
   "mimetype": "text/x-python",
   "name": "python",
   "nbconvert_exporter": "python",
   "pygments_lexer": "ipython3",
   "version": "3.8.5"
  }
 },
 "nbformat": 4,
 "nbformat_minor": 4
}
