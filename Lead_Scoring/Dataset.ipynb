{
 "cells": [
  {
   "cell_type": "markdown",
   "metadata": {},
   "source": [
    "What features do we need\n",
    "1. ad Spend\n",
    "2. number of platforms used\n",
    "3. type of business (niche / domain)\n",
    "4. member of the CEO's Youtube Mastermind\n",
    "5. opt in offering (checklist, template, webinar, or sales video)\n",
    "6. revenue\n",
    "7. profit\n",
    "8. page total visits\n",
    "9. page visit duration (seconds)\n",
    "10. pages per visit\n",
    "11. Bounce rate\n",
    "12. main traffic source (direct, referals, search, social, mail, display)\n",
    "13. signifigant referalls (yes or no)\n",
    "14. dominant social media platform\n",
    "15. average likes per post on platform\n",
    "15. average likes per post on platform\n",
    "16. Sentiment on platform\n",
    "17. Polarity on platform\n",
    "18. Lead Source (company website, opt-in)\n",
    "19. time spent on landing page\n",
    "20. subscribed to Becker of Hyros"
   ]
  },
  {
   "cell_type": "markdown",
   "metadata": {},
   "source": [
    "learning rescource: https://www.storegrowers.com/google-ads-competitors/"
   ]
  },
  {
   "cell_type": "markdown",
   "metadata": {},
   "source": [
    "rescource 2: https://www.similarweb.com"
   ]
  },
  {
   "cell_type": "markdown",
   "metadata": {},
   "source": [
    "rescource 3: https://towardsdatascience.com/a-true-end-to-end-ml-example-lead-scoring-f5b52e9a3c80"
   ]
  },
  {
   "cell_type": "markdown",
   "metadata": {},
   "source": [
    "Where to get the features...\n",
    "* similar web: 2 & 3, 8-14\n",
    "* spyfu.com: 1(google)\n",
    "* semrush: 1(social media)"
   ]
  },
  {
   "cell_type": "code",
   "execution_count": null,
   "metadata": {},
   "outputs": [],
   "source": []
  }
 ],
 "metadata": {
  "kernelspec": {
   "display_name": "Python 3",
   "language": "python",
   "name": "python3"
  },
  "language_info": {
   "codemirror_mode": {
    "name": "ipython",
    "version": 3
   },
   "file_extension": ".py",
   "mimetype": "text/x-python",
   "name": "python",
   "nbconvert_exporter": "python",
   "pygments_lexer": "ipython3",
   "version": "3.8.5"
  }
 },
 "nbformat": 4,
 "nbformat_minor": 4
}
