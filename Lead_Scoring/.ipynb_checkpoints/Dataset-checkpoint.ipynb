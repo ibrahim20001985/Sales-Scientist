{
 "cells": [
  {
   "cell_type": "markdown",
   "metadata": {},
   "source": [
    "What features do we need?\n",
    "* Ad Spend\n",
    "* number of platforms used\n",
    "* Mastermind member or not\n",
    "* revenue\n",
    "* profit\n",
    "* dominant platform\n",
    "* sentiment on dominant platform\n",
    "* polarity on dominant platform\n",
    "* search volume on dominant platform\n",
    "* search volume on dominant platform\n",
    "* mentions on dominant platform\n",
    "* engadgement score on dominant platform (an algorithm that combines likes, views, comments, and shares in the last 30 days with total followers)\n",
    "* discovery (how they found out about Hyros) \n",
    "* product or service cost (I will probably bucket this feature into price ranges)\n",
    "* ROAS\n",
    "* ROAS goal\n",
    "\n",
    "I will concatenate their sales data with this if I can get buy-in"
   ]
  },
  {
   "cell_type": "markdown",
   "metadata": {},
   "source": [
    "Table 1 pulling data from ...\n",
    "* number of followers / subscribers\n",
    "* average number of likes a post\n",
    "* average number of comments a post\n",
    "\n",
    "Tables 2 and 3...\n",
    "\n",
    "all other features for Facebook and Youtube respectivley"
   ]
  },
  {
   "cell_type": "code",
   "execution_count": 4,
   "metadata": {},
   "outputs": [],
   "source": [
    "from facebook_scraper import get_posts\n",
    "from facebook_scraper import get_profile\n",
    "import pandas as pd\n",
    "\n",
    "def CollectFB(client, pages):\n",
    "    o = {'comments': True, 'reactors': True}\n",
    "    likes = 0\n",
    "    comments = 0\n",
    "    reactions = 0\n",
    "    posts = 0\n",
    "    for post in get_posts(client, pages=pages, options=o):\n",
    "        posts += 1\n",
    "        likes += post['likes']\n",
    "        comments += post['comments']\n",
    "        if post['reactors'] == None:\n",
    "            pr = 0\n",
    "        else:\n",
    "            pr = post['reactors']\n",
    "        reactions += pr\n",
    "    likes = likes + reactions\n",
    "    try:\n",
    "        return likes/posts, comments/posts\n",
    "    except:\n",
    "        return 0, 0\n",
    "    \n",
    "def t1f23fb(clients, pages):\n",
    "    likes = []\n",
    "    comments = []\n",
    "    for client in clients:\n",
    "        print(client)\n",
    "        avg_likes, avg_comments = CollectFB(client, pages)\n",
    "        likes.append(avg_likes)\n",
    "        comments.append(avg_comments)\n",
    "    results = {'client': clients, 'average facebook likes': likes, 'average facebook comments': comments}\n",
    "    return results"
   ]
  },
  {
   "cell_type": "code",
   "execution_count": 5,
   "metadata": {},
   "outputs": [],
   "source": [
    "clientsFB = ['deangraziosipage', 'DanHenryMarketing', 'kinobodyfitness', 'billygeneismarketing']\n",
    "Hyros_testimonial_clients = ['FrankKern.com', 'ImpactTheorey.com', 'SoldoutCourse.com', 'Mastermind.com', 'Shopanova', 'Samcart',\n",
    "                             'Clickfunnels', 'billygeneismarketing.com', 'Kinobody', 'Ladyboss', 'Gym launch', \n",
    "                             'Smarter Nutrition', 'Full Time Filmaker', ]"
   ]
  },
  {
   "cell_type": "code",
   "execution_count": 8,
   "metadata": {
    "scrolled": true
   },
   "outputs": [
    {
     "data": {
      "text/html": [
       "<div>\n",
       "<style scoped>\n",
       "    .dataframe tbody tr th:only-of-type {\n",
       "        vertical-align: middle;\n",
       "    }\n",
       "\n",
       "    .dataframe tbody tr th {\n",
       "        vertical-align: top;\n",
       "    }\n",
       "\n",
       "    .dataframe thead th {\n",
       "        text-align: right;\n",
       "    }\n",
       "</style>\n",
       "<table border=\"1\" class=\"dataframe\">\n",
       "  <thead>\n",
       "    <tr style=\"text-align: right;\">\n",
       "      <th></th>\n",
       "      <th>client</th>\n",
       "      <th>average facebook likes</th>\n",
       "      <th>average facebook comments</th>\n",
       "    </tr>\n",
       "  </thead>\n",
       "  <tbody>\n",
       "    <tr>\n",
       "      <th>0</th>\n",
       "      <td>deangraziosipage</td>\n",
       "      <td>248.6</td>\n",
       "      <td>31.9</td>\n",
       "    </tr>\n",
       "    <tr>\n",
       "      <th>1</th>\n",
       "      <td>DanHenryMarketing</td>\n",
       "      <td>29.5</td>\n",
       "      <td>2.5</td>\n",
       "    </tr>\n",
       "    <tr>\n",
       "      <th>2</th>\n",
       "      <td>kinobodyfitness</td>\n",
       "      <td>0.0</td>\n",
       "      <td>0.0</td>\n",
       "    </tr>\n",
       "    <tr>\n",
       "      <th>3</th>\n",
       "      <td>billygeneismarketing</td>\n",
       "      <td>85.9</td>\n",
       "      <td>30.7</td>\n",
       "    </tr>\n",
       "  </tbody>\n",
       "</table>\n",
       "</div>"
      ],
      "text/plain": [
       "                 client  average facebook likes  average facebook comments\n",
       "0      deangraziosipage                   248.6                       31.9\n",
       "1     DanHenryMarketing                    29.5                        2.5\n",
       "2       kinobodyfitness                     0.0                        0.0\n",
       "3  billygeneismarketing                    85.9                       30.7"
      ]
     },
     "execution_count": 8,
     "metadata": {},
     "output_type": "execute_result"
    }
   ],
   "source": [
    "pd.DataFrame(Table1)"
   ]
  },
  {
   "cell_type": "code",
   "execution_count": 24,
   "metadata": {},
   "outputs": [],
   "source": [
    "from bs4 import BeautifulSoup #for scraping\n",
    "import requests               #required for reading the file\n",
    "import pandas as pd           #(optional) Pandas for dataframes \n",
    "import json                   #(optional) If you want to export json\n",
    "import os\n",
    "\n",
    "url = 'https://www.youtube.com/watch?v=J54aiv5lEMs'\n",
    "source = requests.get(url).text\n",
    "soup = BeautifulSoup(source, 'lxml')\n",
    "div_s = soup.findAll('div')\n",
    "\n",
    "div_s[1].find('span')"
   ]
  },
  {
   "cell_type": "markdown",
   "metadata": {},
   "source": [
    "Learning rescource: https://pepperdine.libanswers.com/faq/224436"
   ]
  }
 ],
 "metadata": {
  "kernelspec": {
   "display_name": "Python 3",
   "language": "python",
   "name": "python3"
  },
  "language_info": {
   "codemirror_mode": {
    "name": "ipython",
    "version": 3
   },
   "file_extension": ".py",
   "mimetype": "text/x-python",
   "name": "python",
   "nbconvert_exporter": "python",
   "pygments_lexer": "ipython3",
   "version": "3.8.5"
  }
 },
 "nbformat": 4,
 "nbformat_minor": 4
}
