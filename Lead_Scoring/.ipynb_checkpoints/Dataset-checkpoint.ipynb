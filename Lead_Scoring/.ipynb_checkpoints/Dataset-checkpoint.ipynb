{
 "cells": [
  {
   "cell_type": "markdown",
   "metadata": {},
   "source": [
    "What features do we need?\n",
    "* Ad Spend\n",
    "* number of platforms used\n",
    "* Mastermind member or not\n",
    "* revenue\n",
    "* profit\n",
    "* dominant platform\n",
    "* sentiment on dominant platform\n",
    "* polarity on dominant platform\n",
    "* search volume on dominant platform\n",
    "* search volume on dominant platform\n",
    "* mentions on dominant platform\n",
    "* engadgement score on dominant platform (an algorithm that combines likes, views, comments, and shares in the last 30 days with total followers\n",
    "* discovery (how they found out about Hyros) \n",
    "* product or service cost (I will probably bucket this feature into price ranges)\n",
    "* ROAS\n",
    "* ROAS goal\n",
    "\n",
    "I will concatenate their sales data with this if I can get buy-in"
   ]
  },
  {
   "cell_type": "code",
   "execution_count": 1,
   "metadata": {},
   "outputs": [],
   "source": [
    "Hyros_testimonial_clients = ['FrankKern.com', 'ImpactTheorey.com', 'SoldoutCourse.com', 'Mastermind.com', 'Shopanova', 'Samcart',\n",
    "                             'Clickfunnels', 'billygeneismarketing.com', 'Kinobody', 'Ladyboss', 'Gym launch', \n",
    "                             'Smarter Nutrition', 'Full Time Filmaker', ]"
   ]
  },
  {
   "cell_type": "markdown",
   "metadata": {},
   "source": [
    "Learning rescource: https://pepperdine.libanswers.com/faq/224436"
   ]
  },
  {
   "cell_type": "code",
   "execution_count": null,
   "metadata": {},
   "outputs": [],
   "source": []
  }
 ],
 "metadata": {
  "kernelspec": {
   "display_name": "Python 3",
   "language": "python",
   "name": "python3"
  },
  "language_info": {
   "codemirror_mode": {
    "name": "ipython",
    "version": 3
   },
   "file_extension": ".py",
   "mimetype": "text/x-python",
   "name": "python",
   "nbconvert_exporter": "python",
   "pygments_lexer": "ipython3",
   "version": "3.8.5"
  }
 },
 "nbformat": 4,
 "nbformat_minor": 4
}
