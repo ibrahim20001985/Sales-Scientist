{
 "cells": [
  {
   "cell_type": "markdown",
   "metadata": {},
   "source": [
    "# Concept\n",
    "predict how much revenue a given video idea will produce for tiger fitness. we also want to predict views, percent viewed, and change in subscribers"
   ]
  },
  {
   "cell_type": "markdown",
   "metadata": {},
   "source": [
    "# Features (input 1-7, output 8-14)\n",
    "1. video duration (bucketed, analytics based)\n",
    "2. title polarity\n",
    "3. title length (characters)\n",
    "4. n links in description\n",
    "5. category of video (vlog, training, nutrition, personal story, supplements and steroids) \n",
    "6. product price range (bucketed, intuition based)\n",
    "7. product type (apparel, supplements, food, coaching)\n",
    "8. sales made\n",
    "9. views \n",
    "10. subs \n",
    "11. average percent viewed\n",
    "12. likes\n",
    "13. Impressions\n",
    "14. Impression click through"
   ]
  },
  {
   "cell_type": "markdown",
   "metadata": {},
   "source": [
    "# Models\n",
    "1. revenue prediction (predict sales volume, multiply by price range to give a revenue range \n",
    "2. views prediction\n",
    "3. change in subscribers prediction\n",
    "4. average percent viewed prediction\n",
    "5. likes prediction"
   ]
  },
  {
   "cell_type": "markdown",
   "metadata": {},
   "source": [
    "Data Sources...\n",
    "\n",
    "manual entry or unsupervised learning: 5\n",
    "\n",
    "youtube analytics report - video analytics overview: 2, 3, 9, 10, 11, 12\n",
    "\n",
    "youtube analytics report - video analytics engadgement: 8, 13, 14"
   ]
  },
  {
   "cell_type": "code",
   "execution_count": null,
   "metadata": {},
   "outputs": [],
   "source": []
  }
 ],
 "metadata": {
  "kernelspec": {
   "display_name": "Python 3",
   "language": "python",
   "name": "python3"
  },
  "language_info": {
   "codemirror_mode": {
    "name": "ipython",
    "version": 3
   },
   "file_extension": ".py",
   "mimetype": "text/x-python",
   "name": "python",
   "nbconvert_exporter": "python",
   "pygments_lexer": "ipython3",
   "version": "3.8.5"
  }
 },
 "nbformat": 4,
 "nbformat_minor": 4
}
