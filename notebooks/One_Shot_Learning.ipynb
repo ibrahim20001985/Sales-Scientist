{
 "cells": [
  {
   "cell_type": "markdown",
   "metadata": {},
   "source": [
    "# Abstract"
   ]
  },
  {
   "cell_type": "markdown",
   "metadata": {},
   "source": [
    "Traditionally One Shot Learning was developed to train computers to classify images given a single training example, image classification models typically need thousands. Having set aside two days to experiment, I decided to see if I could implement something similar to accuratley score leads given a very small structured dataset. In essence, One Shot Learning on structured data instead of images."
   ]
  },
  {
   "cell_type": "code",
   "execution_count": 1,
   "metadata": {},
   "outputs": [],
   "source": [
    "import pandas as pd\n",
    "from sklearn.model_selection import train_test_split\n",
    "import numpy as np\n",
    "from tensorflow.keras import layers, models\n",
    "import random\n",
    "import seaborn as sns\n",
    "\n",
    "df = pd.read_csv(r'C:\\Users\\aacjp\\Sales-Scientist\\datasets\\leadsML.csv').drop(['Unnamed: 0'], axis='columns')"
   ]
  },
  {
   "cell_type": "code",
   "execution_count": 2,
   "metadata": {},
   "outputs": [],
   "source": [
    "A = df.loc[df['customer']==0]\n",
    "B = df.loc[df['customer']==1].iloc[:-1]"
   ]
  },
  {
   "cell_type": "code",
   "execution_count": 3,
   "metadata": {
    "scrolled": true
   },
   "outputs": [],
   "source": [
    "XA = np.array(A.drop(['customer'], axis='columns'))\n",
    "yA = np.array(A['customer'])\n",
    "XB = np.array(B.drop(['customer'], axis='columns'))\n",
    "yB = np.array(B['customer'])\n",
    "XA_train, XA_test, yA_train, yA_test = train_test_split(XA, yA)\n",
    "XB_train, XB_test, yB_train, yB_test = train_test_split(XB, yB)"
   ]
  },
  {
   "cell_type": "markdown",
   "metadata": {},
   "source": [
    "# My Strategy\n",
    "\n",
    "The first thing I did was build a neural network with an expanding architecture. The first layer had 56 nodes, because the data had 56 features, each layer doubled in nodes until the last layer had 3584 nodes. each layer had a relu activation, except the last two were sigmoid. The training data was split into A, non-customers, and B, customers while the validation data, C, remained unified. Next A, B, and C each went through the network and each business in the dataset transformed from a vector of length 56 to a vector of length 3584. When making predictions each vector in C, C[i], was joined with a random customer, B[n] and a random non-customer A[n]. the euclidean distances between C[i] and B[n], distB, were computed along with C[i] and A[n], distA. Then the score was calculated...\n",
    "\n",
    "score = distA / (distA+distB)\n",
    "\n",
    "The reason for this is; for example, if distA was very high and distB was very low the score would be close to 1 because C[i] has a greater distance from the non-customers than from the customer, meaning it is more similar to a customer.\n",
    "\n",
    "This is a far cry from One Shot Learning, or any proven Machine Learning concept for that matter. However, it was a fun experiment."
   ]
  },
  {
   "cell_type": "code",
   "execution_count": 4,
   "metadata": {},
   "outputs": [],
   "source": [
    "def Sigmoid(x, deriv=False, classes=1):\n",
    "    if deriv==True:\n",
    "        return x*(1-x)\n",
    "    if classes==2:\n",
    "        results = []\n",
    "        for i in range(len(x)):\n",
    "            sigmoid = 1/(1+np.exp(-1*x[i]))\n",
    "            inv = 1-sigmoid\n",
    "            results.append([sigmoid, inv])\n",
    "        return np.array(results)\n",
    "    return 1/(1+np.exp(-x))\n",
    "\n",
    "def Euclidean(x, y):\n",
    "    distance = 0\n",
    "    for i in range(len(x)):\n",
    "        distance += np.sqrt((abs(y[i]-x[i])**2)/len(x))\n",
    "    return distance\n",
    "    \n",
    "def Build(A, B, C): \n",
    "    model = models.Sequential()\n",
    "    nodes = A.shape[1]\n",
    "    model.add(layers.Dense(nodes, activation='relu'))\n",
    "    model.add(layers.Dense(nodes*2, activation='relu'))\n",
    "    model.add(layers.Dense(nodes*2, activation='relu'))\n",
    "    model.add(layers.Dense(nodes*4, activation='relu'))\n",
    "    model.add(layers.Dense(nodes*8, activation='sigmoid'))\n",
    "    model.add(layers.Dense(nodes*64, activation='sigmoid'))\n",
    "    model.compile(loss='binary_crossentropy', optimizer='adam')\n",
    "    encA = model(A)\n",
    "    encB = model(B)\n",
    "    encC = model(C)\n",
    "    return encA, encB, encC\n",
    "\n",
    "def OneShot(A, B, C):\n",
    "    pred = []\n",
    "    for i in range(len(C)):\n",
    "        N = random.randint(0, len(A)-1)\n",
    "        sample = C[i]\n",
    "        negative = A[N]\n",
    "        positive = B[N]\n",
    "        distance0 = Euclidean(negative, sample)\n",
    "        distance1 = Euclidean(positive, sample)\n",
    "        pred.append(distance0 /  (distance0+distance1))\n",
    "    return np.array(pred)\n",
    "\n",
    "def FewShot(A, B, C):\n",
    "    pred = []\n",
    "    for i in range(len(C)):\n",
    "        N = random.randint(0, len(A)-1)\n",
    "        sample = C[i]\n",
    "        score = 0\n",
    "        #scores = []\n",
    "        for j in range(len(A)):\n",
    "            negative = A[j]\n",
    "            positive = B[j]\n",
    "            distance0 = Euclidean(negative, sample)\n",
    "            distance1 = Euclidean(positive, sample)\n",
    "            score += distance0 /  (distance0+distance1)\n",
    "            #scores.append(distance0 /  (distance0+distance1))\n",
    "        pred.append(score/len(A))\n",
    "        #pred.append(np.median(scores))\n",
    "    return np.array(pred)\n",
    "\n",
    "def Validate(predicted, labels):\n",
    "    tp = 0\n",
    "    fp = 0\n",
    "    fn = 0\n",
    "    tn = 0\n",
    "    correct = 0\n",
    "    for i in range(len(labels)):\n",
    "        if int(round(predicted[i])) == labels[i]:\n",
    "            correct += 1\n",
    "            if labels[i] == 1:\n",
    "                tp += 1\n",
    "            else:\n",
    "                tn += 1\n",
    "        if int(round(predicted[i])) != labels[i]:\n",
    "            if labels[i] == 1:\n",
    "                fn += 1\n",
    "            else:\n",
    "                fp += 1\n",
    "    cm = np.array([[tp, fp], [fn, tn]])\n",
    "    recall = tp / (tp+fn)\n",
    "    precision = tp / (tp+fp)\n",
    "    accuracy = correct/len(labels)\n",
    "    metrics = {'accuracy': accuracy, 'recall': recall, 'precision': precision}\n",
    "    return cm, metrics"
   ]
  },
  {
   "cell_type": "code",
   "execution_count": 5,
   "metadata": {},
   "outputs": [
    {
     "name": "stdout",
     "output_type": "stream",
     "text": [
      "{'accuracy': 0.38095238095238093, 'recall': 0.47619047619047616, 'precision': 0.4}\n"
     ]
    },
    {
     "data": {
      "text/plain": [
       "<AxesSubplot:>"
      ]
     },
     "execution_count": 5,
     "metadata": {},
     "output_type": "execute_result"
    },
    {
     "data": {
      "image/png": "[encoded data removed]",
      "text/plain": [
       "<Figure size 432x288 with 2 Axes>"
      ]
     },
     "metadata": {
      "needs_background": "light"
     },
     "output_type": "display_data"
    }
   ],
   "source": [
    "C = np.concatenate((XA_train, XB_train))\n",
    "labels = np.concatenate((yA_train, yB_train))\n",
    "pred = OneShot(XA_train, XB_train, C)\n",
    "os_train_cm, os_train_results = Validate(pred, labels)\n",
    "print(os_train_results)\n",
    "sns.heatmap(os_train_cm, annot=True, cmap=\"Blues\")"
   ]
  },
  {
   "cell_type": "code",
   "execution_count": 6,
   "metadata": {},
   "outputs": [
    {
     "name": "stdout",
     "output_type": "stream",
     "text": [
      "{'accuracy': 0.5, 'recall': 0.5, 'precision': 0.5}\n"
     ]
    },
    {
     "data": {
      "text/plain": [
       "<AxesSubplot:>"
      ]
     },
     "execution_count": 6,
     "metadata": {},
     "output_type": "execute_result"
    },
    {
     "data": {
      "image/png": "[encoded data removed]",
      "text/plain": [
       "<Figure size 432x288 with 2 Axes>"
      ]
     },
     "metadata": {
      "needs_background": "light"
     },
     "output_type": "display_data"
    }
   ],
   "source": [
    "C = np.concatenate((XA_test, XB_test))\n",
    "labels = np.concatenate((yA_test, yB_test))\n",
    "pred = OneShot(XA_train, XB_train, C)\n",
    "os_test_cm, os_test_results = Validate(pred, labels)\n",
    "print(os_test_results)\n",
    "sns.heatmap(os_test_cm, annot=True, cmap=\"Blues\")"
   ]
  },
  {
   "cell_type": "code",
   "execution_count": 7,
   "metadata": {
    "scrolled": true
   },
   "outputs": [
    {
     "name": "stdout",
     "output_type": "stream",
     "text": [
      "{'accuracy': 0.7380952380952381, 'recall': 0.7142857142857143, 'precision': 0.75}\n"
     ]
    },
    {
     "data": {
      "text/plain": [
       "<AxesSubplot:>"
      ]
     },
     "execution_count": 7,
     "metadata": {},
     "output_type": "execute_result"
    },
    {
     "data": {
      "image/png": "[encoded data removed]",
      "text/plain": [
       "<Figure size 432x288 with 2 Axes>"
      ]
     },
     "metadata": {
      "needs_background": "light"
     },
     "output_type": "display_data"
    }
   ],
   "source": [
    "C = np.concatenate((XA_train, XB_train))\n",
    "labels = np.concatenate((yA_train, yB_train))\n",
    "pred = FewShot(XA_train, XB_train, C)\n",
    "fs_train_cm, fs_train_results = Validate(pred, labels)\n",
    "print(fs_train_results)\n",
    "sns.heatmap(fs_train_cm, annot=True, cmap=\"Blues\")"
   ]
  },
  {
   "cell_type": "code",
   "execution_count": 8,
   "metadata": {},
   "outputs": [
    {
     "name": "stdout",
     "output_type": "stream",
     "text": [
      "{'accuracy': 0.75, 'recall': 0.75, 'precision': 0.75}\n"
     ]
    },
    {
     "data": {
      "text/plain": [
       "<AxesSubplot:>"
      ]
     },
     "execution_count": 8,
     "metadata": {},
     "output_type": "execute_result"
    },
    {
     "data": {
      "image/png": "[encoded data removed]",
      "text/plain": [
       "<Figure size 432x288 with 2 Axes>"
      ]
     },
     "metadata": {
      "needs_background": "light"
     },
     "output_type": "display_data"
    }
   ],
   "source": [
    "C = np.concatenate((XA_test, XB_test))\n",
    "labels = np.concatenate((yA_test, yB_test))\n",
    "pred = FewShot(XA_train, XB_train, C)\n",
    "fs_test_cm, fs_test_results = Validate(pred, labels)\n",
    "print(fs_test_results)\n",
    "sns.heatmap(fs_test_cm, annot=True, cmap=\"Blues\")"
   ]
  },
  {
   "cell_type": "code",
   "execution_count": 9,
   "metadata": {},
   "outputs": [],
   "source": [
    "def cba(cm, action, value):\n",
    "    guess = int(round((sum(cm[0])+sum(cm[1]))/4))\n",
    "    tp = cm[0][0]\n",
    "    fp = cm[0][1]\n",
    "    fn = cm[1][0]\n",
    "    tn = cm[1][1]\n",
    "    cost = action*tp + action*fp + value*fn\n",
    "    benefit = (tp-guess)*value + action*fn + action*tn\n",
    "    return cost, benefit\n",
    "\n",
    "def cbaHyros(cm, upfront=5000, monthly=1000, action=100, quiet=False):\n",
    "    upfront_cost, upfront_benefit = cba(cm, action, upfront)\n",
    "    monthly_cost, monthly_benefit = cba(cm, 0, monthly)\n",
    "    if quiet==False:\n",
    "        return '''cost: ${} upfront and ${} each month going forward. benefit: ${} upfront and ${} each month going forward.'''.format(upfront_cost, monthly_cost, upfront_benefit, monthly_benefit)\n",
    "    else:\n",
    "        return upfront_cost, monthly_cost, upfront_benefit, monthly_benefit\n",
    "    \n",
    "def crossval(cv, func, A, B, C, labels):\n",
    "    table = {'accuracy': [], 'recall': [], 'precision': [], 'net_annual': []}\n",
    "    for i in range(cv):\n",
    "        predicted = func(A, B, C)\n",
    "        cm, results = Validate(predicted, labels)\n",
    "        table['accuracy'].append(results['accuracy'])\n",
    "        table['recall'].append(results['recall'])\n",
    "        table['precision'].append(results['precision'])\n",
    "        upfront_cost, monthly_cost, upfront_benefit, monthly_benefit = cbaHyros(cm, quiet=True)\n",
    "        net_annual = (monthly_benefit-monthly_cost)*12 + (upfront_benefit-upfront_cost)\n",
    "        table['net_annual'].append(net_annual)\n",
    "    return {'avg_accuracy': np.mean(table['accuracy']), 'avg_recall': np.mean(table['recall']), \n",
    "           'avg_precision': np.mean(table['precision']), 'avg_net_annual': np.mean(table['net_annual']), \n",
    "            'unit_net': np.mean(table['net_annual'])/len(labels)}"
   ]
  },
  {
   "cell_type": "code",
   "execution_count": 10,
   "metadata": {},
   "outputs": [
    {
     "data": {
      "text/plain": [
       "{'avg_accuracy': 0.5150793650793651,\n",
       " 'avg_recall': 0.5126984126984127,\n",
       " 'avg_precision': 0.5143829189195547,\n",
       " 'avg_net_annual': -160913.33333333334,\n",
       " 'unit_net': -3831.2698412698414}"
      ]
     },
     "execution_count": 10,
     "metadata": {},
     "output_type": "execute_result"
    }
   ],
   "source": [
    "C = np.concatenate((XA_train, XB_train))\n",
    "labels = np.concatenate((yA_train, yB_train))\n",
    "crossval(30, OneShot, XA_train, XB_train, C, labels)"
   ]
  },
  {
   "cell_type": "code",
   "execution_count": 11,
   "metadata": {},
   "outputs": [
    {
     "data": {
      "text/plain": [
       "{'avg_accuracy': 0.53125,\n",
       " 'avg_recall': 0.5416666666666666,\n",
       " 'avg_precision': 0.5236952861952862,\n",
       " 'avg_net_annual': -56700.0,\n",
       " 'unit_net': -3543.75}"
      ]
     },
     "execution_count": 11,
     "metadata": {},
     "output_type": "execute_result"
    }
   ],
   "source": [
    "C = np.concatenate((XA_test, XB_test))\n",
    "labels = np.concatenate((yA_test, yB_test))\n",
    "crossval(30, OneShot, XA_train, XB_train, C, labels)"
   ]
  },
  {
   "cell_type": "code",
   "execution_count": 12,
   "metadata": {},
   "outputs": [
    {
     "data": {
      "text/plain": [
       "{'avg_accuracy': 0.7380952380952379,\n",
       " 'avg_recall': 0.7142857142857145,\n",
       " 'avg_precision': 0.75,\n",
       " 'avg_net_annual': -16800.0,\n",
       " 'unit_net': -400.0}"
      ]
     },
     "execution_count": 12,
     "metadata": {},
     "output_type": "execute_result"
    }
   ],
   "source": [
    "C = np.concatenate((XA_train, XB_train))\n",
    "labels = np.concatenate((yA_train, yB_train))\n",
    "crossval(30, FewShot, XA_train, XB_train, C, labels)"
   ]
  },
  {
   "cell_type": "code",
   "execution_count": 13,
   "metadata": {},
   "outputs": [
    {
     "data": {
      "text/plain": [
       "{'avg_accuracy': 0.75,\n",
       " 'avg_recall': 0.75,\n",
       " 'avg_precision': 0.75,\n",
       " 'avg_net_annual': 0.0,\n",
       " 'unit_net': 0.0}"
      ]
     },
     "execution_count": 13,
     "metadata": {},
     "output_type": "execute_result"
    }
   ],
   "source": [
    "C = np.concatenate((XA_test, XB_test))\n",
    "labels = np.concatenate((yA_test, yB_test))\n",
    "crossval(30, FewShot, XA_train, XB_train, C, labels)"
   ]
  },
  {
   "cell_type": "markdown",
   "metadata": {},
   "source": [
    "# End results\n",
    "\n",
    "The best I was able to do is build a model that would cause the company to break even, in other words the benefit from aquiring more customers (true positives) and saving labor on winning over unlikley prospects (true negatives) would match the costs of neglecting likley prospects (false negatives) and investing labor in winning over unlikley prospects (false positives)."
   ]
  },
  {
   "cell_type": "code",
   "execution_count": null,
   "metadata": {},
   "outputs": [],
   "source": []
  }
 ],
 "metadata": {
  "kernelspec": {
   "display_name": "Python 3",
   "language": "python",
   "name": "python3"
  },
  "language_info": {
   "codemirror_mode": {
    "name": "ipython",
    "version": 3
   },
   "file_extension": ".py",
   "mimetype": "text/x-python",
   "name": "python",
   "nbconvert_exporter": "python",
   "pygments_lexer": "ipython3",
   "version": "3.8.5"
  }
 },
 "nbformat": 4,
 "nbformat_minor": 4
}
