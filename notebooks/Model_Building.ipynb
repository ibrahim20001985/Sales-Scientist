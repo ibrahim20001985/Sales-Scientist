{
 "cells": [
  {
   "cell_type": "markdown",
   "metadata": {},
   "source": [
    "# Abstract"
   ]
  },
  {
   "cell_type": "markdown",
   "metadata": {},
   "source": [
    "Hyros is a software that allows advertisers and digital marketers to accuratley attribute the return on their advertising (ROAS) accross platforms. The company has been delivering amazing results for their customers who mostly come in by word of mouth. However they are looking towards outbound outreach to scale higher and are looking to hire more salespeople. Hyros wants to grow and it can only scale so high with word of mouth so it's ramping up outbound strategies. The goal here is to see if we can make the sales process more efficient, this way the sales team can retain or increase it's closing rate and Hyros won't need to make as many hires; 1) save time, 2) save money, 3) more closing = more money.\n",
    "\n",
    "Finding the right prospects is time consuming. This is a common problem in sales and marketing, however this especially is an issue for Hyros because they are selective about the customers they choose to onboard. How much would it suck to expand a sales team only to have them bring in customers that are unqualified or unlikley to benefit from the service? a lot! Getting the wrong customers on sales calls will decrease closing rates, especially SQL-to-MQL, at best and create negative customer experiences that reflect badly on the company at worst."
   ]
  },
  {
   "cell_type": "code",
   "execution_count": 57,
   "metadata": {},
   "outputs": [],
   "source": [
    "import pandas as pd\n",
    "import random\n",
    "import numpy as np\n",
    "import seaborn as sns\n",
    "from matplotlib import pyplot as plt\n",
    "from sklearn.naive_bayes import GaussianNB, MultinomialNB\n",
    "from sklearn.linear_model import LogisticRegression\n",
    "from sklearn.tree import DecisionTreeClassifier\n",
    "from sklearn.neighbors import KNeighborsClassifier\n",
    "from sklearn.svm import SVC\n",
    "from sklearn.ensemble import RandomForestClassifier, AdaBoostClassifier, GradientBoostingClassifier\n",
    "from xgboost import XGBClassifier\n",
    "from potosnail import Evaluater\n",
    "from sklearn.model_selection import train_test_split\n",
    "from sklearn.neural_network import MLPClassifier\n",
    "from sklearn.metrics import confusion_matrix, plot_confusion_matrix\n",
    "from collections import defaultdict\n",
    "from sklearn.preprocessing import StandardScaler\n",
    "\n",
    "df = pd.read_csv(r'C:\\Users\\aacjp\\Sales-Scientist\\datasets\\leadsML.csv').drop(['Unnamed: 0'], axis='columns')\n",
    "w = pd.read_csv(r'C:\\Users\\aacjp\\Sales-Scientist\\datasets\\check6.csv').drop(['Unnamed: 0'], axis='columns')"
   ]
  },
  {
   "cell_type": "code",
   "execution_count": 2,
   "metadata": {},
   "outputs": [],
   "source": [
    "domains = ['apparel',\n",
    " 'ecommerce',\n",
    " 'entrepreneurship',\n",
    " 'film',\n",
    " 'finance',\n",
    " 'fitness',\n",
    " 'health',\n",
    " 'marketing',\n",
    " 'nutrition',\n",
    " 'photography',\n",
    " 'productivity',\n",
    " 'realestate',\n",
    " 'self-development',\n",
    " 'skincare',\n",
    " 'technology']\n",
    "models = ['consulting', 'ecommerce', 'info', 'media', 'software']\n",
    "platforms = ['Youtube',\n",
    " 'facebook',\n",
    " 'instagram',\n",
    " 'linkedin',\n",
    " 'other',\n",
    " 'pinterest',\n",
    " 'quora',\n",
    " 'reddit',\n",
    " 'youtube']"
   ]
  },
  {
   "cell_type": "markdown",
   "metadata": {},
   "source": [
    "# Model 1: simple bayesian infrence from scratch"
   ]
  },
  {
   "cell_type": "markdown",
   "metadata": {},
   "source": [
    "This model is very simple. It only takes the revenue and niche (business model and domain combination) into account. It is build under Bayes Theorem of P(A|B) = P(B|A) * P(A) / P(B)"
   ]
  },
  {
   "cell_type": "code",
   "execution_count": 3,
   "metadata": {},
   "outputs": [
    {
     "data": {
      "text/plain": [
       "0.5"
      ]
     },
     "execution_count": 3,
     "metadata": {},
     "output_type": "execute_result"
    }
   ],
   "source": [
    "def bayesianInfrence(df, revenue, domain, business_model, margin=0.1):\n",
    "    '''finds the probability that a lead will convert given it's revenue and niche'''\n",
    "    greater = df.loc[df['revenue']>revenue-(revenue*margin)]\n",
    "    inrange = greater.loc[greater['revenue']<revenue+(revenue*margin)]\n",
    "    domain = inrange.loc[inrange[domain]==1]\n",
    "    model = domain.loc[inrange[business_model]==1]\n",
    "    if len(model) != 0:\n",
    "        closed = model.loc[model['customer']==1]\n",
    "        return len(closed) / len(model) #*10\n",
    "    else:\n",
    "        return 'Sorry, not enough data available'\n",
    "\n",
    "bayesianInfrence(df, 500000, 'software', 'ecommerce', margin=0.5)"
   ]
  },
  {
   "cell_type": "code",
   "execution_count": 4,
   "metadata": {},
   "outputs": [],
   "source": [
    "def scoreBI(df, model=None, old_df=w, margin=0.1):\n",
    "    '''scores the bayesian infrence model'''\n",
    "    correct = 0\n",
    "    sse = 0\n",
    "    counter = 0\n",
    "    for i in range(len(df)):\n",
    "        domain = old_df.iloc[i]['domain']\n",
    "        model = old_df.iloc[i]['model']\n",
    "        revenue = df.iloc[i]['revenue']\n",
    "        actual = df.iloc[i]['customer']\n",
    "        result = bayesianInfrence(df, revenue, domain, model, margin=margin)\n",
    "        try:\n",
    "            output = int(round(result))\n",
    "            sse += abs(actual-result)\n",
    "            counter += 1\n",
    "            if output == actual:\n",
    "                correct += 1\n",
    "        except:\n",
    "            pass\n",
    "    accuracy = correct / len(df)\n",
    "    rmse = sse / counter\n",
    "    print('relative accuracy: {}'.format(correct/counter))    \n",
    "    return ('Score: {}, Error: {}'.format(accuracy, rmse)), counter, correct"
   ]
  },
  {
   "cell_type": "code",
   "execution_count": 5,
   "metadata": {},
   "outputs": [
    {
     "name": "stdout",
     "output_type": "stream",
     "text": [
      "relative accuracy: 0.9038461538461539\n",
      "validation: ('Score: 0.7966101694915254, Error: 0.10256410256410256', 52, 47)\n"
     ]
    }
   ],
   "source": [
    "print('validation: {}'.format(scoreBI(df)))"
   ]
  },
  {
   "cell_type": "markdown",
   "metadata": {},
   "source": [
    "# model 2\n",
    "\n",
    "In this model I combine probability of closing with average twitter polarity to score each lead. The reason for this is that twitter polarity (positive or negative) has a positive association with return on adspend (ROAS). This matters because businesses with negative polarity on twitter are less likley to have a good return on adspend and therefore less likley to reap the benefits of Hyros.  "
   ]
  },
  {
   "cell_type": "code",
   "execution_count": 6,
   "metadata": {},
   "outputs": [],
   "source": [
    "def scoreLeads(df, old_df=w, margin=0.1):\n",
    "    '''scores leads based on revenue, niche, and twitter sentiment'''\n",
    "    scores = []\n",
    "    for i in range(len(df)):\n",
    "        # scoring leads\n",
    "        domain = old_df.iloc[i]['domain']\n",
    "        model = old_df.iloc[i]['model']\n",
    "        revenue = df.iloc[i]['revenue']\n",
    "        sentiment = (df.iloc[i]['avg_polarity']+1)/2\n",
    "        result = bayesianInfrence(df, revenue, domain, model, margin=margin)\n",
    "        try:\n",
    "            score = round(result)*5 + round(sentiment*5, 1)\n",
    "        except: \n",
    "            score = round(sentiment*10, 1)\n",
    "        scores.append(score)\n",
    "    leads = list(old_df['name'])\n",
    "    return pd.DataFrame({'lead': leads, 'score': scores})"
   ]
  },
  {
   "cell_type": "markdown",
   "metadata": {},
   "source": [
    "I put the scores on a scale of 1-10"
   ]
  },
  {
   "cell_type": "code",
   "execution_count": 7,
   "metadata": {},
   "outputs": [
    {
     "name": "stdout",
     "output_type": "stream",
     "text": [
      "validation results...\n"
     ]
    },
    {
     "data": {
      "text/html": [
       "<div>\n",
       "<style scoped>\n",
       "    .dataframe tbody tr th:only-of-type {\n",
       "        vertical-align: middle;\n",
       "    }\n",
       "\n",
       "    .dataframe tbody tr th {\n",
       "        vertical-align: top;\n",
       "    }\n",
       "\n",
       "    .dataframe thead th {\n",
       "        text-align: right;\n",
       "    }\n",
       "</style>\n",
       "<table border=\"1\" class=\"dataframe\">\n",
       "  <thead>\n",
       "    <tr style=\"text-align: right;\">\n",
       "      <th></th>\n",
       "      <th>lead</th>\n",
       "      <th>score</th>\n",
       "    </tr>\n",
       "  </thead>\n",
       "  <tbody>\n",
       "    <tr>\n",
       "      <th>0</th>\n",
       "      <td>clickfunnels.com</td>\n",
       "      <td>8.0</td>\n",
       "    </tr>\n",
       "    <tr>\n",
       "      <th>1</th>\n",
       "      <td>kinobody.com</td>\n",
       "      <td>7.7</td>\n",
       "    </tr>\n",
       "    <tr>\n",
       "      <th>2</th>\n",
       "      <td>FrankKern.com</td>\n",
       "      <td>7.5</td>\n",
       "    </tr>\n",
       "    <tr>\n",
       "      <th>3</th>\n",
       "      <td>ImpactTheory.Com</td>\n",
       "      <td>8.2</td>\n",
       "    </tr>\n",
       "    <tr>\n",
       "      <th>4</th>\n",
       "      <td>digitalmillionairesecrets.com</td>\n",
       "      <td>8.4</td>\n",
       "    </tr>\n",
       "    <tr>\n",
       "      <th>5</th>\n",
       "      <td>mastermind.com</td>\n",
       "      <td>7.3</td>\n",
       "    </tr>\n",
       "    <tr>\n",
       "      <th>6</th>\n",
       "      <td>ShopaNova.com</td>\n",
       "      <td>2.5</td>\n",
       "    </tr>\n",
       "    <tr>\n",
       "      <th>7</th>\n",
       "      <td>SamCart.io</td>\n",
       "      <td>7.7</td>\n",
       "    </tr>\n",
       "    <tr>\n",
       "      <th>8</th>\n",
       "      <td>billygeneismarketing.com</td>\n",
       "      <td>2.8</td>\n",
       "    </tr>\n",
       "    <tr>\n",
       "      <th>9</th>\n",
       "      <td>Ladyboss.com</td>\n",
       "      <td>7.6</td>\n",
       "    </tr>\n",
       "    <tr>\n",
       "      <th>10</th>\n",
       "      <td>GymLaunch.com</td>\n",
       "      <td>7.8</td>\n",
       "    </tr>\n",
       "    <tr>\n",
       "      <th>11</th>\n",
       "      <td>SmarterNutrition.com</td>\n",
       "      <td>5.0</td>\n",
       "    </tr>\n",
       "    <tr>\n",
       "      <th>12</th>\n",
       "      <td>thedouglasjames.com</td>\n",
       "      <td>7.8</td>\n",
       "    </tr>\n",
       "    <tr>\n",
       "      <th>13</th>\n",
       "      <td>fulltimefilmmaker.com</td>\n",
       "      <td>7.8</td>\n",
       "    </tr>\n",
       "    <tr>\n",
       "      <th>14</th>\n",
       "      <td>webuildbrands UG</td>\n",
       "      <td>7.8</td>\n",
       "    </tr>\n",
       "    <tr>\n",
       "      <th>15</th>\n",
       "      <td>leadgenblueprint.ryanwegner.com</td>\n",
       "      <td>7.8</td>\n",
       "    </tr>\n",
       "    <tr>\n",
       "      <th>16</th>\n",
       "      <td>groovelife.com</td>\n",
       "      <td>5.0</td>\n",
       "    </tr>\n",
       "    <tr>\n",
       "      <th>17</th>\n",
       "      <td>NINEUNIVERSITY.COM</td>\n",
       "      <td>7.8</td>\n",
       "    </tr>\n",
       "    <tr>\n",
       "      <th>18</th>\n",
       "      <td>peterszabo.co</td>\n",
       "      <td>8.2</td>\n",
       "    </tr>\n",
       "    <tr>\n",
       "      <th>19</th>\n",
       "      <td>Current9.com</td>\n",
       "      <td>7.8</td>\n",
       "    </tr>\n",
       "    <tr>\n",
       "      <th>20</th>\n",
       "      <td>rydermedia.com</td>\n",
       "      <td>7.8</td>\n",
       "    </tr>\n",
       "    <tr>\n",
       "      <th>21</th>\n",
       "      <td>prestigepromedia.com</td>\n",
       "      <td>2.8</td>\n",
       "    </tr>\n",
       "    <tr>\n",
       "      <th>22</th>\n",
       "      <td>admagnet.com</td>\n",
       "      <td>7.8</td>\n",
       "    </tr>\n",
       "    <tr>\n",
       "      <th>23</th>\n",
       "      <td>AdSkills.com</td>\n",
       "      <td>1.5</td>\n",
       "    </tr>\n",
       "    <tr>\n",
       "      <th>24</th>\n",
       "      <td>gatestonebpo.com</td>\n",
       "      <td>7.8</td>\n",
       "    </tr>\n",
       "    <tr>\n",
       "      <th>25</th>\n",
       "      <td>heybrain.com</td>\n",
       "      <td>7.3</td>\n",
       "    </tr>\n",
       "    <tr>\n",
       "      <th>26</th>\n",
       "      <td>milliondollarfirms.co</td>\n",
       "      <td>7.8</td>\n",
       "    </tr>\n",
       "    <tr>\n",
       "      <th>27</th>\n",
       "      <td>rankoneecommerce.com</td>\n",
       "      <td>7.8</td>\n",
       "    </tr>\n",
       "    <tr>\n",
       "      <th>28</th>\n",
       "      <td>leadjolt.com</td>\n",
       "      <td>2.8</td>\n",
       "    </tr>\n",
       "    <tr>\n",
       "      <th>29</th>\n",
       "      <td>InclusivleyCreative.com</td>\n",
       "      <td>7.8</td>\n",
       "    </tr>\n",
       "    <tr>\n",
       "      <th>30</th>\n",
       "      <td>neilpatel.com</td>\n",
       "      <td>3.0</td>\n",
       "    </tr>\n",
       "    <tr>\n",
       "      <th>31</th>\n",
       "      <td>ImpedeMedia.com</td>\n",
       "      <td>2.8</td>\n",
       "    </tr>\n",
       "    <tr>\n",
       "      <th>32</th>\n",
       "      <td>JamesMills.co.uk</td>\n",
       "      <td>2.8</td>\n",
       "    </tr>\n",
       "    <tr>\n",
       "      <th>33</th>\n",
       "      <td>exfilproject.com</td>\n",
       "      <td>2.8</td>\n",
       "    </tr>\n",
       "    <tr>\n",
       "      <th>34</th>\n",
       "      <td>seo-hacker.com</td>\n",
       "      <td>2.8</td>\n",
       "    </tr>\n",
       "    <tr>\n",
       "      <th>35</th>\n",
       "      <td>hautehijab.com</td>\n",
       "      <td>5.4</td>\n",
       "    </tr>\n",
       "    <tr>\n",
       "      <th>36</th>\n",
       "      <td>ontraport.com</td>\n",
       "      <td>3.3</td>\n",
       "    </tr>\n",
       "    <tr>\n",
       "      <th>37</th>\n",
       "      <td>launchtitans.com</td>\n",
       "      <td>2.8</td>\n",
       "    </tr>\n",
       "    <tr>\n",
       "      <th>38</th>\n",
       "      <td>eofire.com</td>\n",
       "      <td>2.9</td>\n",
       "    </tr>\n",
       "    <tr>\n",
       "      <th>39</th>\n",
       "      <td>reww.com</td>\n",
       "      <td>2.6</td>\n",
       "    </tr>\n",
       "    <tr>\n",
       "      <th>40</th>\n",
       "      <td>draxe.com</td>\n",
       "      <td>3.2</td>\n",
       "    </tr>\n",
       "    <tr>\n",
       "      <th>41</th>\n",
       "      <td>titansdvds.com</td>\n",
       "      <td>2.8</td>\n",
       "    </tr>\n",
       "    <tr>\n",
       "      <th>42</th>\n",
       "      <td>vitalitymarketingfirm.com</td>\n",
       "      <td>2.8</td>\n",
       "    </tr>\n",
       "    <tr>\n",
       "      <th>43</th>\n",
       "      <td>embertribe.com</td>\n",
       "      <td>3.5</td>\n",
       "    </tr>\n",
       "    <tr>\n",
       "      <th>44</th>\n",
       "      <td>theyoungrens.com</td>\n",
       "      <td>2.8</td>\n",
       "    </tr>\n",
       "    <tr>\n",
       "      <th>45</th>\n",
       "      <td>startupitalia.eu</td>\n",
       "      <td>2.7</td>\n",
       "    </tr>\n",
       "    <tr>\n",
       "      <th>46</th>\n",
       "      <td>womenshealth.com.au</td>\n",
       "      <td>2.6</td>\n",
       "    </tr>\n",
       "    <tr>\n",
       "      <th>47</th>\n",
       "      <td>ThriveCart.com</td>\n",
       "      <td>2.9</td>\n",
       "    </tr>\n",
       "    <tr>\n",
       "      <th>48</th>\n",
       "      <td>warriorplus.com</td>\n",
       "      <td>3.6</td>\n",
       "    </tr>\n",
       "    <tr>\n",
       "      <th>49</th>\n",
       "      <td>legionathletics.com</td>\n",
       "      <td>6.1</td>\n",
       "    </tr>\n",
       "    <tr>\n",
       "      <th>50</th>\n",
       "      <td>biotrust.com</td>\n",
       "      <td>4.8</td>\n",
       "    </tr>\n",
       "    <tr>\n",
       "      <th>51</th>\n",
       "      <td>meetedgar.com</td>\n",
       "      <td>2.8</td>\n",
       "    </tr>\n",
       "    <tr>\n",
       "      <th>52</th>\n",
       "      <td>sephora.com</td>\n",
       "      <td>5.2</td>\n",
       "    </tr>\n",
       "    <tr>\n",
       "      <th>53</th>\n",
       "      <td>bodybuilding.com</td>\n",
       "      <td>5.0</td>\n",
       "    </tr>\n",
       "    <tr>\n",
       "      <th>54</th>\n",
       "      <td>singlegrain.com</td>\n",
       "      <td>2.7</td>\n",
       "    </tr>\n",
       "    <tr>\n",
       "      <th>55</th>\n",
       "      <td>digitalmarketinginstitute.com</td>\n",
       "      <td>2.9</td>\n",
       "    </tr>\n",
       "    <tr>\n",
       "      <th>56</th>\n",
       "      <td>CoSchedule.com</td>\n",
       "      <td>2.5</td>\n",
       "    </tr>\n",
       "    <tr>\n",
       "      <th>57</th>\n",
       "      <td>cleverprogrammer.com</td>\n",
       "      <td>3.5</td>\n",
       "    </tr>\n",
       "    <tr>\n",
       "      <th>58</th>\n",
       "      <td>udemy.com</td>\n",
       "      <td>2.8</td>\n",
       "    </tr>\n",
       "  </tbody>\n",
       "</table>\n",
       "</div>"
      ],
      "text/plain": [
       "                               lead  score\n",
       "0                  clickfunnels.com    8.0\n",
       "1                      kinobody.com    7.7\n",
       "2                     FrankKern.com    7.5\n",
       "3                  ImpactTheory.Com    8.2\n",
       "4     digitalmillionairesecrets.com    8.4\n",
       "5                    mastermind.com    7.3\n",
       "6                     ShopaNova.com    2.5\n",
       "7                        SamCart.io    7.7\n",
       "8          billygeneismarketing.com    2.8\n",
       "9                      Ladyboss.com    7.6\n",
       "10                    GymLaunch.com    7.8\n",
       "11             SmarterNutrition.com    5.0\n",
       "12              thedouglasjames.com    7.8\n",
       "13            fulltimefilmmaker.com    7.8\n",
       "14                 webuildbrands UG    7.8\n",
       "15  leadgenblueprint.ryanwegner.com    7.8\n",
       "16                   groovelife.com    5.0\n",
       "17               NINEUNIVERSITY.COM    7.8\n",
       "18                    peterszabo.co    8.2\n",
       "19                     Current9.com    7.8\n",
       "20                   rydermedia.com    7.8\n",
       "21             prestigepromedia.com    2.8\n",
       "22                     admagnet.com    7.8\n",
       "23                     AdSkills.com    1.5\n",
       "24                 gatestonebpo.com    7.8\n",
       "25                     heybrain.com    7.3\n",
       "26            milliondollarfirms.co    7.8\n",
       "27             rankoneecommerce.com    7.8\n",
       "28                     leadjolt.com    2.8\n",
       "29          InclusivleyCreative.com    7.8\n",
       "30                    neilpatel.com    3.0\n",
       "31                  ImpedeMedia.com    2.8\n",
       "32                 JamesMills.co.uk    2.8\n",
       "33                 exfilproject.com    2.8\n",
       "34                   seo-hacker.com    2.8\n",
       "35                   hautehijab.com    5.4\n",
       "36                    ontraport.com    3.3\n",
       "37                 launchtitans.com    2.8\n",
       "38                       eofire.com    2.9\n",
       "39                         reww.com    2.6\n",
       "40                        draxe.com    3.2\n",
       "41                   titansdvds.com    2.8\n",
       "42        vitalitymarketingfirm.com    2.8\n",
       "43                   embertribe.com    3.5\n",
       "44                 theyoungrens.com    2.8\n",
       "45                 startupitalia.eu    2.7\n",
       "46              womenshealth.com.au    2.6\n",
       "47                   ThriveCart.com    2.9\n",
       "48                  warriorplus.com    3.6\n",
       "49              legionathletics.com    6.1\n",
       "50                     biotrust.com    4.8\n",
       "51                    meetedgar.com    2.8\n",
       "52                      sephora.com    5.2\n",
       "53                 bodybuilding.com    5.0\n",
       "54                  singlegrain.com    2.7\n",
       "55    digitalmarketinginstitute.com    2.9\n",
       "56                   CoSchedule.com    2.5\n",
       "57             cleverprogrammer.com    3.5\n",
       "58                        udemy.com    2.8"
      ]
     },
     "execution_count": 7,
     "metadata": {},
     "output_type": "execute_result"
    }
   ],
   "source": [
    "print('validation results...')\n",
    "scoreLeads(df)"
   ]
  },
  {
   "cell_type": "markdown",
   "metadata": {},
   "source": [
    "# Model 3: combining bayesian infrence for probability, with twitter sentiment and adspend leaks regression model for quality"
   ]
  },
  {
   "cell_type": "markdown",
   "metadata": {},
   "source": [
    "**opportunity score**\n",
    "opportunity score takes adspend, cac (cost of aquisition), and twitter sentiment into account.This is because when all 3 of these are high there is a good opportunity with the lead because it means they are spending a lot on ads and are well recieved by the public this is good because it indicates that they have a good product/service and that Hyros can save them a lot of money on advertising.\n",
    "\n",
    "## include formulas!\n",
    "\n",
    "P(C) = the decision tree's predicted probability for x[i]\n",
    "\n",
    "Z = (x[i]-mu)/sigma\n",
    "\n",
    "net = (cacZ+3) + (adspendZ+3) + (polarity+1)\n",
    "\n",
    "O(C) = net/14\n",
    "\n",
    "Score = O(C)*5 + P(C)*5\n",
    "\n",
    "**probability score**\n",
    "probability score represents the predicted probability that a given lead will convert to a customer. it takes revenue, business model, domain, and business model into account."
   ]
  },
  {
   "cell_type": "code",
   "execution_count": 8,
   "metadata": {},
   "outputs": [],
   "source": [
    "def leadScoringModel(df, old_df=w, margin=0.1, prob_weight=5):\n",
    "    inv = 10-prob_weight\n",
    "    scores = []\n",
    "    mu_cac = np.mean(df['cac'])\n",
    "    mu_adspend = np.mean(df['adspend'])\n",
    "    s_cac = np.std(df['cac'])\n",
    "    s_adspend = np.std(df['adspend'])\n",
    "    for i in range(len(df)):\n",
    "        sample = df.iloc[i]\n",
    "        cac_z = (sample['cac'] - mu_cac)/s_cac\n",
    "        adspend_z = (sample['adspend'] - mu_adspend)/s_adspend\n",
    "        if sample['adspend'] < 15000:\n",
    "            oportunity_score = 0\n",
    "        sentiment = sample['avg_polarity']\n",
    "        domain = old_df.iloc[i]['domain']\n",
    "        model = old_df.iloc[i]['model']\n",
    "        revenue = sample['revenue']\n",
    "        predicted = bayesianInfrence(df, revenue, domain, model, margin=margin)\n",
    "        opportunity_score = round(round(((cac_z+3)+(adspend_z+3)+(sentiment+1))/14, 2)*inv, 1)\n",
    "        try:\n",
    "            probability_score = round(predicted*prob_weight, 1)\n",
    "        except: \n",
    "            probability_score = 2.5\n",
    "        score = opportunity_score + probability_score\n",
    "        scores.append(score)\n",
    "    return pd.DataFrame({'lead': list(old_df['name']), 'score': scores})"
   ]
  },
  {
   "cell_type": "code",
   "execution_count": 9,
   "metadata": {
    "scrolled": true
   },
   "outputs": [
    {
     "data": {
      "text/html": [
       "<div>\n",
       "<style scoped>\n",
       "    .dataframe tbody tr th:only-of-type {\n",
       "        vertical-align: middle;\n",
       "    }\n",
       "\n",
       "    .dataframe tbody tr th {\n",
       "        vertical-align: top;\n",
       "    }\n",
       "\n",
       "    .dataframe thead th {\n",
       "        text-align: right;\n",
       "    }\n",
       "</style>\n",
       "<table border=\"1\" class=\"dataframe\">\n",
       "  <thead>\n",
       "    <tr style=\"text-align: right;\">\n",
       "      <th></th>\n",
       "      <th>lead</th>\n",
       "      <th>score</th>\n",
       "    </tr>\n",
       "  </thead>\n",
       "  <tbody>\n",
       "    <tr>\n",
       "      <th>0</th>\n",
       "      <td>clickfunnels.com</td>\n",
       "      <td>7.3</td>\n",
       "    </tr>\n",
       "    <tr>\n",
       "      <th>1</th>\n",
       "      <td>kinobody.com</td>\n",
       "      <td>7.4</td>\n",
       "    </tr>\n",
       "    <tr>\n",
       "      <th>2</th>\n",
       "      <td>FrankKern.com</td>\n",
       "      <td>7.4</td>\n",
       "    </tr>\n",
       "    <tr>\n",
       "      <th>3</th>\n",
       "      <td>ImpactTheory.Com</td>\n",
       "      <td>7.4</td>\n",
       "    </tr>\n",
       "    <tr>\n",
       "      <th>4</th>\n",
       "      <td>digitalmillionairesecrets.com</td>\n",
       "      <td>7.4</td>\n",
       "    </tr>\n",
       "    <tr>\n",
       "      <th>5</th>\n",
       "      <td>mastermind.com</td>\n",
       "      <td>7.3</td>\n",
       "    </tr>\n",
       "    <tr>\n",
       "      <th>6</th>\n",
       "      <td>ShopaNova.com</td>\n",
       "      <td>5.1</td>\n",
       "    </tr>\n",
       "    <tr>\n",
       "      <th>7</th>\n",
       "      <td>SamCart.io</td>\n",
       "      <td>7.3</td>\n",
       "    </tr>\n",
       "    <tr>\n",
       "      <th>8</th>\n",
       "      <td>billygeneismarketing.com</td>\n",
       "      <td>4.8</td>\n",
       "    </tr>\n",
       "    <tr>\n",
       "      <th>9</th>\n",
       "      <td>Ladyboss.com</td>\n",
       "      <td>7.7</td>\n",
       "    </tr>\n",
       "    <tr>\n",
       "      <th>10</th>\n",
       "      <td>GymLaunch.com</td>\n",
       "      <td>8.2</td>\n",
       "    </tr>\n",
       "    <tr>\n",
       "      <th>11</th>\n",
       "      <td>SmarterNutrition.com</td>\n",
       "      <td>4.8</td>\n",
       "    </tr>\n",
       "    <tr>\n",
       "      <th>12</th>\n",
       "      <td>thedouglasjames.com</td>\n",
       "      <td>7.8</td>\n",
       "    </tr>\n",
       "    <tr>\n",
       "      <th>13</th>\n",
       "      <td>fulltimefilmmaker.com</td>\n",
       "      <td>7.4</td>\n",
       "    </tr>\n",
       "    <tr>\n",
       "      <th>14</th>\n",
       "      <td>webuildbrands UG</td>\n",
       "      <td>7.3</td>\n",
       "    </tr>\n",
       "    <tr>\n",
       "      <th>15</th>\n",
       "      <td>leadgenblueprint.ryanwegner.com</td>\n",
       "      <td>7.3</td>\n",
       "    </tr>\n",
       "    <tr>\n",
       "      <th>16</th>\n",
       "      <td>groovelife.com</td>\n",
       "      <td>5.3</td>\n",
       "    </tr>\n",
       "    <tr>\n",
       "      <th>17</th>\n",
       "      <td>NINEUNIVERSITY.COM</td>\n",
       "      <td>7.6</td>\n",
       "    </tr>\n",
       "    <tr>\n",
       "      <th>18</th>\n",
       "      <td>peterszabo.co</td>\n",
       "      <td>7.8</td>\n",
       "    </tr>\n",
       "    <tr>\n",
       "      <th>19</th>\n",
       "      <td>Current9.com</td>\n",
       "      <td>7.4</td>\n",
       "    </tr>\n",
       "    <tr>\n",
       "      <th>20</th>\n",
       "      <td>rydermedia.com</td>\n",
       "      <td>7.3</td>\n",
       "    </tr>\n",
       "    <tr>\n",
       "      <th>21</th>\n",
       "      <td>prestigepromedia.com</td>\n",
       "      <td>4.8</td>\n",
       "    </tr>\n",
       "    <tr>\n",
       "      <th>22</th>\n",
       "      <td>admagnet.com</td>\n",
       "      <td>7.3</td>\n",
       "    </tr>\n",
       "    <tr>\n",
       "      <th>23</th>\n",
       "      <td>AdSkills.com</td>\n",
       "      <td>4.7</td>\n",
       "    </tr>\n",
       "    <tr>\n",
       "      <th>24</th>\n",
       "      <td>gatestonebpo.com</td>\n",
       "      <td>8.0</td>\n",
       "    </tr>\n",
       "    <tr>\n",
       "      <th>25</th>\n",
       "      <td>heybrain.com</td>\n",
       "      <td>7.3</td>\n",
       "    </tr>\n",
       "    <tr>\n",
       "      <th>26</th>\n",
       "      <td>milliondollarfirms.co</td>\n",
       "      <td>7.6</td>\n",
       "    </tr>\n",
       "    <tr>\n",
       "      <th>27</th>\n",
       "      <td>rankoneecommerce.com</td>\n",
       "      <td>7.5</td>\n",
       "    </tr>\n",
       "    <tr>\n",
       "      <th>28</th>\n",
       "      <td>leadjolt.com</td>\n",
       "      <td>4.0</td>\n",
       "    </tr>\n",
       "    <tr>\n",
       "      <th>29</th>\n",
       "      <td>InclusivleyCreative.com</td>\n",
       "      <td>7.3</td>\n",
       "    </tr>\n",
       "    <tr>\n",
       "      <th>30</th>\n",
       "      <td>neilpatel.com</td>\n",
       "      <td>6.6</td>\n",
       "    </tr>\n",
       "    <tr>\n",
       "      <th>31</th>\n",
       "      <td>ImpedeMedia.com</td>\n",
       "      <td>2.3</td>\n",
       "    </tr>\n",
       "    <tr>\n",
       "      <th>32</th>\n",
       "      <td>JamesMills.co.uk</td>\n",
       "      <td>2.3</td>\n",
       "    </tr>\n",
       "    <tr>\n",
       "      <th>33</th>\n",
       "      <td>exfilproject.com</td>\n",
       "      <td>2.3</td>\n",
       "    </tr>\n",
       "    <tr>\n",
       "      <th>34</th>\n",
       "      <td>seo-hacker.com</td>\n",
       "      <td>4.8</td>\n",
       "    </tr>\n",
       "    <tr>\n",
       "      <th>35</th>\n",
       "      <td>hautehijab.com</td>\n",
       "      <td>4.8</td>\n",
       "    </tr>\n",
       "    <tr>\n",
       "      <th>36</th>\n",
       "      <td>ontraport.com</td>\n",
       "      <td>2.6</td>\n",
       "    </tr>\n",
       "    <tr>\n",
       "      <th>37</th>\n",
       "      <td>launchtitans.com</td>\n",
       "      <td>2.3</td>\n",
       "    </tr>\n",
       "    <tr>\n",
       "      <th>38</th>\n",
       "      <td>eofire.com</td>\n",
       "      <td>4.8</td>\n",
       "    </tr>\n",
       "    <tr>\n",
       "      <th>39</th>\n",
       "      <td>reww.com</td>\n",
       "      <td>3.1</td>\n",
       "    </tr>\n",
       "    <tr>\n",
       "      <th>40</th>\n",
       "      <td>draxe.com</td>\n",
       "      <td>2.7</td>\n",
       "    </tr>\n",
       "    <tr>\n",
       "      <th>41</th>\n",
       "      <td>titansdvds.com</td>\n",
       "      <td>2.3</td>\n",
       "    </tr>\n",
       "    <tr>\n",
       "      <th>42</th>\n",
       "      <td>vitalitymarketingfirm.com</td>\n",
       "      <td>4.8</td>\n",
       "    </tr>\n",
       "    <tr>\n",
       "      <th>43</th>\n",
       "      <td>embertribe.com</td>\n",
       "      <td>2.4</td>\n",
       "    </tr>\n",
       "    <tr>\n",
       "      <th>44</th>\n",
       "      <td>theyoungrens.com</td>\n",
       "      <td>2.4</td>\n",
       "    </tr>\n",
       "    <tr>\n",
       "      <th>45</th>\n",
       "      <td>startupitalia.eu</td>\n",
       "      <td>2.3</td>\n",
       "    </tr>\n",
       "    <tr>\n",
       "      <th>46</th>\n",
       "      <td>womenshealth.com.au</td>\n",
       "      <td>2.3</td>\n",
       "    </tr>\n",
       "    <tr>\n",
       "      <th>47</th>\n",
       "      <td>ThriveCart.com</td>\n",
       "      <td>5.0</td>\n",
       "    </tr>\n",
       "    <tr>\n",
       "      <th>48</th>\n",
       "      <td>warriorplus.com</td>\n",
       "      <td>2.4</td>\n",
       "    </tr>\n",
       "    <tr>\n",
       "      <th>49</th>\n",
       "      <td>legionathletics.com</td>\n",
       "      <td>4.9</td>\n",
       "    </tr>\n",
       "    <tr>\n",
       "      <th>50</th>\n",
       "      <td>biotrust.com</td>\n",
       "      <td>4.9</td>\n",
       "    </tr>\n",
       "    <tr>\n",
       "      <th>51</th>\n",
       "      <td>meetedgar.com</td>\n",
       "      <td>2.3</td>\n",
       "    </tr>\n",
       "    <tr>\n",
       "      <th>52</th>\n",
       "      <td>sephora.com</td>\n",
       "      <td>4.8</td>\n",
       "    </tr>\n",
       "    <tr>\n",
       "      <th>53</th>\n",
       "      <td>bodybuilding.com</td>\n",
       "      <td>5.2</td>\n",
       "    </tr>\n",
       "    <tr>\n",
       "      <th>54</th>\n",
       "      <td>singlegrain.com</td>\n",
       "      <td>4.2</td>\n",
       "    </tr>\n",
       "    <tr>\n",
       "      <th>55</th>\n",
       "      <td>digitalmarketinginstitute.com</td>\n",
       "      <td>2.5</td>\n",
       "    </tr>\n",
       "    <tr>\n",
       "      <th>56</th>\n",
       "      <td>CoSchedule.com</td>\n",
       "      <td>2.3</td>\n",
       "    </tr>\n",
       "    <tr>\n",
       "      <th>57</th>\n",
       "      <td>cleverprogrammer.com</td>\n",
       "      <td>2.6</td>\n",
       "    </tr>\n",
       "    <tr>\n",
       "      <th>58</th>\n",
       "      <td>udemy.com</td>\n",
       "      <td>5.0</td>\n",
       "    </tr>\n",
       "  </tbody>\n",
       "</table>\n",
       "</div>"
      ],
      "text/plain": [
       "                               lead  score\n",
       "0                  clickfunnels.com    7.3\n",
       "1                      kinobody.com    7.4\n",
       "2                     FrankKern.com    7.4\n",
       "3                  ImpactTheory.Com    7.4\n",
       "4     digitalmillionairesecrets.com    7.4\n",
       "5                    mastermind.com    7.3\n",
       "6                     ShopaNova.com    5.1\n",
       "7                        SamCart.io    7.3\n",
       "8          billygeneismarketing.com    4.8\n",
       "9                      Ladyboss.com    7.7\n",
       "10                    GymLaunch.com    8.2\n",
       "11             SmarterNutrition.com    4.8\n",
       "12              thedouglasjames.com    7.8\n",
       "13            fulltimefilmmaker.com    7.4\n",
       "14                 webuildbrands UG    7.3\n",
       "15  leadgenblueprint.ryanwegner.com    7.3\n",
       "16                   groovelife.com    5.3\n",
       "17               NINEUNIVERSITY.COM    7.6\n",
       "18                    peterszabo.co    7.8\n",
       "19                     Current9.com    7.4\n",
       "20                   rydermedia.com    7.3\n",
       "21             prestigepromedia.com    4.8\n",
       "22                     admagnet.com    7.3\n",
       "23                     AdSkills.com    4.7\n",
       "24                 gatestonebpo.com    8.0\n",
       "25                     heybrain.com    7.3\n",
       "26            milliondollarfirms.co    7.6\n",
       "27             rankoneecommerce.com    7.5\n",
       "28                     leadjolt.com    4.0\n",
       "29          InclusivleyCreative.com    7.3\n",
       "30                    neilpatel.com    6.6\n",
       "31                  ImpedeMedia.com    2.3\n",
       "32                 JamesMills.co.uk    2.3\n",
       "33                 exfilproject.com    2.3\n",
       "34                   seo-hacker.com    4.8\n",
       "35                   hautehijab.com    4.8\n",
       "36                    ontraport.com    2.6\n",
       "37                 launchtitans.com    2.3\n",
       "38                       eofire.com    4.8\n",
       "39                         reww.com    3.1\n",
       "40                        draxe.com    2.7\n",
       "41                   titansdvds.com    2.3\n",
       "42        vitalitymarketingfirm.com    4.8\n",
       "43                   embertribe.com    2.4\n",
       "44                 theyoungrens.com    2.4\n",
       "45                 startupitalia.eu    2.3\n",
       "46              womenshealth.com.au    2.3\n",
       "47                   ThriveCart.com    5.0\n",
       "48                  warriorplus.com    2.4\n",
       "49              legionathletics.com    4.9\n",
       "50                     biotrust.com    4.9\n",
       "51                    meetedgar.com    2.3\n",
       "52                      sephora.com    4.8\n",
       "53                 bodybuilding.com    5.2\n",
       "54                  singlegrain.com    4.2\n",
       "55    digitalmarketinginstitute.com    2.5\n",
       "56                   CoSchedule.com    2.3\n",
       "57             cleverprogrammer.com    2.6\n",
       "58                        udemy.com    5.0"
      ]
     },
     "execution_count": 9,
     "metadata": {},
     "output_type": "execute_result"
    }
   ],
   "source": [
    "results = leadScoringModel(df)\n",
    "results"
   ]
  },
  {
   "cell_type": "code",
   "execution_count": 10,
   "metadata": {},
   "outputs": [],
   "source": [
    "def evaluate(results, df, quiet=True):\n",
    "    results['actual'] = df['customer']\n",
    "    correct = 0\n",
    "    tp = 0\n",
    "    fp = 0\n",
    "    tn = 0\n",
    "    fn = 0\n",
    "    for i in range(len(results)):\n",
    "        if int(round(results['score'][i]/10)) == df['customer'][i]:\n",
    "            correct += 1\n",
    "            if df['customer'][i] == 1:\n",
    "                tp += 1\n",
    "            if df['customer'][i] == 0:\n",
    "                tn += 1\n",
    "        else:\n",
    "            if df['customer'][i] == 1:\n",
    "                fn += 1\n",
    "            if df['customer'][i] == 0:\n",
    "                fp += 1\n",
    "    precision = tp / (tp+fp)\n",
    "    recall = tp / (tp+fn)\n",
    "    accuracy = correct/len(results)\n",
    "    if quiet == False:\n",
    "        cm = np.array([[tp, fp], [fn, tn]])\n",
    "        print(sns.heatmap(cm, annot=True, cmap='Blues'))\n",
    "    return ('accuracy: {}, precision: {}, recall: {}'.format(accuracy, precision, recall), cm)"
   ]
  },
  {
   "cell_type": "code",
   "execution_count": 11,
   "metadata": {
    "scrolled": true
   },
   "outputs": [
    {
     "name": "stdout",
     "output_type": "stream",
     "text": [
      "AxesSubplot(0.125,0.125;0.62x0.755)\n",
      "validation results...\n"
     ]
    },
    {
     "data": {
      "text/plain": [
       "'accuracy: 0.8813559322033898, precision: 0.9259259259259259, recall: 0.8333333333333334'"
      ]
     },
     "execution_count": 11,
     "metadata": {},
     "output_type": "execute_result"
    },
    {
     "data": {
      "image/png": "[encoded data removed]",
      "text/plain": [
       "<Figure size 432x288 with 2 Axes>"
      ]
     },
     "metadata": {
      "needs_background": "light"
     },
     "output_type": "display_data"
    }
   ],
   "source": [
    "evaluation, cm= evaluate(results, df, quiet=False)\n",
    "print('validation results...')\n",
    "evaluation"
   ]
  },
  {
   "cell_type": "code",
   "execution_count": 12,
   "metadata": {},
   "outputs": [
    {
     "data": {
      "text/plain": [
       "'cost: $27700 upfront and $5000 each month going forward. benefit: $53200 upfront and $10000 each month going forward.'"
      ]
     },
     "execution_count": 12,
     "metadata": {},
     "output_type": "execute_result"
    }
   ],
   "source": [
    "def cba(cm, action, value):\n",
    "    guess = int(round((sum(cm[0])+sum(cm[1]))/4))\n",
    "    tp = cm[0][0]\n",
    "    fp = cm[0][1]\n",
    "    fn = cm[1][0]\n",
    "    tn = cm[1][1]\n",
    "    cost = action*tp + action*fp + value*fn\n",
    "    benefit = (tp-guess)*value + action*fn + action*tn\n",
    "    return cost, benefit\n",
    "\n",
    "def cbaHyros(cm, upfront=5000, monthly=1000, action=100, quiet=False):\n",
    "    upfront_cost, upfront_benefit = cba(cm, action, upfront)\n",
    "    monthly_cost, monthly_benefit = cba(cm, 0, monthly)\n",
    "    if quiet==False:\n",
    "        return '''cost: ${} upfront and ${} each month going forward. benefit: ${} upfront and ${} each month going forward.'''.format(upfront_cost, monthly_cost, upfront_benefit, monthly_benefit)\n",
    "    else:\n",
    "        return upfront_cost, monthly_cost, upfront_benefit, monthly_benefit\n",
    "\n",
    "cbaHyros(cm)"
   ]
  },
  {
   "cell_type": "markdown",
   "metadata": {},
   "source": [
    "# Taking Sales into account\n",
    "\n",
    "After exchanging messages on LinkedIn with a sales rep at a competing company, that's also an ad tracking software, I found out that the number of sales a prospect makes each month is an important factor when assesing a prospect. For this reason I have decided to look into monthly sales within my dataset. In the plot below I compared the distributions of monthly sales between customers and non-customers and saw that customers have less variance in sales than non-customers. For this reason I will measure sales by taking the absolute z-score of the monthly sales for each lead rather than the actual number. That way higher values will alaways be associated with non-customers and vice versa."
   ]
  },
  {
   "cell_type": "code",
   "execution_count": 13,
   "metadata": {
    "scrolled": true
   },
   "outputs": [
    {
     "data": {
      "image/png": "[encoded data removed]",
      "text/plain": [
       "<Figure size 432x288 with 1 Axes>"
      ]
     },
     "metadata": {
      "needs_background": "light"
     },
     "output_type": "display_data"
    }
   ],
   "source": [
    "customers = list(df.loc[df['customer']==1]['sales'])\n",
    "non_customers = list(df.loc[df['customer']==0]['sales'])\n",
    "sns.kdeplot(x=customers, label='customer')\n",
    "sns.kdeplot(x=non_customers, label='non-customer')\n",
    "plt.legend()\n",
    "plt.show()"
   ]
  },
  {
   "cell_type": "code",
   "execution_count": 14,
   "metadata": {},
   "outputs": [],
   "source": [
    "mu_sales = np.mean(df['sales'])\n",
    "sigma_sales = np.std(df['sales'])\n",
    "df['salesScore'] = df['sales'].apply(lambda x: abs((x-mu_sales)/sigma_sales))"
   ]
  },
  {
   "cell_type": "markdown",
   "metadata": {},
   "source": [
    "## a small problem\n",
    "\n",
    "Our dataset is very small even adding one more condition, sales score, would create a situation where the model wouldn't have enough data to make predictions. for this reason I will try using the GaussianNB model from sklearn to predict the probabilities instead of my bayesian infrence model."
   ]
  },
  {
   "cell_type": "code",
   "execution_count": 15,
   "metadata": {},
   "outputs": [
    {
     "data": {
      "text/plain": [
       "((59, 31), (59,))"
      ]
     },
     "execution_count": 15,
     "metadata": {},
     "output_type": "execute_result"
    }
   ],
   "source": [
    "important = ['revenue', 'salesScore']\n",
    "selected = important+domains+models+platforms\n",
    "X = df[selected]\n",
    "y = df['customer']\n",
    "X.shape, y.shape"
   ]
  },
  {
   "cell_type": "code",
   "execution_count": 16,
   "metadata": {},
   "outputs": [
    {
     "data": {
      "text/plain": [
       "0.5423728813559322"
      ]
     },
     "execution_count": 16,
     "metadata": {},
     "output_type": "execute_result"
    }
   ],
   "source": [
    "model = GaussianNB().fit(X, y)\n",
    "model.score(X, y)"
   ]
  },
  {
   "cell_type": "code",
   "execution_count": 17,
   "metadata": {},
   "outputs": [
    {
     "data": {
      "text/plain": [
       "<sklearn.metrics._plot.confusion_matrix.ConfusionMatrixDisplay at 0x21ea2d05640>"
      ]
     },
     "execution_count": 17,
     "metadata": {},
     "output_type": "execute_result"
    },
    {
     "data": {
      "image/png": "[encoded data removed]",
      "text/plain": [
       "<Figure size 432x288 with 2 Axes>"
      ]
     },
     "metadata": {
      "needs_background": "light"
     },
     "output_type": "display_data"
    }
   ],
   "source": [
    "from sklearn.metrics import plot_confusion_matrix\n",
    "\n",
    "plot_confusion_matrix(model, X, y)"
   ]
  },
  {
   "cell_type": "markdown",
   "metadata": {},
   "source": [
    "Looks pretty bad, however I will combine these outputs with the opportunity score and see what happens."
   ]
  },
  {
   "cell_type": "code",
   "execution_count": 18,
   "metadata": {},
   "outputs": [],
   "source": [
    "def leadScoringModel2(model, x, y, old_df=w, margin=0.1, prob_weight=5):\n",
    "    model.fit(x, y)\n",
    "    predicted = model.predict(x)\n",
    "    inv = 10-prob_weight\n",
    "    scores = []\n",
    "    mu_cac = np.mean(df['cac'])\n",
    "    mu_adspend = np.mean(df['adspend'])\n",
    "    s_cac = np.std(df['cac'])\n",
    "    s_adspend = np.std(df['adspend'])\n",
    "    for i in range(len(x)):\n",
    "        sample = old_df.iloc[i]\n",
    "        cac_z = (sample['cac'] - mu_cac)/s_cac\n",
    "        adspend_z = (sample['adspend'] - mu_adspend)/s_adspend\n",
    "        if sample['adspend'] < 15000:\n",
    "            oportunity_score = 0\n",
    "        sentiment = sample['avg_polarity']\n",
    "        opportunity_score = round(round(((cac_z+3)+(adspend_z+3)+(sentiment+1))/14, 2)*inv, 1)\n",
    "        probability_score = round(predicted[i]*prob_weight, 1)\n",
    "        score = opportunity_score + probability_score\n",
    "        scores.append(score)\n",
    "    return pd.DataFrame({'lead': list(old_df['name']), 'score': scores})"
   ]
  },
  {
   "cell_type": "code",
   "execution_count": 19,
   "metadata": {},
   "outputs": [
    {
     "data": {
      "text/html": [
       "<div>\n",
       "<style scoped>\n",
       "    .dataframe tbody tr th:only-of-type {\n",
       "        vertical-align: middle;\n",
       "    }\n",
       "\n",
       "    .dataframe tbody tr th {\n",
       "        vertical-align: top;\n",
       "    }\n",
       "\n",
       "    .dataframe thead th {\n",
       "        text-align: right;\n",
       "    }\n",
       "</style>\n",
       "<table border=\"1\" class=\"dataframe\">\n",
       "  <thead>\n",
       "    <tr style=\"text-align: right;\">\n",
       "      <th></th>\n",
       "      <th>lead</th>\n",
       "      <th>score</th>\n",
       "    </tr>\n",
       "  </thead>\n",
       "  <tbody>\n",
       "    <tr>\n",
       "      <th>0</th>\n",
       "      <td>clickfunnels.com</td>\n",
       "      <td>7.3</td>\n",
       "    </tr>\n",
       "    <tr>\n",
       "      <th>1</th>\n",
       "      <td>kinobody.com</td>\n",
       "      <td>7.4</td>\n",
       "    </tr>\n",
       "    <tr>\n",
       "      <th>2</th>\n",
       "      <td>FrankKern.com</td>\n",
       "      <td>7.4</td>\n",
       "    </tr>\n",
       "    <tr>\n",
       "      <th>3</th>\n",
       "      <td>ImpactTheory.Com</td>\n",
       "      <td>7.4</td>\n",
       "    </tr>\n",
       "    <tr>\n",
       "      <th>4</th>\n",
       "      <td>digitalmillionairesecrets.com</td>\n",
       "      <td>7.4</td>\n",
       "    </tr>\n",
       "    <tr>\n",
       "      <th>5</th>\n",
       "      <td>mastermind.com</td>\n",
       "      <td>7.3</td>\n",
       "    </tr>\n",
       "    <tr>\n",
       "      <th>6</th>\n",
       "      <td>ShopaNova.com</td>\n",
       "      <td>7.6</td>\n",
       "    </tr>\n",
       "    <tr>\n",
       "      <th>7</th>\n",
       "      <td>SamCart.io</td>\n",
       "      <td>7.3</td>\n",
       "    </tr>\n",
       "    <tr>\n",
       "      <th>8</th>\n",
       "      <td>billygeneismarketing.com</td>\n",
       "      <td>7.3</td>\n",
       "    </tr>\n",
       "    <tr>\n",
       "      <th>9</th>\n",
       "      <td>Ladyboss.com</td>\n",
       "      <td>7.7</td>\n",
       "    </tr>\n",
       "    <tr>\n",
       "      <th>10</th>\n",
       "      <td>GymLaunch.com</td>\n",
       "      <td>8.2</td>\n",
       "    </tr>\n",
       "    <tr>\n",
       "      <th>11</th>\n",
       "      <td>SmarterNutrition.com</td>\n",
       "      <td>7.3</td>\n",
       "    </tr>\n",
       "    <tr>\n",
       "      <th>12</th>\n",
       "      <td>thedouglasjames.com</td>\n",
       "      <td>7.8</td>\n",
       "    </tr>\n",
       "    <tr>\n",
       "      <th>13</th>\n",
       "      <td>fulltimefilmmaker.com</td>\n",
       "      <td>7.4</td>\n",
       "    </tr>\n",
       "    <tr>\n",
       "      <th>14</th>\n",
       "      <td>webuildbrands UG</td>\n",
       "      <td>7.3</td>\n",
       "    </tr>\n",
       "    <tr>\n",
       "      <th>15</th>\n",
       "      <td>leadgenblueprint.ryanwegner.com</td>\n",
       "      <td>7.3</td>\n",
       "    </tr>\n",
       "    <tr>\n",
       "      <th>16</th>\n",
       "      <td>groovelife.com</td>\n",
       "      <td>7.8</td>\n",
       "    </tr>\n",
       "    <tr>\n",
       "      <th>17</th>\n",
       "      <td>NINEUNIVERSITY.COM</td>\n",
       "      <td>7.6</td>\n",
       "    </tr>\n",
       "    <tr>\n",
       "      <th>18</th>\n",
       "      <td>peterszabo.co</td>\n",
       "      <td>7.8</td>\n",
       "    </tr>\n",
       "    <tr>\n",
       "      <th>19</th>\n",
       "      <td>Current9.com</td>\n",
       "      <td>7.4</td>\n",
       "    </tr>\n",
       "    <tr>\n",
       "      <th>20</th>\n",
       "      <td>rydermedia.com</td>\n",
       "      <td>7.3</td>\n",
       "    </tr>\n",
       "    <tr>\n",
       "      <th>21</th>\n",
       "      <td>prestigepromedia.com</td>\n",
       "      <td>7.3</td>\n",
       "    </tr>\n",
       "    <tr>\n",
       "      <th>22</th>\n",
       "      <td>admagnet.com</td>\n",
       "      <td>7.3</td>\n",
       "    </tr>\n",
       "    <tr>\n",
       "      <th>23</th>\n",
       "      <td>AdSkills.com</td>\n",
       "      <td>7.2</td>\n",
       "    </tr>\n",
       "    <tr>\n",
       "      <th>24</th>\n",
       "      <td>gatestonebpo.com</td>\n",
       "      <td>3.0</td>\n",
       "    </tr>\n",
       "    <tr>\n",
       "      <th>25</th>\n",
       "      <td>heybrain.com</td>\n",
       "      <td>7.3</td>\n",
       "    </tr>\n",
       "    <tr>\n",
       "      <th>26</th>\n",
       "      <td>milliondollarfirms.co</td>\n",
       "      <td>7.6</td>\n",
       "    </tr>\n",
       "    <tr>\n",
       "      <th>27</th>\n",
       "      <td>rankoneecommerce.com</td>\n",
       "      <td>7.5</td>\n",
       "    </tr>\n",
       "    <tr>\n",
       "      <th>28</th>\n",
       "      <td>leadjolt.com</td>\n",
       "      <td>7.3</td>\n",
       "    </tr>\n",
       "    <tr>\n",
       "      <th>29</th>\n",
       "      <td>InclusivleyCreative.com</td>\n",
       "      <td>7.3</td>\n",
       "    </tr>\n",
       "    <tr>\n",
       "      <th>30</th>\n",
       "      <td>neilpatel.com</td>\n",
       "      <td>9.9</td>\n",
       "    </tr>\n",
       "    <tr>\n",
       "      <th>31</th>\n",
       "      <td>ImpedeMedia.com</td>\n",
       "      <td>7.3</td>\n",
       "    </tr>\n",
       "    <tr>\n",
       "      <th>32</th>\n",
       "      <td>JamesMills.co.uk</td>\n",
       "      <td>7.3</td>\n",
       "    </tr>\n",
       "    <tr>\n",
       "      <th>33</th>\n",
       "      <td>exfilproject.com</td>\n",
       "      <td>7.3</td>\n",
       "    </tr>\n",
       "    <tr>\n",
       "      <th>34</th>\n",
       "      <td>seo-hacker.com</td>\n",
       "      <td>7.3</td>\n",
       "    </tr>\n",
       "    <tr>\n",
       "      <th>35</th>\n",
       "      <td>hautehijab.com</td>\n",
       "      <td>7.3</td>\n",
       "    </tr>\n",
       "    <tr>\n",
       "      <th>36</th>\n",
       "      <td>ontraport.com</td>\n",
       "      <td>2.6</td>\n",
       "    </tr>\n",
       "    <tr>\n",
       "      <th>37</th>\n",
       "      <td>launchtitans.com</td>\n",
       "      <td>7.3</td>\n",
       "    </tr>\n",
       "    <tr>\n",
       "      <th>38</th>\n",
       "      <td>eofire.com</td>\n",
       "      <td>7.3</td>\n",
       "    </tr>\n",
       "    <tr>\n",
       "      <th>39</th>\n",
       "      <td>reww.com</td>\n",
       "      <td>8.1</td>\n",
       "    </tr>\n",
       "    <tr>\n",
       "      <th>40</th>\n",
       "      <td>draxe.com</td>\n",
       "      <td>7.7</td>\n",
       "    </tr>\n",
       "    <tr>\n",
       "      <th>41</th>\n",
       "      <td>titansdvds.com</td>\n",
       "      <td>7.3</td>\n",
       "    </tr>\n",
       "    <tr>\n",
       "      <th>42</th>\n",
       "      <td>vitalitymarketingfirm.com</td>\n",
       "      <td>7.3</td>\n",
       "    </tr>\n",
       "    <tr>\n",
       "      <th>43</th>\n",
       "      <td>embertribe.com</td>\n",
       "      <td>7.4</td>\n",
       "    </tr>\n",
       "    <tr>\n",
       "      <th>44</th>\n",
       "      <td>theyoungrens.com</td>\n",
       "      <td>7.4</td>\n",
       "    </tr>\n",
       "    <tr>\n",
       "      <th>45</th>\n",
       "      <td>startupitalia.eu</td>\n",
       "      <td>7.3</td>\n",
       "    </tr>\n",
       "    <tr>\n",
       "      <th>46</th>\n",
       "      <td>womenshealth.com.au</td>\n",
       "      <td>7.3</td>\n",
       "    </tr>\n",
       "    <tr>\n",
       "      <th>47</th>\n",
       "      <td>ThriveCart.com</td>\n",
       "      <td>7.5</td>\n",
       "    </tr>\n",
       "    <tr>\n",
       "      <th>48</th>\n",
       "      <td>warriorplus.com</td>\n",
       "      <td>7.4</td>\n",
       "    </tr>\n",
       "    <tr>\n",
       "      <th>49</th>\n",
       "      <td>legionathletics.com</td>\n",
       "      <td>7.4</td>\n",
       "    </tr>\n",
       "    <tr>\n",
       "      <th>50</th>\n",
       "      <td>biotrust.com</td>\n",
       "      <td>7.4</td>\n",
       "    </tr>\n",
       "    <tr>\n",
       "      <th>51</th>\n",
       "      <td>meetedgar.com</td>\n",
       "      <td>7.3</td>\n",
       "    </tr>\n",
       "    <tr>\n",
       "      <th>52</th>\n",
       "      <td>sephora.com</td>\n",
       "      <td>7.3</td>\n",
       "    </tr>\n",
       "    <tr>\n",
       "      <th>53</th>\n",
       "      <td>bodybuilding.com</td>\n",
       "      <td>2.7</td>\n",
       "    </tr>\n",
       "    <tr>\n",
       "      <th>54</th>\n",
       "      <td>singlegrain.com</td>\n",
       "      <td>7.5</td>\n",
       "    </tr>\n",
       "    <tr>\n",
       "      <th>55</th>\n",
       "      <td>digitalmarketinginstitute.com</td>\n",
       "      <td>7.5</td>\n",
       "    </tr>\n",
       "    <tr>\n",
       "      <th>56</th>\n",
       "      <td>CoSchedule.com</td>\n",
       "      <td>7.3</td>\n",
       "    </tr>\n",
       "    <tr>\n",
       "      <th>57</th>\n",
       "      <td>cleverprogrammer.com</td>\n",
       "      <td>7.6</td>\n",
       "    </tr>\n",
       "    <tr>\n",
       "      <th>58</th>\n",
       "      <td>udemy.com</td>\n",
       "      <td>5.0</td>\n",
       "    </tr>\n",
       "  </tbody>\n",
       "</table>\n",
       "</div>"
      ],
      "text/plain": [
       "                               lead  score\n",
       "0                  clickfunnels.com    7.3\n",
       "1                      kinobody.com    7.4\n",
       "2                     FrankKern.com    7.4\n",
       "3                  ImpactTheory.Com    7.4\n",
       "4     digitalmillionairesecrets.com    7.4\n",
       "5                    mastermind.com    7.3\n",
       "6                     ShopaNova.com    7.6\n",
       "7                        SamCart.io    7.3\n",
       "8          billygeneismarketing.com    7.3\n",
       "9                      Ladyboss.com    7.7\n",
       "10                    GymLaunch.com    8.2\n",
       "11             SmarterNutrition.com    7.3\n",
       "12              thedouglasjames.com    7.8\n",
       "13            fulltimefilmmaker.com    7.4\n",
       "14                 webuildbrands UG    7.3\n",
       "15  leadgenblueprint.ryanwegner.com    7.3\n",
       "16                   groovelife.com    7.8\n",
       "17               NINEUNIVERSITY.COM    7.6\n",
       "18                    peterszabo.co    7.8\n",
       "19                     Current9.com    7.4\n",
       "20                   rydermedia.com    7.3\n",
       "21             prestigepromedia.com    7.3\n",
       "22                     admagnet.com    7.3\n",
       "23                     AdSkills.com    7.2\n",
       "24                 gatestonebpo.com    3.0\n",
       "25                     heybrain.com    7.3\n",
       "26            milliondollarfirms.co    7.6\n",
       "27             rankoneecommerce.com    7.5\n",
       "28                     leadjolt.com    7.3\n",
       "29          InclusivleyCreative.com    7.3\n",
       "30                    neilpatel.com    9.9\n",
       "31                  ImpedeMedia.com    7.3\n",
       "32                 JamesMills.co.uk    7.3\n",
       "33                 exfilproject.com    7.3\n",
       "34                   seo-hacker.com    7.3\n",
       "35                   hautehijab.com    7.3\n",
       "36                    ontraport.com    2.6\n",
       "37                 launchtitans.com    7.3\n",
       "38                       eofire.com    7.3\n",
       "39                         reww.com    8.1\n",
       "40                        draxe.com    7.7\n",
       "41                   titansdvds.com    7.3\n",
       "42        vitalitymarketingfirm.com    7.3\n",
       "43                   embertribe.com    7.4\n",
       "44                 theyoungrens.com    7.4\n",
       "45                 startupitalia.eu    7.3\n",
       "46              womenshealth.com.au    7.3\n",
       "47                   ThriveCart.com    7.5\n",
       "48                  warriorplus.com    7.4\n",
       "49              legionathletics.com    7.4\n",
       "50                     biotrust.com    7.4\n",
       "51                    meetedgar.com    7.3\n",
       "52                      sephora.com    7.3\n",
       "53                 bodybuilding.com    2.7\n",
       "54                  singlegrain.com    7.5\n",
       "55    digitalmarketinginstitute.com    7.5\n",
       "56                   CoSchedule.com    7.3\n",
       "57             cleverprogrammer.com    7.6\n",
       "58                        udemy.com    5.0"
      ]
     },
     "execution_count": 19,
     "metadata": {},
     "output_type": "execute_result"
    }
   ],
   "source": [
    "results_nb = leadScoringModel2(model, X, y)\n",
    "results_nb"
   ]
  },
  {
   "cell_type": "code",
   "execution_count": 20,
   "metadata": {},
   "outputs": [
    {
     "name": "stdout",
     "output_type": "stream",
     "text": [
      "AxesSubplot(0.125,0.125;0.62x0.755)\n",
      "accuracy: 0.5423728813559322, precision: 0.5272727272727272, recall: 0.9666666666666667\n"
     ]
    },
    {
     "data": {
      "image/png": "[encoded data removed]",
      "text/plain": [
       "<Figure size 432x288 with 2 Axes>"
      ]
     },
     "metadata": {
      "needs_background": "light"
     },
     "output_type": "display_data"
    }
   ],
   "source": [
    "_, cm3 = evaluate(results_nb, df, quiet=False)\n",
    "print(_)"
   ]
  },
  {
   "cell_type": "code",
   "execution_count": 21,
   "metadata": {},
   "outputs": [
    {
     "data": {
      "text/plain": [
       "'cost: $5515 upfront and $1000 each month going forward. benefit: $610 upfront and $14000 each month going forward.'"
      ]
     },
     "execution_count": 21,
     "metadata": {},
     "output_type": "execute_result"
    }
   ],
   "source": [
    "cbaHyros(cm3, 15) #[tp, fp], [fn, tn]"
   ]
  },
  {
   "cell_type": "markdown",
   "metadata": {},
   "source": [
    "The model is good at identifying true positives but sucks at identifying true negatives when combined with opportunity score. The model has the poopsite problem by itself, sucks at identifying true positives."
   ]
  },
  {
   "cell_type": "markdown",
   "metadata": {},
   "source": [
    "## trying a naive bayes model with all 56 or so features\n",
    "\n",
    "I don't think blindly feeding all the data into a model is the way to go. That being said I am still very curious to see what would happen if I did."
   ]
  },
  {
   "cell_type": "code",
   "execution_count": 22,
   "metadata": {},
   "outputs": [],
   "source": [
    "def rapidTesting(model, df, target, old_df=w, margin=0.1, prob_weight=5, guess=15):\n",
    "    x = df.drop([target], axis='columns')\n",
    "    y = df[target]\n",
    "    results = leadScoringModel2(model, x, y, old_df, margin, prob_weight)\n",
    "    _, cm = evaluate(results, df, quiet=False)\n",
    "    print(_, cm)\n",
    "    print(cbaHyros(cm))\n",
    "    return results"
   ]
  },
  {
   "cell_type": "code",
   "execution_count": 23,
   "metadata": {},
   "outputs": [
    {
     "name": "stdout",
     "output_type": "stream",
     "text": [
      "AxesSubplot(0.125,0.125;0.62x0.755)\n",
      "accuracy: 0.6101694915254238, precision: 0.5686274509803921, recall: 0.9666666666666667 [[29 22]\n",
      " [ 1  7]]\n",
      "cost: $10100 upfront and $1000 each month going forward. benefit: $70800 upfront and $14000 each month going forward.\n"
     ]
    },
    {
     "data": {
      "text/html": [
       "<div>\n",
       "<style scoped>\n",
       "    .dataframe tbody tr th:only-of-type {\n",
       "        vertical-align: middle;\n",
       "    }\n",
       "\n",
       "    .dataframe tbody tr th {\n",
       "        vertical-align: top;\n",
       "    }\n",
       "\n",
       "    .dataframe thead th {\n",
       "        text-align: right;\n",
       "    }\n",
       "</style>\n",
       "<table border=\"1\" class=\"dataframe\">\n",
       "  <thead>\n",
       "    <tr style=\"text-align: right;\">\n",
       "      <th></th>\n",
       "      <th>lead</th>\n",
       "      <th>score</th>\n",
       "      <th>actual</th>\n",
       "    </tr>\n",
       "  </thead>\n",
       "  <tbody>\n",
       "    <tr>\n",
       "      <th>0</th>\n",
       "      <td>clickfunnels.com</td>\n",
       "      <td>2.3</td>\n",
       "      <td>1</td>\n",
       "    </tr>\n",
       "    <tr>\n",
       "      <th>1</th>\n",
       "      <td>kinobody.com</td>\n",
       "      <td>7.4</td>\n",
       "      <td>1</td>\n",
       "    </tr>\n",
       "    <tr>\n",
       "      <th>2</th>\n",
       "      <td>FrankKern.com</td>\n",
       "      <td>7.4</td>\n",
       "      <td>1</td>\n",
       "    </tr>\n",
       "    <tr>\n",
       "      <th>3</th>\n",
       "      <td>ImpactTheory.Com</td>\n",
       "      <td>7.4</td>\n",
       "      <td>1</td>\n",
       "    </tr>\n",
       "    <tr>\n",
       "      <th>4</th>\n",
       "      <td>digitalmillionairesecrets.com</td>\n",
       "      <td>7.4</td>\n",
       "      <td>1</td>\n",
       "    </tr>\n",
       "    <tr>\n",
       "      <th>5</th>\n",
       "      <td>mastermind.com</td>\n",
       "      <td>7.3</td>\n",
       "      <td>1</td>\n",
       "    </tr>\n",
       "    <tr>\n",
       "      <th>6</th>\n",
       "      <td>ShopaNova.com</td>\n",
       "      <td>7.6</td>\n",
       "      <td>1</td>\n",
       "    </tr>\n",
       "    <tr>\n",
       "      <th>7</th>\n",
       "      <td>SamCart.io</td>\n",
       "      <td>7.3</td>\n",
       "      <td>1</td>\n",
       "    </tr>\n",
       "    <tr>\n",
       "      <th>8</th>\n",
       "      <td>billygeneismarketing.com</td>\n",
       "      <td>7.3</td>\n",
       "      <td>1</td>\n",
       "    </tr>\n",
       "    <tr>\n",
       "      <th>9</th>\n",
       "      <td>Ladyboss.com</td>\n",
       "      <td>7.7</td>\n",
       "      <td>1</td>\n",
       "    </tr>\n",
       "    <tr>\n",
       "      <th>10</th>\n",
       "      <td>GymLaunch.com</td>\n",
       "      <td>8.2</td>\n",
       "      <td>1</td>\n",
       "    </tr>\n",
       "    <tr>\n",
       "      <th>11</th>\n",
       "      <td>SmarterNutrition.com</td>\n",
       "      <td>7.3</td>\n",
       "      <td>1</td>\n",
       "    </tr>\n",
       "    <tr>\n",
       "      <th>12</th>\n",
       "      <td>thedouglasjames.com</td>\n",
       "      <td>7.8</td>\n",
       "      <td>1</td>\n",
       "    </tr>\n",
       "    <tr>\n",
       "      <th>13</th>\n",
       "      <td>fulltimefilmmaker.com</td>\n",
       "      <td>7.4</td>\n",
       "      <td>1</td>\n",
       "    </tr>\n",
       "    <tr>\n",
       "      <th>14</th>\n",
       "      <td>webuildbrands UG</td>\n",
       "      <td>7.3</td>\n",
       "      <td>1</td>\n",
       "    </tr>\n",
       "    <tr>\n",
       "      <th>15</th>\n",
       "      <td>leadgenblueprint.ryanwegner.com</td>\n",
       "      <td>7.3</td>\n",
       "      <td>1</td>\n",
       "    </tr>\n",
       "    <tr>\n",
       "      <th>16</th>\n",
       "      <td>groovelife.com</td>\n",
       "      <td>7.8</td>\n",
       "      <td>1</td>\n",
       "    </tr>\n",
       "    <tr>\n",
       "      <th>17</th>\n",
       "      <td>NINEUNIVERSITY.COM</td>\n",
       "      <td>7.6</td>\n",
       "      <td>1</td>\n",
       "    </tr>\n",
       "    <tr>\n",
       "      <th>18</th>\n",
       "      <td>peterszabo.co</td>\n",
       "      <td>7.8</td>\n",
       "      <td>1</td>\n",
       "    </tr>\n",
       "    <tr>\n",
       "      <th>19</th>\n",
       "      <td>Current9.com</td>\n",
       "      <td>7.4</td>\n",
       "      <td>1</td>\n",
       "    </tr>\n",
       "    <tr>\n",
       "      <th>20</th>\n",
       "      <td>rydermedia.com</td>\n",
       "      <td>7.3</td>\n",
       "      <td>1</td>\n",
       "    </tr>\n",
       "    <tr>\n",
       "      <th>21</th>\n",
       "      <td>prestigepromedia.com</td>\n",
       "      <td>7.3</td>\n",
       "      <td>1</td>\n",
       "    </tr>\n",
       "    <tr>\n",
       "      <th>22</th>\n",
       "      <td>admagnet.com</td>\n",
       "      <td>7.3</td>\n",
       "      <td>1</td>\n",
       "    </tr>\n",
       "    <tr>\n",
       "      <th>23</th>\n",
       "      <td>AdSkills.com</td>\n",
       "      <td>7.2</td>\n",
       "      <td>1</td>\n",
       "    </tr>\n",
       "    <tr>\n",
       "      <th>24</th>\n",
       "      <td>gatestonebpo.com</td>\n",
       "      <td>8.0</td>\n",
       "      <td>1</td>\n",
       "    </tr>\n",
       "    <tr>\n",
       "      <th>25</th>\n",
       "      <td>heybrain.com</td>\n",
       "      <td>7.3</td>\n",
       "      <td>1</td>\n",
       "    </tr>\n",
       "    <tr>\n",
       "      <th>26</th>\n",
       "      <td>milliondollarfirms.co</td>\n",
       "      <td>7.6</td>\n",
       "      <td>1</td>\n",
       "    </tr>\n",
       "    <tr>\n",
       "      <th>27</th>\n",
       "      <td>rankoneecommerce.com</td>\n",
       "      <td>7.5</td>\n",
       "      <td>1</td>\n",
       "    </tr>\n",
       "    <tr>\n",
       "      <th>28</th>\n",
       "      <td>leadjolt.com</td>\n",
       "      <td>7.3</td>\n",
       "      <td>1</td>\n",
       "    </tr>\n",
       "    <tr>\n",
       "      <th>29</th>\n",
       "      <td>InclusivleyCreative.com</td>\n",
       "      <td>7.3</td>\n",
       "      <td>1</td>\n",
       "    </tr>\n",
       "    <tr>\n",
       "      <th>30</th>\n",
       "      <td>neilpatel.com</td>\n",
       "      <td>4.9</td>\n",
       "      <td>0</td>\n",
       "    </tr>\n",
       "    <tr>\n",
       "      <th>31</th>\n",
       "      <td>ImpedeMedia.com</td>\n",
       "      <td>7.3</td>\n",
       "      <td>0</td>\n",
       "    </tr>\n",
       "    <tr>\n",
       "      <th>32</th>\n",
       "      <td>JamesMills.co.uk</td>\n",
       "      <td>7.3</td>\n",
       "      <td>0</td>\n",
       "    </tr>\n",
       "    <tr>\n",
       "      <th>33</th>\n",
       "      <td>exfilproject.com</td>\n",
       "      <td>7.3</td>\n",
       "      <td>0</td>\n",
       "    </tr>\n",
       "    <tr>\n",
       "      <th>34</th>\n",
       "      <td>seo-hacker.com</td>\n",
       "      <td>7.3</td>\n",
       "      <td>0</td>\n",
       "    </tr>\n",
       "    <tr>\n",
       "      <th>35</th>\n",
       "      <td>hautehijab.com</td>\n",
       "      <td>7.3</td>\n",
       "      <td>0</td>\n",
       "    </tr>\n",
       "    <tr>\n",
       "      <th>36</th>\n",
       "      <td>ontraport.com</td>\n",
       "      <td>2.6</td>\n",
       "      <td>0</td>\n",
       "    </tr>\n",
       "    <tr>\n",
       "      <th>37</th>\n",
       "      <td>launchtitans.com</td>\n",
       "      <td>2.3</td>\n",
       "      <td>0</td>\n",
       "    </tr>\n",
       "    <tr>\n",
       "      <th>38</th>\n",
       "      <td>eofire.com</td>\n",
       "      <td>7.3</td>\n",
       "      <td>0</td>\n",
       "    </tr>\n",
       "    <tr>\n",
       "      <th>39</th>\n",
       "      <td>reww.com</td>\n",
       "      <td>8.1</td>\n",
       "      <td>0</td>\n",
       "    </tr>\n",
       "    <tr>\n",
       "      <th>40</th>\n",
       "      <td>draxe.com</td>\n",
       "      <td>2.7</td>\n",
       "      <td>0</td>\n",
       "    </tr>\n",
       "    <tr>\n",
       "      <th>41</th>\n",
       "      <td>titansdvds.com</td>\n",
       "      <td>7.3</td>\n",
       "      <td>0</td>\n",
       "    </tr>\n",
       "    <tr>\n",
       "      <th>42</th>\n",
       "      <td>vitalitymarketingfirm.com</td>\n",
       "      <td>7.3</td>\n",
       "      <td>0</td>\n",
       "    </tr>\n",
       "    <tr>\n",
       "      <th>43</th>\n",
       "      <td>embertribe.com</td>\n",
       "      <td>7.4</td>\n",
       "      <td>0</td>\n",
       "    </tr>\n",
       "    <tr>\n",
       "      <th>44</th>\n",
       "      <td>theyoungrens.com</td>\n",
       "      <td>7.4</td>\n",
       "      <td>0</td>\n",
       "    </tr>\n",
       "    <tr>\n",
       "      <th>45</th>\n",
       "      <td>startupitalia.eu</td>\n",
       "      <td>7.3</td>\n",
       "      <td>0</td>\n",
       "    </tr>\n",
       "    <tr>\n",
       "      <th>46</th>\n",
       "      <td>womenshealth.com.au</td>\n",
       "      <td>7.3</td>\n",
       "      <td>0</td>\n",
       "    </tr>\n",
       "    <tr>\n",
       "      <th>47</th>\n",
       "      <td>ThriveCart.com</td>\n",
       "      <td>7.5</td>\n",
       "      <td>0</td>\n",
       "    </tr>\n",
       "    <tr>\n",
       "      <th>48</th>\n",
       "      <td>warriorplus.com</td>\n",
       "      <td>7.4</td>\n",
       "      <td>0</td>\n",
       "    </tr>\n",
       "    <tr>\n",
       "      <th>49</th>\n",
       "      <td>legionathletics.com</td>\n",
       "      <td>7.4</td>\n",
       "      <td>0</td>\n",
       "    </tr>\n",
       "    <tr>\n",
       "      <th>50</th>\n",
       "      <td>biotrust.com</td>\n",
       "      <td>7.4</td>\n",
       "      <td>0</td>\n",
       "    </tr>\n",
       "    <tr>\n",
       "      <th>51</th>\n",
       "      <td>meetedgar.com</td>\n",
       "      <td>7.3</td>\n",
       "      <td>0</td>\n",
       "    </tr>\n",
       "    <tr>\n",
       "      <th>52</th>\n",
       "      <td>sephora.com</td>\n",
       "      <td>2.3</td>\n",
       "      <td>0</td>\n",
       "    </tr>\n",
       "    <tr>\n",
       "      <th>53</th>\n",
       "      <td>bodybuilding.com</td>\n",
       "      <td>2.7</td>\n",
       "      <td>0</td>\n",
       "    </tr>\n",
       "    <tr>\n",
       "      <th>54</th>\n",
       "      <td>singlegrain.com</td>\n",
       "      <td>7.5</td>\n",
       "      <td>0</td>\n",
       "    </tr>\n",
       "    <tr>\n",
       "      <th>55</th>\n",
       "      <td>digitalmarketinginstitute.com</td>\n",
       "      <td>7.5</td>\n",
       "      <td>0</td>\n",
       "    </tr>\n",
       "    <tr>\n",
       "      <th>56</th>\n",
       "      <td>CoSchedule.com</td>\n",
       "      <td>7.3</td>\n",
       "      <td>0</td>\n",
       "    </tr>\n",
       "    <tr>\n",
       "      <th>57</th>\n",
       "      <td>cleverprogrammer.com</td>\n",
       "      <td>7.6</td>\n",
       "      <td>0</td>\n",
       "    </tr>\n",
       "    <tr>\n",
       "      <th>58</th>\n",
       "      <td>udemy.com</td>\n",
       "      <td>5.0</td>\n",
       "      <td>0</td>\n",
       "    </tr>\n",
       "  </tbody>\n",
       "</table>\n",
       "</div>"
      ],
      "text/plain": [
       "                               lead  score  actual\n",
       "0                  clickfunnels.com    2.3       1\n",
       "1                      kinobody.com    7.4       1\n",
       "2                     FrankKern.com    7.4       1\n",
       "3                  ImpactTheory.Com    7.4       1\n",
       "4     digitalmillionairesecrets.com    7.4       1\n",
       "5                    mastermind.com    7.3       1\n",
       "6                     ShopaNova.com    7.6       1\n",
       "7                        SamCart.io    7.3       1\n",
       "8          billygeneismarketing.com    7.3       1\n",
       "9                      Ladyboss.com    7.7       1\n",
       "10                    GymLaunch.com    8.2       1\n",
       "11             SmarterNutrition.com    7.3       1\n",
       "12              thedouglasjames.com    7.8       1\n",
       "13            fulltimefilmmaker.com    7.4       1\n",
       "14                 webuildbrands UG    7.3       1\n",
       "15  leadgenblueprint.ryanwegner.com    7.3       1\n",
       "16                   groovelife.com    7.8       1\n",
       "17               NINEUNIVERSITY.COM    7.6       1\n",
       "18                    peterszabo.co    7.8       1\n",
       "19                     Current9.com    7.4       1\n",
       "20                   rydermedia.com    7.3       1\n",
       "21             prestigepromedia.com    7.3       1\n",
       "22                     admagnet.com    7.3       1\n",
       "23                     AdSkills.com    7.2       1\n",
       "24                 gatestonebpo.com    8.0       1\n",
       "25                     heybrain.com    7.3       1\n",
       "26            milliondollarfirms.co    7.6       1\n",
       "27             rankoneecommerce.com    7.5       1\n",
       "28                     leadjolt.com    7.3       1\n",
       "29          InclusivleyCreative.com    7.3       1\n",
       "30                    neilpatel.com    4.9       0\n",
       "31                  ImpedeMedia.com    7.3       0\n",
       "32                 JamesMills.co.uk    7.3       0\n",
       "33                 exfilproject.com    7.3       0\n",
       "34                   seo-hacker.com    7.3       0\n",
       "35                   hautehijab.com    7.3       0\n",
       "36                    ontraport.com    2.6       0\n",
       "37                 launchtitans.com    2.3       0\n",
       "38                       eofire.com    7.3       0\n",
       "39                         reww.com    8.1       0\n",
       "40                        draxe.com    2.7       0\n",
       "41                   titansdvds.com    7.3       0\n",
       "42        vitalitymarketingfirm.com    7.3       0\n",
       "43                   embertribe.com    7.4       0\n",
       "44                 theyoungrens.com    7.4       0\n",
       "45                 startupitalia.eu    7.3       0\n",
       "46              womenshealth.com.au    7.3       0\n",
       "47                   ThriveCart.com    7.5       0\n",
       "48                  warriorplus.com    7.4       0\n",
       "49              legionathletics.com    7.4       0\n",
       "50                     biotrust.com    7.4       0\n",
       "51                    meetedgar.com    7.3       0\n",
       "52                      sephora.com    2.3       0\n",
       "53                 bodybuilding.com    2.7       0\n",
       "54                  singlegrain.com    7.5       0\n",
       "55    digitalmarketinginstitute.com    7.5       0\n",
       "56                   CoSchedule.com    7.3       0\n",
       "57             cleverprogrammer.com    7.6       0\n",
       "58                        udemy.com    5.0       0"
      ]
     },
     "execution_count": 23,
     "metadata": {},
     "output_type": "execute_result"
    },
    {
     "data": {
      "image/png": "[encoded data removed]",
      "text/plain": [
       "<Figure size 432x288 with 2 Axes>"
      ]
     },
     "metadata": {
      "needs_background": "light"
     },
     "output_type": "display_data"
    }
   ],
   "source": [
    "rapidTesting(GaussianNB(), df, 'customer')"
   ]
  },
  {
   "cell_type": "markdown",
   "metadata": {},
   "source": [
    "## testing other models"
   ]
  },
  {
   "cell_type": "code",
   "execution_count": 24,
   "metadata": {},
   "outputs": [
    {
     "name": "stdout",
     "output_type": "stream",
     "text": [
      "AxesSubplot(0.125,0.125;0.62x0.755)\n",
      "accuracy: 1.0, precision: 1.0, recall: 1.0 [[30  0]\n",
      " [ 0 29]]\n",
      "cost: $3000 upfront and $0 each month going forward. benefit: $77900 upfront and $15000 each month going forward.\n"
     ]
    },
    {
     "data": {
      "text/html": [
       "<div>\n",
       "<style scoped>\n",
       "    .dataframe tbody tr th:only-of-type {\n",
       "        vertical-align: middle;\n",
       "    }\n",
       "\n",
       "    .dataframe tbody tr th {\n",
       "        vertical-align: top;\n",
       "    }\n",
       "\n",
       "    .dataframe thead th {\n",
       "        text-align: right;\n",
       "    }\n",
       "</style>\n",
       "<table border=\"1\" class=\"dataframe\">\n",
       "  <thead>\n",
       "    <tr style=\"text-align: right;\">\n",
       "      <th></th>\n",
       "      <th>lead</th>\n",
       "      <th>score</th>\n",
       "      <th>actual</th>\n",
       "    </tr>\n",
       "  </thead>\n",
       "  <tbody>\n",
       "    <tr>\n",
       "      <th>0</th>\n",
       "      <td>clickfunnels.com</td>\n",
       "      <td>7.3</td>\n",
       "      <td>1</td>\n",
       "    </tr>\n",
       "    <tr>\n",
       "      <th>1</th>\n",
       "      <td>kinobody.com</td>\n",
       "      <td>7.4</td>\n",
       "      <td>1</td>\n",
       "    </tr>\n",
       "    <tr>\n",
       "      <th>2</th>\n",
       "      <td>FrankKern.com</td>\n",
       "      <td>7.4</td>\n",
       "      <td>1</td>\n",
       "    </tr>\n",
       "    <tr>\n",
       "      <th>3</th>\n",
       "      <td>ImpactTheory.Com</td>\n",
       "      <td>7.4</td>\n",
       "      <td>1</td>\n",
       "    </tr>\n",
       "    <tr>\n",
       "      <th>4</th>\n",
       "      <td>digitalmillionairesecrets.com</td>\n",
       "      <td>7.4</td>\n",
       "      <td>1</td>\n",
       "    </tr>\n",
       "    <tr>\n",
       "      <th>5</th>\n",
       "      <td>mastermind.com</td>\n",
       "      <td>7.3</td>\n",
       "      <td>1</td>\n",
       "    </tr>\n",
       "    <tr>\n",
       "      <th>6</th>\n",
       "      <td>ShopaNova.com</td>\n",
       "      <td>7.6</td>\n",
       "      <td>1</td>\n",
       "    </tr>\n",
       "    <tr>\n",
       "      <th>7</th>\n",
       "      <td>SamCart.io</td>\n",
       "      <td>7.3</td>\n",
       "      <td>1</td>\n",
       "    </tr>\n",
       "    <tr>\n",
       "      <th>8</th>\n",
       "      <td>billygeneismarketing.com</td>\n",
       "      <td>7.3</td>\n",
       "      <td>1</td>\n",
       "    </tr>\n",
       "    <tr>\n",
       "      <th>9</th>\n",
       "      <td>Ladyboss.com</td>\n",
       "      <td>7.7</td>\n",
       "      <td>1</td>\n",
       "    </tr>\n",
       "    <tr>\n",
       "      <th>10</th>\n",
       "      <td>GymLaunch.com</td>\n",
       "      <td>8.2</td>\n",
       "      <td>1</td>\n",
       "    </tr>\n",
       "    <tr>\n",
       "      <th>11</th>\n",
       "      <td>SmarterNutrition.com</td>\n",
       "      <td>7.3</td>\n",
       "      <td>1</td>\n",
       "    </tr>\n",
       "    <tr>\n",
       "      <th>12</th>\n",
       "      <td>thedouglasjames.com</td>\n",
       "      <td>7.8</td>\n",
       "      <td>1</td>\n",
       "    </tr>\n",
       "    <tr>\n",
       "      <th>13</th>\n",
       "      <td>fulltimefilmmaker.com</td>\n",
       "      <td>7.4</td>\n",
       "      <td>1</td>\n",
       "    </tr>\n",
       "    <tr>\n",
       "      <th>14</th>\n",
       "      <td>webuildbrands UG</td>\n",
       "      <td>7.3</td>\n",
       "      <td>1</td>\n",
       "    </tr>\n",
       "    <tr>\n",
       "      <th>15</th>\n",
       "      <td>leadgenblueprint.ryanwegner.com</td>\n",
       "      <td>7.3</td>\n",
       "      <td>1</td>\n",
       "    </tr>\n",
       "    <tr>\n",
       "      <th>16</th>\n",
       "      <td>groovelife.com</td>\n",
       "      <td>7.8</td>\n",
       "      <td>1</td>\n",
       "    </tr>\n",
       "    <tr>\n",
       "      <th>17</th>\n",
       "      <td>NINEUNIVERSITY.COM</td>\n",
       "      <td>7.6</td>\n",
       "      <td>1</td>\n",
       "    </tr>\n",
       "    <tr>\n",
       "      <th>18</th>\n",
       "      <td>peterszabo.co</td>\n",
       "      <td>7.8</td>\n",
       "      <td>1</td>\n",
       "    </tr>\n",
       "    <tr>\n",
       "      <th>19</th>\n",
       "      <td>Current9.com</td>\n",
       "      <td>7.4</td>\n",
       "      <td>1</td>\n",
       "    </tr>\n",
       "    <tr>\n",
       "      <th>20</th>\n",
       "      <td>rydermedia.com</td>\n",
       "      <td>7.3</td>\n",
       "      <td>1</td>\n",
       "    </tr>\n",
       "    <tr>\n",
       "      <th>21</th>\n",
       "      <td>prestigepromedia.com</td>\n",
       "      <td>7.3</td>\n",
       "      <td>1</td>\n",
       "    </tr>\n",
       "    <tr>\n",
       "      <th>22</th>\n",
       "      <td>admagnet.com</td>\n",
       "      <td>7.3</td>\n",
       "      <td>1</td>\n",
       "    </tr>\n",
       "    <tr>\n",
       "      <th>23</th>\n",
       "      <td>AdSkills.com</td>\n",
       "      <td>7.2</td>\n",
       "      <td>1</td>\n",
       "    </tr>\n",
       "    <tr>\n",
       "      <th>24</th>\n",
       "      <td>gatestonebpo.com</td>\n",
       "      <td>8.0</td>\n",
       "      <td>1</td>\n",
       "    </tr>\n",
       "    <tr>\n",
       "      <th>25</th>\n",
       "      <td>heybrain.com</td>\n",
       "      <td>7.3</td>\n",
       "      <td>1</td>\n",
       "    </tr>\n",
       "    <tr>\n",
       "      <th>26</th>\n",
       "      <td>milliondollarfirms.co</td>\n",
       "      <td>7.6</td>\n",
       "      <td>1</td>\n",
       "    </tr>\n",
       "    <tr>\n",
       "      <th>27</th>\n",
       "      <td>rankoneecommerce.com</td>\n",
       "      <td>7.5</td>\n",
       "      <td>1</td>\n",
       "    </tr>\n",
       "    <tr>\n",
       "      <th>28</th>\n",
       "      <td>leadjolt.com</td>\n",
       "      <td>7.3</td>\n",
       "      <td>1</td>\n",
       "    </tr>\n",
       "    <tr>\n",
       "      <th>29</th>\n",
       "      <td>InclusivleyCreative.com</td>\n",
       "      <td>7.3</td>\n",
       "      <td>1</td>\n",
       "    </tr>\n",
       "    <tr>\n",
       "      <th>30</th>\n",
       "      <td>neilpatel.com</td>\n",
       "      <td>4.9</td>\n",
       "      <td>0</td>\n",
       "    </tr>\n",
       "    <tr>\n",
       "      <th>31</th>\n",
       "      <td>ImpedeMedia.com</td>\n",
       "      <td>2.3</td>\n",
       "      <td>0</td>\n",
       "    </tr>\n",
       "    <tr>\n",
       "      <th>32</th>\n",
       "      <td>JamesMills.co.uk</td>\n",
       "      <td>2.3</td>\n",
       "      <td>0</td>\n",
       "    </tr>\n",
       "    <tr>\n",
       "      <th>33</th>\n",
       "      <td>exfilproject.com</td>\n",
       "      <td>2.3</td>\n",
       "      <td>0</td>\n",
       "    </tr>\n",
       "    <tr>\n",
       "      <th>34</th>\n",
       "      <td>seo-hacker.com</td>\n",
       "      <td>2.3</td>\n",
       "      <td>0</td>\n",
       "    </tr>\n",
       "    <tr>\n",
       "      <th>35</th>\n",
       "      <td>hautehijab.com</td>\n",
       "      <td>2.3</td>\n",
       "      <td>0</td>\n",
       "    </tr>\n",
       "    <tr>\n",
       "      <th>36</th>\n",
       "      <td>ontraport.com</td>\n",
       "      <td>2.6</td>\n",
       "      <td>0</td>\n",
       "    </tr>\n",
       "    <tr>\n",
       "      <th>37</th>\n",
       "      <td>launchtitans.com</td>\n",
       "      <td>2.3</td>\n",
       "      <td>0</td>\n",
       "    </tr>\n",
       "    <tr>\n",
       "      <th>38</th>\n",
       "      <td>eofire.com</td>\n",
       "      <td>2.3</td>\n",
       "      <td>0</td>\n",
       "    </tr>\n",
       "    <tr>\n",
       "      <th>39</th>\n",
       "      <td>reww.com</td>\n",
       "      <td>3.1</td>\n",
       "      <td>0</td>\n",
       "    </tr>\n",
       "    <tr>\n",
       "      <th>40</th>\n",
       "      <td>draxe.com</td>\n",
       "      <td>2.7</td>\n",
       "      <td>0</td>\n",
       "    </tr>\n",
       "    <tr>\n",
       "      <th>41</th>\n",
       "      <td>titansdvds.com</td>\n",
       "      <td>2.3</td>\n",
       "      <td>0</td>\n",
       "    </tr>\n",
       "    <tr>\n",
       "      <th>42</th>\n",
       "      <td>vitalitymarketingfirm.com</td>\n",
       "      <td>2.3</td>\n",
       "      <td>0</td>\n",
       "    </tr>\n",
       "    <tr>\n",
       "      <th>43</th>\n",
       "      <td>embertribe.com</td>\n",
       "      <td>2.4</td>\n",
       "      <td>0</td>\n",
       "    </tr>\n",
       "    <tr>\n",
       "      <th>44</th>\n",
       "      <td>theyoungrens.com</td>\n",
       "      <td>2.4</td>\n",
       "      <td>0</td>\n",
       "    </tr>\n",
       "    <tr>\n",
       "      <th>45</th>\n",
       "      <td>startupitalia.eu</td>\n",
       "      <td>2.3</td>\n",
       "      <td>0</td>\n",
       "    </tr>\n",
       "    <tr>\n",
       "      <th>46</th>\n",
       "      <td>womenshealth.com.au</td>\n",
       "      <td>2.3</td>\n",
       "      <td>0</td>\n",
       "    </tr>\n",
       "    <tr>\n",
       "      <th>47</th>\n",
       "      <td>ThriveCart.com</td>\n",
       "      <td>2.5</td>\n",
       "      <td>0</td>\n",
       "    </tr>\n",
       "    <tr>\n",
       "      <th>48</th>\n",
       "      <td>warriorplus.com</td>\n",
       "      <td>2.4</td>\n",
       "      <td>0</td>\n",
       "    </tr>\n",
       "    <tr>\n",
       "      <th>49</th>\n",
       "      <td>legionathletics.com</td>\n",
       "      <td>2.4</td>\n",
       "      <td>0</td>\n",
       "    </tr>\n",
       "    <tr>\n",
       "      <th>50</th>\n",
       "      <td>biotrust.com</td>\n",
       "      <td>2.4</td>\n",
       "      <td>0</td>\n",
       "    </tr>\n",
       "    <tr>\n",
       "      <th>51</th>\n",
       "      <td>meetedgar.com</td>\n",
       "      <td>2.3</td>\n",
       "      <td>0</td>\n",
       "    </tr>\n",
       "    <tr>\n",
       "      <th>52</th>\n",
       "      <td>sephora.com</td>\n",
       "      <td>2.3</td>\n",
       "      <td>0</td>\n",
       "    </tr>\n",
       "    <tr>\n",
       "      <th>53</th>\n",
       "      <td>bodybuilding.com</td>\n",
       "      <td>2.7</td>\n",
       "      <td>0</td>\n",
       "    </tr>\n",
       "    <tr>\n",
       "      <th>54</th>\n",
       "      <td>singlegrain.com</td>\n",
       "      <td>2.5</td>\n",
       "      <td>0</td>\n",
       "    </tr>\n",
       "    <tr>\n",
       "      <th>55</th>\n",
       "      <td>digitalmarketinginstitute.com</td>\n",
       "      <td>2.5</td>\n",
       "      <td>0</td>\n",
       "    </tr>\n",
       "    <tr>\n",
       "      <th>56</th>\n",
       "      <td>CoSchedule.com</td>\n",
       "      <td>2.3</td>\n",
       "      <td>0</td>\n",
       "    </tr>\n",
       "    <tr>\n",
       "      <th>57</th>\n",
       "      <td>cleverprogrammer.com</td>\n",
       "      <td>2.6</td>\n",
       "      <td>0</td>\n",
       "    </tr>\n",
       "    <tr>\n",
       "      <th>58</th>\n",
       "      <td>udemy.com</td>\n",
       "      <td>5.0</td>\n",
       "      <td>0</td>\n",
       "    </tr>\n",
       "  </tbody>\n",
       "</table>\n",
       "</div>"
      ],
      "text/plain": [
       "                               lead  score  actual\n",
       "0                  clickfunnels.com    7.3       1\n",
       "1                      kinobody.com    7.4       1\n",
       "2                     FrankKern.com    7.4       1\n",
       "3                  ImpactTheory.Com    7.4       1\n",
       "4     digitalmillionairesecrets.com    7.4       1\n",
       "5                    mastermind.com    7.3       1\n",
       "6                     ShopaNova.com    7.6       1\n",
       "7                        SamCart.io    7.3       1\n",
       "8          billygeneismarketing.com    7.3       1\n",
       "9                      Ladyboss.com    7.7       1\n",
       "10                    GymLaunch.com    8.2       1\n",
       "11             SmarterNutrition.com    7.3       1\n",
       "12              thedouglasjames.com    7.8       1\n",
       "13            fulltimefilmmaker.com    7.4       1\n",
       "14                 webuildbrands UG    7.3       1\n",
       "15  leadgenblueprint.ryanwegner.com    7.3       1\n",
       "16                   groovelife.com    7.8       1\n",
       "17               NINEUNIVERSITY.COM    7.6       1\n",
       "18                    peterszabo.co    7.8       1\n",
       "19                     Current9.com    7.4       1\n",
       "20                   rydermedia.com    7.3       1\n",
       "21             prestigepromedia.com    7.3       1\n",
       "22                     admagnet.com    7.3       1\n",
       "23                     AdSkills.com    7.2       1\n",
       "24                 gatestonebpo.com    8.0       1\n",
       "25                     heybrain.com    7.3       1\n",
       "26            milliondollarfirms.co    7.6       1\n",
       "27             rankoneecommerce.com    7.5       1\n",
       "28                     leadjolt.com    7.3       1\n",
       "29          InclusivleyCreative.com    7.3       1\n",
       "30                    neilpatel.com    4.9       0\n",
       "31                  ImpedeMedia.com    2.3       0\n",
       "32                 JamesMills.co.uk    2.3       0\n",
       "33                 exfilproject.com    2.3       0\n",
       "34                   seo-hacker.com    2.3       0\n",
       "35                   hautehijab.com    2.3       0\n",
       "36                    ontraport.com    2.6       0\n",
       "37                 launchtitans.com    2.3       0\n",
       "38                       eofire.com    2.3       0\n",
       "39                         reww.com    3.1       0\n",
       "40                        draxe.com    2.7       0\n",
       "41                   titansdvds.com    2.3       0\n",
       "42        vitalitymarketingfirm.com    2.3       0\n",
       "43                   embertribe.com    2.4       0\n",
       "44                 theyoungrens.com    2.4       0\n",
       "45                 startupitalia.eu    2.3       0\n",
       "46              womenshealth.com.au    2.3       0\n",
       "47                   ThriveCart.com    2.5       0\n",
       "48                  warriorplus.com    2.4       0\n",
       "49              legionathletics.com    2.4       0\n",
       "50                     biotrust.com    2.4       0\n",
       "51                    meetedgar.com    2.3       0\n",
       "52                      sephora.com    2.3       0\n",
       "53                 bodybuilding.com    2.7       0\n",
       "54                  singlegrain.com    2.5       0\n",
       "55    digitalmarketinginstitute.com    2.5       0\n",
       "56                   CoSchedule.com    2.3       0\n",
       "57             cleverprogrammer.com    2.6       0\n",
       "58                        udemy.com    5.0       0"
      ]
     },
     "execution_count": 24,
     "metadata": {},
     "output_type": "execute_result"
    },
    {
     "data": {
      "image/png": "[encoded data removed]",
      "text/plain": [
       "<Figure size 432x288 with 2 Axes>"
      ]
     },
     "metadata": {
      "needs_background": "light"
     },
     "output_type": "display_data"
    }
   ],
   "source": [
    "rapidTesting(DecisionTreeClassifier(), df, 'customer')"
   ]
  },
  {
   "cell_type": "markdown",
   "metadata": {},
   "source": [
    "The DecisionTreeClassifier in combination with the opportunity score algorithm has 100% accuracy all around and the best cost benefit analysis. If in place, the model would cost ~3k worth of extra labor on the sales team's end but result in an extra 15 customers at 15k in additional monthly revenue, in addition to earning an extra 75k upfront from onboarding fees!"
   ]
  },
  {
   "cell_type": "markdown",
   "metadata": {},
   "source": [
    "## Moving Forward\n",
    "\n",
    "We have 100% accuracy with the current model and there is currently no need to improve the model. That being said, this model works well on a very small dataset with a 50% conversion rate. \n",
    "\n",
    "current dataset: 60 leads, 30 convert\n",
    "real dataset: ~1000 leads, ~300 convert\n",
    "\n",
    "I suspect that with the real data and a proper training/validation split the model would break! for this reason I will experiment with two more models. First I will see if there's a proven lead scoring algorithm and tailor it to my use case, it probably won't do well with the tiny dataset but will be good to have in my back pocket if the dataset grows to a few hundred samples, Second I will do a proper training/validation split with the tiny dataset and try to implement some sort of One Shot Learning, an ML technique used for making predictions based on tiny datasets."
   ]
  },
  {
   "cell_type": "markdown",
   "metadata": {},
   "source": [
    "I found a paper from Åbo Akademi University about an implementation of lead scoring with machine learning https://scholarspace.manoa.hawaii.edu/bitstream/10125/63916/0143.pdf\n",
    "\n"
   ]
  },
  {
   "cell_type": "markdown",
   "metadata": {},
   "source": [
    "https://www.sciencedirect.com/science/article/abs/pii/S0167923603000204"
   ]
  },
  {
   "cell_type": "markdown",
   "metadata": {},
   "source": [
    "## Lead scoring paper implementation\n",
    "\n",
    "In the paper they had 200 features to choose from including the dates of actions that leads in the dataset took. We don't have that, however we will take actions similar to theirs. \n",
    "\n",
    "## Step 1: filter features based on correlation to the output"
   ]
  },
  {
   "cell_type": "code",
   "execution_count": 25,
   "metadata": {},
   "outputs": [],
   "source": [
    "corrs = dict(df.corr()['customer'])\n",
    "drop = ['customer']\n",
    "for corr in corrs:\n",
    "    if abs(corrs[corr]) < 0.1: #filtering out anything with a correlation of less than 10%, negative or positive, \n",
    "        drop.append(corr)\n",
    "        \n",
    "y2 = df['customer']\n",
    "X2 = df.drop(drop, axis='columns') "
   ]
  },
  {
   "cell_type": "code",
   "execution_count": 26,
   "metadata": {
    "scrolled": true
   },
   "outputs": [
    {
     "data": {
      "text/plain": [
       "['customer',\n",
       " 'revenue',\n",
       " 'monthlyVisitsChange',\n",
       " 'adRevenue',\n",
       " 'cac',\n",
       " 'profit',\n",
       " 'profitMargin',\n",
       " 'averageOrderValue',\n",
       " 'apparel',\n",
       " 'fitness',\n",
       " 'media',\n",
       " 'software',\n",
       " 'youtube']"
      ]
     },
     "execution_count": 26,
     "metadata": {},
     "output_type": "execute_result"
    }
   ],
   "source": [
    "#what is getting dropped?\n",
    "drop"
   ]
  },
  {
   "cell_type": "markdown",
   "metadata": {},
   "source": [
    "From a business perspective I am very disturbed by the fact that revenue, cac, and profit is getting dropped. This dosen't seem like a good idea. However this is just a fun experiment...\n",
    "\n",
    "I will also point out that this method was meant for B2C use cases while we this project is a B2B use case."
   ]
  },
  {
   "cell_type": "code",
   "execution_count": 27,
   "metadata": {},
   "outputs": [
    {
     "data": {
      "image/png": "[encoded data removed]",
      "text/plain": [
       "<Figure size 1080x1080 with 1 Axes>"
      ]
     },
     "metadata": {
      "needs_background": "light"
     },
     "output_type": "display_data"
    }
   ],
   "source": [
    "plt.subplots(figsize=(15,15))\n",
    "plt.barh(list(corrs.keys()), list(corrs.values()))\n",
    "plt.show()"
   ]
  },
  {
   "cell_type": "markdown",
   "metadata": {},
   "source": [
    "## Step 2\n",
    "\n",
    "1. compare Logistic Regression, Decision Tree, Random Forest, and MLP Neural Network against eachother.\n",
    "2. compare filtered dataset by itself against filtered dataset with opportunity score as a feature against an aggregation of the filtered dataset probability with the opportunity score\n",
    "\n",
    "going into this I expect the Random Forest trained on the filtered dataset in aggregation with the opportunity score will produce the best results."
   ]
  },
  {
   "cell_type": "code",
   "execution_count": 46,
   "metadata": {},
   "outputs": [],
   "source": [
    "def offShelf(model, X, y, cmap='Blues', quiet=True):\n",
    "    X_train, X_test, y_train, y_test = train_test_split(X, y)\n",
    "    model.fit(X_train, y_train)\n",
    "    predicted = model.predict(X_test)\n",
    "    cm = confusion_matrix(y_test, predicted)\n",
    "    tn, fp, fn, tp = cm[0][0], cm[0][1], cm[1][0], cm[1][1]\n",
    "    cm = np.array([[tp, fp], [fn, tn]])\n",
    "    cu, cmo, bu, bm = cbaHyros(cm, quiet=True)\n",
    "    if quiet==False:\n",
    "        print(cbaHyros(cm))\n",
    "        print(sns.heatmap(cm, cmap=cmap, annot=True))\n",
    "    train_acc = model.score(X_train, y_train)\n",
    "    test_acc = model.score(X_test, y_test)\n",
    "    recall = tp / (tp+fp)\n",
    "    precision = tp / (tp+fn)\n",
    "    return {'net_upfront': bu-cu, 'net_monthly': bm-cmo, 'train': train_acc, 'test': test_acc, \n",
    "           'recall': recall, 'precision': precision}\n",
    "\n",
    "def opportunityScore(df):\n",
    "    scores = []\n",
    "    mu_cac = np.mean(df['cac'])\n",
    "    mu_adspend = np.mean(df['adspend'])\n",
    "    s_cac = np.std(df['cac'])\n",
    "    s_adspend = np.std(df['adspend'])\n",
    "    for i in range(len(df)):\n",
    "        sample = df.iloc[i]\n",
    "        cac_z = (sample['cac'] - mu_cac)/s_cac\n",
    "        adspend_z = (sample['adspend'] - mu_adspend)/s_adspend\n",
    "        if sample['adspend'] < 15000:\n",
    "            oportunity_score = 0\n",
    "        sentiment = sample['avg_polarity']\n",
    "        opportunity_score = round(((cac_z+3)+(adspend_z+3)+(sentiment+1))/14, 2)\n",
    "        scores.append(opportunity_score)\n",
    "    return scores\n",
    "        \n",
    "def aggregatePredictions(model, X, y, cmap='cmap', quiet=True):\n",
    "    X_train, X_test, y_train, y_test = train_test_split(X, y)\n",
    "    opp = list(X_test['opportunity'])\n",
    "    X_train = X_train.drop(['opportunity'], axis='columns')\n",
    "    X_test = X_test.drop(['opportunity'], axis='columns')\n",
    "    model.fit(X_train, y_train)\n",
    "    predictions = list(model.predict(X_test))\n",
    "    probas = list(model.predict_proba(X_test))\n",
    "    prob_train_acc = model.score(X_train, y_train)\n",
    "    prob_test_acc = model.score(X_test, y_test)\n",
    "    tp = 0\n",
    "    fp = 0\n",
    "    fn = 0\n",
    "    tn = 0\n",
    "    correct = 0\n",
    "    y_test = list(y_test)\n",
    "    for i in range(len(y_test)):\n",
    "        score = (opp[i]+probas[i][0])/2\n",
    "        if int(round(score)) == y_test[i]:\n",
    "            correct += 1\n",
    "            if y_test[i] == 1:\n",
    "                tp += 1\n",
    "            else:\n",
    "                tn += 1\n",
    "        if int(round(score)) != y_test[i]:\n",
    "            if y_test[i] == 1:\n",
    "                fn += 1\n",
    "            else:\n",
    "                fp += 1\n",
    "    cm = np.array([[tp, fp], [fn, tn]])\n",
    "    cu, cmo, bu, bm = cbaHyros(cm, quiet=True)\n",
    "    if quiet==False:\n",
    "        print(sns.heatmap(cm, annot=True, cmap='Blues'))\n",
    "        print(cbaHyros(cm))\n",
    "    test_acc = correct/len(y_test)\n",
    "    try:\n",
    "        recall = tp / (tp+fp)\n",
    "    except:\n",
    "        recall = 0.0\n",
    "    precision = tp / (tp+fn)\n",
    "    return {'net_upfront': bu-cu, 'net_monthly': bm-cmo, 'test accuracy': test_acc, 'recall': recall, \n",
    "            'precision': precision, 'prob_train_acc': prob_train_acc, 'prob_test_acc': prob_test_acc}\n",
    "\n",
    "def crossValidate(func, model, X, y, cv=30, z=2):\n",
    "    concats = []\n",
    "    for i in range(cv):\n",
    "        df = pd.DataFrame(func(model, X, y), index=[0])\n",
    "        concats.append(df)\n",
    "    results = {}\n",
    "    df = pd.concat(concats)\n",
    "    for col in list(df.columns):\n",
    "        results[col] = np.mean(df[col])\n",
    "    mu = np.mean(df['net_monthly'])\n",
    "    sigma = np.std(df['net_monthly'])\n",
    "    minimum = mu - (sigma*z)\n",
    "    maximum = mu + (sigma*z)\n",
    "    print('net_monthly confidence interval: ${} - ${}'.format(minimum, maximum))\n",
    "    return results"
   ]
  },
  {
   "cell_type": "markdown",
   "metadata": {},
   "source": [
    "comparing models against eachother with the filtered dataset "
   ]
  },
  {
   "cell_type": "code",
   "execution_count": 29,
   "metadata": {},
   "outputs": [
    {
     "name": "stdout",
     "output_type": "stream",
     "text": [
      "net_monthly confidence interval: $-7134.848320122291 - $6801.514986788957\n"
     ]
    },
    {
     "data": {
      "text/plain": [
       "{'net_upfront': -1333.3333333333333,\n",
       " 'net_monthly': -166.66666666666666,\n",
       " 'train': 0.7143939393939395,\n",
       " 'test': 0.5888888888888888,\n",
       " 'recall': 0.6069171569171571,\n",
       " 'precision': 0.7299326599326599}"
      ]
     },
     "execution_count": 29,
     "metadata": {},
     "output_type": "execute_result"
    }
   ],
   "source": [
    "LR1 = crossValidate(offShelf, LogisticRegression(), X2, y2)\n",
    "LR1"
   ]
  },
  {
   "cell_type": "code",
   "execution_count": 30,
   "metadata": {},
   "outputs": [
    {
     "name": "stdout",
     "output_type": "stream",
     "text": [
      "net_monthly confidence interval: $-6254.325732861691 - $4987.659066195025\n"
     ]
    },
    {
     "data": {
      "text/plain": [
       "{'net_upfront': -3093.3333333333335,\n",
       " 'net_monthly': -633.3333333333334,\n",
       " 'train': 1.0,\n",
       " 'test': 0.748888888888889,\n",
       " 'recall': 0.8021164021164021,\n",
       " 'precision': 0.7216606541606543}"
      ]
     },
     "execution_count": 30,
     "metadata": {},
     "output_type": "execute_result"
    }
   ],
   "source": [
    "DT1 = crossValidate(offShelf, DecisionTreeClassifier(), X2, y2)\n",
    "DT1"
   ]
  },
  {
   "cell_type": "code",
   "execution_count": 31,
   "metadata": {},
   "outputs": [
    {
     "name": "stdout",
     "output_type": "stream",
     "text": [
      "net_monthly confidence interval: $-4138.800648551893 - $4605.467315218559\n"
     ]
    },
    {
     "data": {
      "text/plain": [
       "{'net_upfront': 1180.0,\n",
       " 'net_monthly': 233.33333333333334,\n",
       " 'train': 1.0,\n",
       " 'test': 0.7866666666666671,\n",
       " 'recall': 0.8319708994708995,\n",
       " 'precision': 0.7801226551226553}"
      ]
     },
     "execution_count": 31,
     "metadata": {},
     "output_type": "execute_result"
    }
   ],
   "source": [
    "RF1 = crossValidate(offShelf, RandomForestClassifier(), X2, y2)\n",
    "RF1"
   ]
  },
  {
   "cell_type": "code",
   "execution_count": 32,
   "metadata": {},
   "outputs": [
    {
     "name": "stdout",
     "output_type": "stream",
     "text": [
      "net_monthly confidence interval: $-12998.881368780636 - $6865.548035447304\n"
     ]
    },
    {
     "data": {
      "text/plain": [
       "{'net_upfront': -15286.666666666666,\n",
       " 'net_monthly': -3066.6666666666665,\n",
       " 'train': 0.6325757575757575,\n",
       " 'test': 0.5777777777777778,\n",
       " 'recall': 0.5573218448218449,\n",
       " 'precision': 0.5626262626262626}"
      ]
     },
     "execution_count": 32,
     "metadata": {},
     "output_type": "execute_result"
    }
   ],
   "source": [
    "NN1 = crossValidate(offShelf, MLPClassifier(), X2, y2)\n",
    "NN1"
   ]
  },
  {
   "cell_type": "markdown",
   "metadata": {},
   "source": [
    "None of these are doing very well but LogisticRegression is the only one with a positive monthly outcome (net_monthly). However Decision Tree is the least volitile, this means that the minimum for the monthly outcome confidence interval is the least negative."
   ]
  },
  {
   "cell_type": "markdown",
   "metadata": {},
   "source": [
    "# using opportunity score as a feature"
   ]
  },
  {
   "cell_type": "code",
   "execution_count": 33,
   "metadata": {},
   "outputs": [
    {
     "data": {
      "text/plain": [
       "(59, 46)"
      ]
     },
     "execution_count": 33,
     "metadata": {},
     "output_type": "execute_result"
    }
   ],
   "source": [
    "X3 = X2\n",
    "X3['opportunity'] = opportunityScore(df)\n",
    "X3.shape"
   ]
  },
  {
   "cell_type": "code",
   "execution_count": 34,
   "metadata": {},
   "outputs": [
    {
     "name": "stdout",
     "output_type": "stream",
     "text": [
      "net_monthly confidence interval: $-5545.1073430493 - $7678.440676382634\n"
     ]
    },
    {
     "data": {
      "text/plain": [
       "{'net_upfront': 4713.333333333333,\n",
       " 'net_monthly': 1066.6666666666667,\n",
       " 'train': 0.6818181818181819,\n",
       " 'test': 0.6311111111111111,\n",
       " 'recall': 0.5944980944980944,\n",
       " 'precision': 0.8475529100529101}"
      ]
     },
     "execution_count": 34,
     "metadata": {},
     "output_type": "execute_result"
    }
   ],
   "source": [
    "LR2 = crossValidate(offShelf, LogisticRegression(), X3, y2)\n",
    "LR2"
   ]
  },
  {
   "cell_type": "code",
   "execution_count": 35,
   "metadata": {},
   "outputs": [
    {
     "name": "stdout",
     "output_type": "stream",
     "text": [
      "net_monthly confidence interval: $-5605.552532945545 - $4605.552532945545\n"
     ]
    },
    {
     "data": {
      "text/plain": [
       "{'net_upfront': -2586.6666666666665,\n",
       " 'net_monthly': -500.0,\n",
       " 'train': 1.0,\n",
       " 'test': 0.7044444444444444,\n",
       " 'recall': 0.6891029341029341,\n",
       " 'precision': 0.7411568986568987}"
      ]
     },
     "execution_count": 35,
     "metadata": {},
     "output_type": "execute_result"
    }
   ],
   "source": [
    "DT2 = crossValidate(offShelf, DecisionTreeClassifier(), X3, y2)\n",
    "DT2"
   ]
  },
  {
   "cell_type": "code",
   "execution_count": 36,
   "metadata": {},
   "outputs": [
    {
     "name": "stdout",
     "output_type": "stream",
     "text": [
      "net_monthly confidence interval: $-5366.563145999496 - $5366.563145999496\n"
     ]
    },
    {
     "data": {
      "text/plain": [
       "{'net_upfront': 86.66666666666667,\n",
       " 'net_monthly': 0.0,\n",
       " 'train': 1.0,\n",
       " 'test': 0.7955555555555557,\n",
       " 'recall': 0.8448015873015874,\n",
       " 'precision': 0.7574711399711399}"
      ]
     },
     "execution_count": 36,
     "metadata": {},
     "output_type": "execute_result"
    }
   ],
   "source": [
    "RF2 = crossValidate(offShelf, RandomForestClassifier(), X3, y2)\n",
    "RF2"
   ]
  },
  {
   "cell_type": "code",
   "execution_count": 37,
   "metadata": {},
   "outputs": [
    {
     "name": "stdout",
     "output_type": "stream",
     "text": [
      "net_monthly confidence interval: $-15475.543704216268 - $9942.210370882936\n"
     ]
    },
    {
     "data": {
      "text/plain": [
       "{'net_upfront': -13886.666666666666,\n",
       " 'net_monthly': -2766.6666666666665,\n",
       " 'train': 0.606060606060606,\n",
       " 'test': 0.5644444444444444,\n",
       " 'recall': 0.48846361971361973,\n",
       " 'precision': 0.5636628186628188}"
      ]
     },
     "execution_count": 37,
     "metadata": {},
     "output_type": "execute_result"
    }
   ],
   "source": [
    "NN2 = crossValidate(offShelf, MLPClassifier(), X3, y2)\n",
    "NN2"
   ]
  },
  {
   "cell_type": "markdown",
   "metadata": {},
   "source": [
    "I'm suprised to see that the results aren't as good! The MLP would produce the best business outcomes, however the random forest had the highest accuracy."
   ]
  },
  {
   "cell_type": "markdown",
   "metadata": {},
   "source": [
    "Now I'm going to see what happens when I aggregate the model outputs with the opportunity scores"
   ]
  },
  {
   "cell_type": "code",
   "execution_count": 40,
   "metadata": {},
   "outputs": [
    {
     "name": "stdout",
     "output_type": "stream",
     "text": [
      "net_monthly confidence interval: $-15304.1654154153 - $-1429.167917918031\n"
     ]
    },
    {
     "data": {
      "text/plain": [
       "{'net_upfront': -41320.0,\n",
       " 'net_monthly': -8366.666666666666,\n",
       " 'test accuracy': 0.3800000000000001,\n",
       " 'recall': 0.34917388167388164,\n",
       " 'precision': 0.23710798460798457,\n",
       " 'prob_train_acc': 0.7098484848484848,\n",
       " 'prob_test_acc': 0.5933333333333334}"
      ]
     },
     "execution_count": 40,
     "metadata": {},
     "output_type": "execute_result"
    }
   ],
   "source": [
    "LR3 = crossValidate(aggregatePredictions, LogisticRegression(), X3, y2)\n",
    "LR3"
   ]
  },
  {
   "cell_type": "code",
   "execution_count": 41,
   "metadata": {},
   "outputs": [
    {
     "name": "stdout",
     "output_type": "stream",
     "text": [
      "net_monthly confidence interval: $-13798.147875897062 - $-1201.8521241029384\n"
     ]
    },
    {
     "data": {
      "text/plain": [
       "{'net_upfront': -37406.666666666664,\n",
       " 'net_monthly': -7500.0,\n",
       " 'test accuracy': 0.29777777777777786,\n",
       " 'recall': 0.29691558441558447,\n",
       " 'precision': 0.27728715728715725,\n",
       " 'prob_train_acc': 1.0,\n",
       " 'prob_test_acc': 0.7022222222222223}"
      ]
     },
     "execution_count": 41,
     "metadata": {},
     "output_type": "execute_result"
    }
   ],
   "source": [
    "DT3 = crossValidate(aggregatePredictions, DecisionTreeClassifier(), X3, y2)\n",
    "DT3"
   ]
  },
  {
   "cell_type": "code",
   "execution_count": 42,
   "metadata": {},
   "outputs": [
    {
     "name": "stdout",
     "output_type": "stream",
     "text": [
      "net_monthly confidence interval: $-13000.0 - $-3400.0\n"
     ]
    },
    {
     "data": {
      "text/plain": [
       "{'net_upfront': -41020.0,\n",
       " 'net_monthly': -8200.0,\n",
       " 'test accuracy': 0.21333333333333335,\n",
       " 'recall': 0.22207912457912457,\n",
       " 'precision': 0.23094276094276092,\n",
       " 'prob_train_acc': 1.0,\n",
       " 'prob_test_acc': 0.7888888888888891}"
      ]
     },
     "execution_count": 42,
     "metadata": {},
     "output_type": "execute_result"
    }
   ],
   "source": [
    "RF3 = crossValidate(aggregatePredictions, RandomForestClassifier(), X3, y2)\n",
    "RF3"
   ]
  },
  {
   "cell_type": "code",
   "execution_count": 47,
   "metadata": {},
   "outputs": [
    {
     "name": "stdout",
     "output_type": "stream",
     "text": [
      "net_monthly confidence interval: $-13561.658259552289 - $2628.324926218954\n"
     ]
    },
    {
     "data": {
      "text/plain": [
       "{'net_upfront': -27226.666666666668,\n",
       " 'net_monthly': -5466.666666666667,\n",
       " 'test accuracy': 0.4377777777777777,\n",
       " 'recall': 0.36892357642357637,\n",
       " 'precision': 0.3832804232804232,\n",
       " 'prob_train_acc': 0.6219696969696972,\n",
       " 'prob_test_acc': 0.5622222222222223}"
      ]
     },
     "execution_count": 47,
     "metadata": {},
     "output_type": "execute_result"
    }
   ],
   "source": [
    "NN3 = crossValidate(aggregatePredictions, MLPClassifier(), X3, y2)\n",
    "NN3"
   ]
  },
  {
   "cell_type": "markdown",
   "metadata": {},
   "source": [
    "The lead scoring is really bad when I aggregate classification models with the opportunity Score, the MLP sucks the least. Intuitivley it makes sense, but in practice it dosen't work out so well. This raises the question; is my Decision Tree combined with opportunity score overfit? I will find out real quick..."
   ]
  },
  {
   "cell_type": "code",
   "execution_count": 63,
   "metadata": {},
   "outputs": [],
   "source": [
    "def leadScoringModel3(model, x, y, old_df=w, margin=0.1, validation='test', quiet=True): #incorporate train test split among other changer\n",
    "    x_train, x_test, y_train, y_test = train_test_split(x, y)\n",
    "    model.fit(x_train, y_train)\n",
    "    predicted = model.predict_proba(x_test)\n",
    "    mu_cac = np.mean(x_train['cac'])\n",
    "    mu_adspend = np.mean(x_train['adspend'])\n",
    "    s_cac = np.std(x_train['cac'])\n",
    "    s_adspend = np.std(x_train['adspend'])\n",
    "    tp = 0\n",
    "    fp = 0\n",
    "    fn = 0\n",
    "    tn = 0\n",
    "    correct = 0\n",
    "    y_test = list(y_test)\n",
    "    if validation == 'train':\n",
    "        y_train = list(y_train)\n",
    "        predicted = model.predict_proba(x_train)\n",
    "        for i in range(len(x_train)):\n",
    "            sample = x_train.iloc[i]\n",
    "            cac_z = (sample['cac'] - mu_cac)/s_cac\n",
    "            adspend_z = (sample['adspend'] - mu_adspend)/s_adspend\n",
    "            if sample['adspend'] < 15000:\n",
    "                oportunity_score = 0\n",
    "            sentiment = sample['avg_polarity']\n",
    "            opportunity_score = round(round(((cac_z+3)+(adspend_z+3)+(sentiment+1))/14, 2), 1)\n",
    "            probability_score = round(predicted[i][0], 2)\n",
    "            score = opportunity_score + probability_score\n",
    "            prediction = int(round(score/2))\n",
    "            if prediction == y_train[i]:\n",
    "                correct += 1\n",
    "                if y_train[i] == 1:\n",
    "                    tp += 1\n",
    "                else:\n",
    "                    tn += 1\n",
    "            if prediction != y_train[i]:\n",
    "                if y_train[i] == 1:\n",
    "                    fn += 1\n",
    "                else:\n",
    "                    fp += 1\n",
    "    elif validation=='test':\n",
    "        for i in range(len(x_test)):\n",
    "            sample = x_test.iloc[i]\n",
    "            cac_z = (sample['cac'] - mu_cac)/s_cac\n",
    "            adspend_z = (sample['adspend'] - mu_adspend)/s_adspend\n",
    "            if sample['adspend'] < 15000:\n",
    "                oportunity_score = 0\n",
    "            sentiment = sample['avg_polarity']\n",
    "            opportunity_score = round(round(((cac_z+3)+(adspend_z+3)+(sentiment+1))/14, 2), 1)\n",
    "            probability_score = round(predicted[i][0], 2)\n",
    "            score = opportunity_score + probability_score\n",
    "            prediction = int(round(score/2))\n",
    "            if prediction == y_test[i]:\n",
    "                correct += 1\n",
    "                if y_test[i] == 1:\n",
    "                    tp += 1\n",
    "                else:\n",
    "                    tn += 1\n",
    "            if prediction != y_test[i]:\n",
    "                if y_test[i] == 1:\n",
    "                    fn += 1\n",
    "                else:\n",
    "                    fp += 1\n",
    "    cm = np.array([[tp, fp], [fn, tn]])\n",
    "    cu, cmo, bu, bm = cbaHyros(cm, quiet=True)\n",
    "    if quiet==False:\n",
    "        print(sns.heatmap(cm, annot=True, cmap='Blues'))\n",
    "        print(cbaHyros(cm))\n",
    "    test_acc = correct/len(y_test)\n",
    "    recall = tp / (tp+fp)\n",
    "    precision = tp / (tp+fn)\n",
    "    prob_train_acc = model.score(x_train, y_train)\n",
    "    prob_test_acc = model.score(x_test, y_test)\n",
    "    return {'net_upfront': bu-cu, 'net_monthly': bm-cmo, 'test accuracy': test_acc, 'recall': recall, \n",
    "            'precision': precision, 'prob_train_acc': prob_train_acc, 'prob_test_acc': prob_test_acc}"
   ]
  },
  {
   "cell_type": "code",
   "execution_count": 49,
   "metadata": {},
   "outputs": [
    {
     "name": "stdout",
     "output_type": "stream",
     "text": [
      "net_monthly confidence interval: $-13451.031644670726 - $-2948.9683553292753\n"
     ]
    },
    {
     "data": {
      "text/plain": [
       "{'net_upfront': -40586.666666666664,\n",
       " 'net_monthly': -8200.0,\n",
       " 'test accuracy': 0.3577777777777778,\n",
       " 'recall': 0.250489417989418,\n",
       " 'precision': 0.21226190476190476,\n",
       " 'prob_train_acc': 0.8151515151515151,\n",
       " 'prob_test_acc': 0.6444444444444443}"
      ]
     },
     "execution_count": 49,
     "metadata": {},
     "output_type": "execute_result"
    }
   ],
   "source": [
    "x = df.drop(['customer'], axis='columns')\n",
    "y = df['customer']\n",
    "LRO_validated = crossValidate(leadScoringModel3, LogisticRegression(), x, y)\n",
    "LRO_validated"
   ]
  },
  {
   "cell_type": "code",
   "execution_count": 50,
   "metadata": {},
   "outputs": [
    {
     "name": "stdout",
     "output_type": "stream",
     "text": [
      "net_monthly confidence interval: $-11559.487153325537 - $-1507.1795133411288\n"
     ]
    },
    {
     "data": {
      "text/plain": [
       "{'net_upfront': -32806.666666666664,\n",
       " 'net_monthly': -6533.333333333333,\n",
       " 'test accuracy': 0.28444444444444444,\n",
       " 'recall': 0.3139718614718615,\n",
       " 'precision': 0.33795334295334295,\n",
       " 'prob_train_acc': 1.0,\n",
       " 'prob_test_acc': 0.7155555555555557}"
      ]
     },
     "execution_count": 50,
     "metadata": {},
     "output_type": "execute_result"
    }
   ],
   "source": [
    "x = df.drop(['customer'], axis='columns')\n",
    "y = df['customer']\n",
    "DTO_validated = crossValidate(leadScoringModel3, DecisionTreeClassifier(), x, y)\n",
    "DTO_validated"
   ]
  },
  {
   "cell_type": "code",
   "execution_count": 51,
   "metadata": {},
   "outputs": [
    {
     "name": "stdout",
     "output_type": "stream",
     "text": [
      "net_monthly confidence interval: $-12676.180777800048 - $-3323.8192221999516\n"
     ]
    },
    {
     "data": {
      "text/plain": [
       "{'net_upfront': -40000.0,\n",
       " 'net_monthly': -8000.0,\n",
       " 'test accuracy': 0.2333333333333333,\n",
       " 'recall': 0.24519119769119768,\n",
       " 'precision': 0.24510582010582013,\n",
       " 'prob_train_acc': 1.0,\n",
       " 'prob_test_acc': 0.777777777777778}"
      ]
     },
     "execution_count": 51,
     "metadata": {},
     "output_type": "execute_result"
    }
   ],
   "source": [
    "RFO_validated = crossValidate(leadScoringModel3, RandomForestClassifier(), x, y)\n",
    "RFO_validated"
   ]
  },
  {
   "cell_type": "code",
   "execution_count": 52,
   "metadata": {},
   "outputs": [
    {
     "name": "stdout",
     "output_type": "stream",
     "text": [
      "net_monthly confidence interval: $-9491.779278385173 - $4691.779278385174\n"
     ]
    },
    {
     "data": {
      "text/plain": [
       "{'net_upfront': -12166.666666666666,\n",
       " 'net_monthly': -2400.0,\n",
       " 'train': 0.6575757575757576,\n",
       " 'test': 0.5511111111111109,\n",
       " 'recall': 0.591536149036149,\n",
       " 'precision': 0.6088792688792689}"
      ]
     },
     "execution_count": 52,
     "metadata": {},
     "output_type": "execute_result"
    }
   ],
   "source": [
    "NNO_validated = crossValidate(offShelf, MLPClassifier(), x, y)\n",
    "NNO_validated"
   ]
  },
  {
   "cell_type": "markdown",
   "metadata": {},
   "source": [
    "interesting, there seem to be a lot of false negatives this time. In other words the model is mislabeling customers as non-customers.\n",
    "\n",
    "let's see how well it does on the training data"
   ]
  },
  {
   "cell_type": "code",
   "execution_count": 53,
   "metadata": {},
   "outputs": [
    {
     "name": "stdout",
     "output_type": "stream",
     "text": [
      "AxesSubplot(0.125,0.125;0.62x0.755)\n",
      "cost: $25900 upfront and $5000 each month going forward. benefit: $-4400 upfront and $-1000 each month going forward.\n"
     ]
    },
    {
     "data": {
      "text/plain": [
       "{'net_upfront': -30300,\n",
       " 'net_monthly': -6000,\n",
       " 'test accuracy': 0.26666666666666666,\n",
       " 'recall': 0.3333333333333333,\n",
       " 'precision': 0.375,\n",
       " 'prob_train_acc': 1.0,\n",
       " 'prob_test_acc': 0.7333333333333333}"
      ]
     },
     "execution_count": 53,
     "metadata": {},
     "output_type": "execute_result"
    },
    {
     "data": {
      "image/png": "[encoded data removed]",
      "text/plain": [
       "<Figure size 432x288 with 2 Axes>"
      ]
     },
     "metadata": {
      "needs_background": "light"
     },
     "output_type": "display_data"
    }
   ],
   "source": [
    "DTO_trained = leadScoringModel3(DecisionTreeClassifier(), x, y, quiet=False)\n",
    "DTO_trained"
   ]
  },
  {
   "cell_type": "code",
   "execution_count": 54,
   "metadata": {},
   "outputs": [
    {
     "name": "stdout",
     "output_type": "stream",
     "text": [
      "AxesSubplot(0.125,0.125;0.62x0.755)\n",
      "cost: $112200 upfront and $22000 each month going forward. benefit: $-52800 upfront and $-11000 each month going forward.\n"
     ]
    },
    {
     "data": {
      "text/plain": [
       "{'net_upfront': -165000,\n",
       " 'net_monthly': -33000,\n",
       " 'test accuracy': 0.0,\n",
       " 'recall': 0.0,\n",
       " 'precision': 0.0,\n",
       " 'prob_train_acc': 1.0,\n",
       " 'prob_test_acc': 0.7333333333333333}"
      ]
     },
     "execution_count": 54,
     "metadata": {},
     "output_type": "execute_result"
    },
    {
     "data": {
      "image/png": "[encoded data removed]",
      "text/plain": [
       "<Figure size 432x288 with 2 Axes>"
      ]
     },
     "metadata": {
      "needs_background": "light"
     },
     "output_type": "display_data"
    }
   ],
   "source": [
    "DTO_trained = leadScoringModel3(DecisionTreeClassifier(), x, y, validation='train', quiet=False)\n",
    "DTO_trained"
   ]
  },
  {
   "cell_type": "markdown",
   "metadata": {},
   "source": [
    "Same Story here, way too many false negatives! This model actually mislabled every single lead!"
   ]
  },
  {
   "cell_type": "markdown",
   "metadata": {},
   "source": [
    "# Step 3\n",
    "\n",
    "Because, overall, the DecisionTree and Random Forest suck the least I will try training these models on scaled data"
   ]
  },
  {
   "cell_type": "code",
   "execution_count": 58,
   "metadata": {},
   "outputs": [],
   "source": [
    "ss = StandardScaler().fit(X2)\n",
    "X4 = pd.DataFrame(ss.transform(X2))\n",
    "X4.columns = list(X2.columns)"
   ]
  },
  {
   "cell_type": "code",
   "execution_count": 59,
   "metadata": {},
   "outputs": [
    {
     "name": "stdout",
     "output_type": "stream",
     "text": [
      "net_monthly confidence interval: $-14410.824360823863 - $-7522.5089725094695\n"
     ]
    },
    {
     "data": {
      "text/plain": [
       "{'net_upfront': -53706.666666666664,\n",
       " 'net_monthly': -10966.666666666666,\n",
       " 'test accuracy': 0.41111111111111126,\n",
       " 'recall': 0.35277777777777786,\n",
       " 'precision': 0.07706589706589707,\n",
       " 'prob_train_acc': 1.0,\n",
       " 'prob_test_acc': 0.7311111111111113}"
      ]
     },
     "execution_count": 59,
     "metadata": {},
     "output_type": "execute_result"
    }
   ],
   "source": [
    "DT4 = crossValidate(aggregatePredictions, DecisionTreeClassifier(), X4, y2)\n",
    "DT4"
   ]
  },
  {
   "cell_type": "code",
   "execution_count": 61,
   "metadata": {},
   "outputs": [
    {
     "name": "stdout",
     "output_type": "stream",
     "text": [
      "net_monthly confidence interval: $-13181.445081225336 - $-7151.888252107996\n"
     ]
    },
    {
     "data": {
      "text/plain": [
       "{'net_upfront': -49660.0,\n",
       " 'net_monthly': -10166.666666666666,\n",
       " 'test accuracy': 0.48000000000000004,\n",
       " 'recall': 0.3444444444444444,\n",
       " 'precision': 0.08216931216931216,\n",
       " 'prob_train_acc': 1.0,\n",
       " 'prob_test_acc': 0.8155555555555558}"
      ]
     },
     "execution_count": 61,
     "metadata": {},
     "output_type": "execute_result"
    }
   ],
   "source": [
    "RF4 = crossValidate(aggregatePredictions, RandomForestClassifier(), X4, y2)\n",
    "RF4"
   ]
  },
  {
   "cell_type": "code",
   "execution_count": 65,
   "metadata": {},
   "outputs": [
    {
     "name": "stdout",
     "output_type": "stream",
     "text": [
      "net_monthly confidence interval: $-12360.388679233962 - $-1039.6113207660374\n"
     ]
    },
    {
     "data": {
      "text/plain": [
       "{'net_upfront': -33600.0,\n",
       " 'net_monthly': -6700.0,\n",
       " 'test accuracy': 0.28666666666666674,\n",
       " 'recall': 0.2946224146224146,\n",
       " 'precision': 0.31382996632996624,\n",
       " 'prob_train_acc': 1.0,\n",
       " 'prob_test_acc': 0.7066666666666667}"
      ]
     },
     "execution_count": 65,
     "metadata": {},
     "output_type": "execute_result"
    }
   ],
   "source": [
    "ss = StandardScaler().fit(x)\n",
    "X5 = pd.DataFrame(ss.transform(x))\n",
    "X5.columns = list(x)\n",
    "DTO_scaled = crossValidate(leadScoringModel3, DecisionTreeClassifier(), X5, y)\n",
    "DTO_scaled"
   ]
  },
  {
   "cell_type": "markdown",
   "metadata": {},
   "source": [
    "let's visualive the estimated monthly outcomes..."
   ]
  },
  {
   "cell_type": "code",
   "execution_count": 68,
   "metadata": {},
   "outputs": [
    {
     "data": {
      "image/png": "[encoded data removed]",
      "text/plain": [
       "<Figure size 432x288 with 1 Axes>"
      ]
     },
     "metadata": {
      "needs_background": "light"
     },
     "output_type": "display_data"
    }
   ],
   "source": [
    "dicts = [LR1, DT1, RF1, NN1, LR2, DT2, RF2, NN2, LR3, DT3, NN3, LRO_validated, DTO_validated, RFO_validated, NNO_validated, \n",
    "        DTO_trained, DT4, DTO_scaled]\n",
    "labels = ['LR1', 'DT1', 'RF1', 'NN1', 'LR2', 'DT2', 'RF2', 'NN2', 'LR3', 'DT3', 'NN3', 'LRO_validated', 'DTO_validated', \n",
    "          'RFO_validated', 'NNO_validated', 'DTO_trained', 'DT4', 'DTO_scaled']\n",
    "\n",
    "nets = []\n",
    "for d in dicts:\n",
    "    nets.append(d['net_monthly'])\n",
    "    \n",
    "plt.barh(labels, nets)\n",
    "plt.title('monthly outcome')\n",
    "plt.show()"
   ]
  },
  {
   "cell_type": "markdown",
   "metadata": {},
   "source": [
    "LR2 - the Logistic Regression model trained on the filtered dataset with opportunity included as a feature"
   ]
  },
  {
   "cell_type": "markdown",
   "metadata": {},
   "source": [
    "# Step 4\n",
    "\n",
    "It is very hard for the models to do well. Although it's not shown, the decision tree was able to get validation accuracy near 100%. However, when I implemented cross validation I was able to see that none of the models were doing well on average. Now I will find an implementation of One Shot Learning with Binary Classification. This is because the dataset is tiny.\n",
    "\n",
    "go here to see my failed implementation of one shot learning: https://github.com/spe301/Sales-Scientist/blob/main/One_Shot_Learning.ipynb"
   ]
  },
  {
   "cell_type": "code",
   "execution_count": null,
   "metadata": {},
   "outputs": [],
   "source": []
  }
 ],
 "metadata": {
  "kernelspec": {
   "display_name": "Python 3",
   "language": "python",
   "name": "python3"
  },
  "language_info": {
   "codemirror_mode": {
    "name": "ipython",
    "version": 3
   },
   "file_extension": ".py",
   "mimetype": "text/x-python",
   "name": "python",
   "nbconvert_exporter": "python",
   "pygments_lexer": "ipython3",
   "version": "3.8.5"
  }
 },
 "nbformat": 4,
 "nbformat_minor": 4
}
