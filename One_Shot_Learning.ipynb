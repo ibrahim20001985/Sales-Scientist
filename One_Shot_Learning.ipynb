{
 "cells": [
  {
   "cell_type": "code",
   "execution_count": 42,
   "metadata": {},
   "outputs": [],
   "source": [
    "import pandas as pd\n",
    "from sklearn.model_selection import train_test_split\n",
    "import numpy as np\n",
    "from tensorflow.keras import layers, models\n",
    "import random\n",
    "\n",
    "df = pd.read_csv(r'C:\\Users\\aacjp\\Sales-Scientist\\datasets\\leadsML.csv').drop(['Unnamed: 0'], axis='columns')"
   ]
  },
  {
   "cell_type": "code",
   "execution_count": 2,
   "metadata": {},
   "outputs": [],
   "source": [
    "A = df.loc[df['customer']==0]\n",
    "B = df.loc[df['customer']==1].iloc[:-1]"
   ]
  },
  {
   "cell_type": "code",
   "execution_count": 3,
   "metadata": {
    "scrolled": true
   },
   "outputs": [],
   "source": [
    "XA = np.array(A.drop(['customer'], axis='columns'))\n",
    "yA = np.array(A['customer'])\n",
    "XB = np.array(B.drop(['customer'], axis='columns'))\n",
    "yB = np.array(B['customer'])\n",
    "XA_train, XA_test, yA_train, yA_test = train_test_split(XA, yA)\n",
    "XB_train, XB_test, yB_train, yB_test = train_test_split(XB, yB)"
   ]
  },
  {
   "cell_type": "code",
   "execution_count": 33,
   "metadata": {},
   "outputs": [],
   "source": [
    "def Build(A, B): \n",
    "    model = models.Sequential()\n",
    "    model.add(layers.Dense(56, activation='relu'))\n",
    "    model.add(layers.Dense(112, activation='relu'))\n",
    "    model.add(layers.Dense(112, activation='relu'))\n",
    "    model.add(layers.Dense(224, activation='relu'))\n",
    "    model.add(layers.Dense(448, activation='sigmoid'))\n",
    "    encA = model(A)\n",
    "    encB = model(B)\n",
    "    L1 = layers.Lambda(lambda tensors:abs(tensors[0] - tensors[1]))\n",
    "    distance = L1([encA, encB])\n",
    "    prediction = layers.Dense(1, activation='sigmoid')(distance)\n",
    "    #netA = model(inputs=A,outputs=prediction)\n",
    "    #netB = model(inputs=B,outputs=prediction)\n",
    "    model.compile(loss='binary_crossentropy', optimizer='adam')\n",
    "    return model"
   ]
  },
  {
   "cell_type": "code",
   "execution_count": 34,
   "metadata": {},
   "outputs": [],
   "source": [
    "X = np.array(df.drop(['customer'], axis='columns'))\n",
    "y = np.array(df['customer'])\n",
    "model = Build(XA, XB)"
   ]
  },
  {
   "cell_type": "code",
   "execution_count": 38,
   "metadata": {},
   "outputs": [
    {
     "data": {
      "text/plain": [
       "array([1, 2, 3, 4, 5, 6])"
      ]
     },
     "execution_count": 38,
     "metadata": {},
     "output_type": "execute_result"
    }
   ],
   "source": [
    "a = np.array([1, 2, 3])\n",
    "b = np.array([4, 5, 6])\n",
    "np.concatenate((a, b))"
   ]
  },
  {
   "cell_type": "code",
   "execution_count": 85,
   "metadata": {},
   "outputs": [],
   "source": [
    "def learn(model, A, B, ay, by, k):\n",
    "    joined = np.concatenate((ay, by))\n",
    "    inputs = np.concatenate((A, B))\n",
    "    targets = np.concatenate((ay, by))\n",
    "    #for i in range(k):\n",
    "    probs = model.predict(inputs)\n",
    "    n_correct = 0\n",
    "    for i in range(len(targets)):\n",
    "        if int(probs[i].argmax()/2) == targets[i]:\n",
    "            n_correct += 1\n",
    "    return targets"
   ]
  },
  {
   "cell_type": "code",
   "execution_count": 86,
   "metadata": {},
   "outputs": [
    {
     "name": "stdout",
     "output_type": "stream",
     "text": [
      "0 0\n",
      "1 0\n",
      "1 0\n",
      "1 0\n",
      "0 0\n",
      "0 0\n",
      "0 0\n",
      "1 0\n",
      "1 0\n",
      "1 0\n",
      "0 0\n",
      "1 0\n",
      "1 0\n",
      "0 0\n",
      "1 0\n",
      "0 0\n",
      "0 0\n",
      "0 0\n",
      "0 0\n",
      "0 0\n",
      "0 0\n",
      "0 0\n",
      "0 0\n",
      "0 0\n",
      "0 0\n",
      "0 0\n",
      "0 0\n",
      "0 0\n",
      "0 0\n",
      "0 1\n",
      "0 1\n",
      "0 1\n",
      "0 1\n",
      "0 1\n",
      "1 1\n",
      "1 1\n",
      "1 1\n",
      "0 1\n",
      "0 1\n",
      "1 1\n",
      "1 1\n",
      "1 1\n",
      "0 1\n",
      "0 1\n",
      "1 1\n",
      "0 1\n",
      "0 1\n",
      "1 1\n",
      "1 1\n",
      "0 1\n",
      "1 1\n",
      "0 1\n",
      "1 1\n",
      "0 1\n",
      "1 1\n",
      "1 1\n",
      "1 1\n",
      "1 1\n"
     ]
    },
    {
     "data": {
      "text/plain": [
       "array([0, 0, 0, 0, 0, 0, 0, 0, 0, 0, 0, 0, 0, 0, 0, 0, 0, 0, 0, 0, 0, 0,\n",
       "       0, 0, 0, 0, 0, 0, 0, 1, 1, 1, 1, 1, 1, 1, 1, 1, 1, 1, 1, 1, 1, 1,\n",
       "       1, 1, 1, 1, 1, 1, 1, 1, 1, 1, 1, 1, 1, 1], dtype=int64)"
      ]
     },
     "execution_count": 86,
     "metadata": {},
     "output_type": "execute_result"
    }
   ],
   "source": [
    "learn(model, XA, XB, yA, yB, 2)"
   ]
  },
  {
   "cell_type": "code",
   "execution_count": null,
   "metadata": {},
   "outputs": [],
   "source": []
  }
 ],
 "metadata": {
  "kernelspec": {
   "display_name": "Python 3",
   "language": "python",
   "name": "python3"
  },
  "language_info": {
   "codemirror_mode": {
    "name": "ipython",
    "version": 3
   },
   "file_extension": ".py",
   "mimetype": "text/x-python",
   "name": "python",
   "nbconvert_exporter": "python",
   "pygments_lexer": "ipython3",
   "version": "3.8.5"
  }
 },
 "nbformat": 4,
 "nbformat_minor": 4
}
