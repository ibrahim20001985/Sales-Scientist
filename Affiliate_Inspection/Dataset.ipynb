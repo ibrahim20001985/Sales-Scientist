{
 "cells": [
  {
   "cell_type": "markdown",
   "metadata": {},
   "source": [
    "# Features needed...\n",
    "\n",
    "## Instagram and Twitter\n",
    "* average number of hashtags per post\n",
    "* bio mentions money (check for terms for money or money related emojis)\n",
    "* bio mentions 'business' or 'entrepreneur'\n",
    "* followers\n",
    "* following\n",
    "* average number of likes per post\n",
    "* average number of comments per post\n",
    "* has promotional links\n",
    "\n",
    "## Twitter only\n",
    "* number of retweets\n",
    "\n",
    "## User Input\n",
    "* a paragraph on why they're a good fit for the affiliate program"
   ]
  },
  {
   "cell_type": "code",
   "execution_count": null,
   "metadata": {},
   "outputs": [],
   "source": []
  }
 ],
 "metadata": {
  "kernelspec": {
   "display_name": "Python 3",
   "language": "python",
   "name": "python3"
  },
  "language_info": {
   "codemirror_mode": {
    "name": "ipython",
    "version": 3
   },
   "file_extension": ".py",
   "mimetype": "text/x-python",
   "name": "python",
   "nbconvert_exporter": "python",
   "pygments_lexer": "ipython3",
   "version": "3.8.5"
  }
 },
 "nbformat": 4,
 "nbformat_minor": 4
}
