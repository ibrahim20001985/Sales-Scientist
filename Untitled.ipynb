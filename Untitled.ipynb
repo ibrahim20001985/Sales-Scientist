{
 "cells": [
  {
   "cell_type": "code",
   "execution_count": 19,
   "metadata": {},
   "outputs": [
    {
     "data": {
      "text/plain": [
       "989"
      ]
     },
     "execution_count": 19,
     "metadata": {},
     "output_type": "execute_result"
    }
   ],
   "source": [
    "content = '''\n",
    "Write better headlines that will boost your traffic. 76\n",
    "Eliminate guesswork and outperform your competition with Headline Studio.\n",
    "Headline Studio by CoSchedule – HomescreenHeadline Studio by CoSchedule – ScorecardHeadline Studio by CoSchedule – Thesaurus\n",
    "Want people to read your content?\n",
    "They’ll start with your headline. And that’s as far as they’ll get.\n",
    "\n",
    "If your headline doesn’t convince your readers to take action, it’s meaningless.\n",
    "\n",
    "Stop wasting time on headlines that don’t drive traffic.\n",
    "Finally know how to write better headlines & drive maximum traffic.\n",
    "Quotation marks\n",
    "On average, 5x as many people read the headline as read the body copy. When you’ve written your headline, you’ve spent eighty cents out of your dollar.\n",
    "DAVID OGILVY\n",
    "Headline Studio\n",
    "brings you millions of all-new, actionable suggestions that tell you EXACTLY how to improve your headlines.\n",
    "\n",
    "Headline Studio\n",
    "Create better headlines with tons of upgraded headline recommendations, resources, and inspiration—in just one tool.\n",
    "\n",
    "And finally feel confident that every headline you write drives maximum traffic, engagement, and SEO rankings.\n",
    "\n",
    "Write better headlines guaranteed to boost your traffic.\n",
    "Quotation marks\n",
    "When I started blogging, my headlines were pretty pedestrian. With Headline Studio, they sizzle. My SEO has improved as a result.\n",
    "WILLIAM RICHARDSON\n",
    "Analyze headlines 10x faster with 5x more feedback.\n",
    "Start writing next-level headlines that actually get seen, clicked, and shared with the help of Headline Studio.\n",
    "\n",
    "stopwatch icon\n",
    "Analyze headlines 10x faster\n",
    "with an all-new, time-saving algorithm.\n",
    "\n",
    "more feedback icon\n",
    "Gain 5x more headline feedback\n",
    "with advanced analysis from thousands of data points.\n",
    "\n",
    "bar graph icon\n",
    "Outperform competing headlines\n",
    "by making changes that boost your headline score.\n",
    "\n",
    "plugin icon\n",
    "Optimize headlines on any site\n",
    "where you write them with a free browser extension.\n",
    "\n",
    "BROWSER EXTENSION\n",
    "Write and analyze side-by-side\n",
    "Download the free browser extension to use Headline Studio on any site where you write content. Seamlessly analyze your headlines right in WordPress, Wix, and more.\n",
    "\n",
    "Get the Headline Studio Browser Extension to write and analyze side-by-side.\n",
    "SCORECARD\n",
    "Score your headlines 10x faster\n",
    "Analyze more headlines, more quickly with an all-new algorithm. See which types of changes will strengthen your score based on proven data from 4+ million headlines.\n",
    "\n",
    "Score headlines 10x faster in Headline Studio's Scorecard\n",
    "HISTORY\n",
    "Revisit your past headlines\n",
    "Access a history of your past headlines. Easily find, tweak, or reuse headlines that have performed well for you.\n",
    "\n",
    "Review past headlines in Headline Studio.\n",
    "Trusted by more than 1 million marketers\n",
    "Their headlines are grabbing attention and growing results.\n",
    "What are you waiting for?\n",
    "\n",
    "Quotation marks\n",
    "GREATEST INVENTION EVER!! Yeah, I shouted that. Headline Studio has hooked more people to my blog. So, THANK YOU!\n",
    "MEL A. ROWE, BESTSELLING AUTHOR\n",
    "Quotation marks\n",
    "Even after 10 years of writing, I still get headlines wrong sometimes. Headline Studio helps ensure my headlines will work.\n",
    "LAURA PENCE ATENCIO, SOCIAL SAVVY GEEK\n",
    "Quotation marks\n",
    "I finally feel confident that I’m creating a great headline that will attract readers.\n",
    "DOMINICA MCGINNIS, BRIDGEFIELD GROUP\n",
    "As featured by\n",
    "Headline Studio has been featured by Forbes, Entrepreneur, Inc., Buffer, Convince and Convert, Spin Sucks, Copyblogger, Neil Patel, WordStream, Jeff Bullas, Smart Passive Income, Social Media Examiner, the Content Marketing Institute, and the Digital Marketing Institute.\n",
    "HEADLINE STUDIO PRO\n",
    "Want even more headline-boosting capabilities?\n",
    "Upgrade to Headline Studio Pro to unlock these Premium features tagPREMIUM features.\n",
    "SUGGESTIONS Premium feature icon\n",
    "Improve headlines with data-driven suggestions\n",
    "Instantly improve your score with smart suggestions based on millions of words. Feel confident that your headline is written to drive results.\n",
    "\n",
    "Use smart suggestions to improve your headline score in Headline Studio's Suggestions tab.\n",
    "SEO SCORE Premium feature icon\n",
    "Boost your search rankings\n",
    "Optimize your headlines for search engine results. Get SEO suggestions to help your headlines rank higher and reach a larger, more engaged audience.\n",
    "\n",
    "Outperform top-ranking headlines by comparing your headline with current search engine results in Headline Studio's Competition tab.\n",
    "KEYWORD EXPLORER Premium feature icon\n",
    "Find the best keywords\n",
    "See the detailed performance data behind each of your keywords and find out which ones will perform best in your headline.\n",
    "\n",
    "Find out which keywords will perform best in your headline\n",
    "FAVORITES Premium feature icon\n",
    "Save your favorite headlines\n",
    "Star the versions of headlines you like best. They’ll stay at the top of your list so you can easily find and pull them into your content.\n",
    "\n",
    "Star your favorite headlines in Headline Studio.\n",
    "WORD BANKS Premium feature icon\n",
    "Find high-scoring words instantly\n",
    "Access a full thesaurus and power + emotional Word Banks, right inside Headline Studio. Easily find synonyms and alternate word options to boost your score and increase engagement.\n",
    "\n",
    "Use the thesaurus to find new words, synonyms, and alternative words to increase your headline score in Headline Studio's Thesaurus.\n",
    "Start Using Headline Studio For Free\n",
    "GET STARTED FREE\n",
    "Frequently Asked Questions\n",
    "How many times can I analyze each headline?\n",
    "Headline Studio allows you to analyze up to 25 versions of each headline. When you reach your limit of versions for a headline, you can use a new headline to keep analyzing.\n",
    "\n",
    "What’s the difference between Premium Headlines and Standard Headlines?\n",
    "Premium Headlines are analyzed with premium features only available in Headline Studio Pro. Standard Headlines are analyzed with limited features in Headline Studio Free.\n",
    "\n",
    "What’s the difference between headlines and versions?\n",
    "Versions are the iterations of each headline that you reanalyze. For example, you might write and reanalyze 10 different versions of a single blog headline before moving on to a different headline for another piece of content.\n",
    "\n",
    "Can I try Headline Studio Pro before I buy?\n",
    "No, but you’ll receive 3 free Premium Headlines to try out when you start a Headline Studio Free plan.\n",
    "\n",
    "How many headlines will I need?\n",
    "That depends on how much content you write. If you write 5+ blogs each month, we recommend a higher-headline plan. If you write just a few, try a smaller plan.\n",
    "\n",
    "What if I need more than 60 headlines?\n",
    "Contact CoSchedule Support to increase your headline limit and get additional pricing information.\n",
    "\n",
    "Can I switch to a different plan?\n",
    "Yes. To switch to a different Headline Studio plan, just visit the billing page in your CoSchedule account.\n",
    "\n",
    "Will my unused headlines roll over to next month?\n",
    "No. Your headline count will automatically reset to your monthly quota at the beginning of each month.\n",
    "\n",
    "What happens if I run out of Premium Headlines?\n",
    "If you’re already in a Headline Studio Pro plan, your headline quota will reset at the beginning of the next month. If you don’t want to wait (or you’re using Headline Studio Free), upgrade your Headline Studio Pro plan.\n",
    "\n",
    "'''.lower()\n",
    "\n",
    "len(content.split(' '))"
   ]
  },
  {
   "cell_type": "code",
   "execution_count": 20,
   "metadata": {},
   "outputs": [
    {
     "data": {
      "text/plain": [
       "16"
      ]
     },
     "execution_count": 20,
     "metadata": {},
     "output_type": "execute_result"
    }
   ],
   "source": [
    "fi.triggerWords(content)"
   ]
  },
  {
   "cell_type": "code",
   "execution_count": 5,
   "metadata": {},
   "outputs": [],
   "source": [
    "fi = individualFeatures()"
   ]
  },
  {
   "cell_type": "code",
   "execution_count": 4,
   "metadata": {},
   "outputs": [],
   "source": [
    "from helpers import individualFeatures"
   ]
  },
  {
   "cell_type": "code",
   "execution_count": null,
   "metadata": {},
   "outputs": [],
   "source": []
  }
 ],
 "metadata": {
  "kernelspec": {
   "display_name": "Python 3",
   "language": "python",
   "name": "python3"
  },
  "language_info": {
   "codemirror_mode": {
    "name": "ipython",
    "version": 3
   },
   "file_extension": ".py",
   "mimetype": "text/x-python",
   "name": "python",
   "nbconvert_exporter": "python",
   "pygments_lexer": "ipython3",
   "version": "3.8.5"
  }
 },
 "nbformat": 4,
 "nbformat_minor": 4
}
